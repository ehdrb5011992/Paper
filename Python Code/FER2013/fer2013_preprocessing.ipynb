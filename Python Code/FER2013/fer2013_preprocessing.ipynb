{
 "cells": [
  {
   "cell_type": "markdown",
   "metadata": {
    "colab_type": "text",
    "id": "4RcKJVh2-bkS"
   },
   "source": [
    "# [Preprocessing]"
   ]
  },
  {
   "cell_type": "markdown",
   "metadata": {
    "colab_type": "text",
    "id": "xwpoLnKV-bkT"
   },
   "source": [
    "*KU LeeDongGyu*"
   ]
  },
  {
   "cell_type": "markdown",
   "metadata": {
    "colab_type": "text",
    "id": "Bw-mL6kh-bkU"
   },
   "source": [
    "### Install Packages"
   ]
  },
  {
   "cell_type": "code",
   "execution_count": 1,
   "metadata": {
    "colab": {
     "base_uri": "https://localhost:8080/",
     "height": 53
    },
    "colab_type": "code",
    "executionInfo": {
     "elapsed": 4645,
     "status": "ok",
     "timestamp": 1599213481918,
     "user": {
      "displayName": "‍이동규[ 대학원석사과정재학 / 통계학과 ]",
      "photoUrl": "",
      "userId": "08134145419451519269"
     },
     "user_tz": -540
    },
    "id": "u2fSyEZ3-bkV",
    "outputId": "3fe24f54-e86e-48ea-b77c-b5295612f6a5",
    "scrolled": false
   },
   "outputs": [
    {
     "name": "stdout",
     "output_type": "stream",
     "text": [
      "Note: you may need to restart the kernel to use updated packages.\n"
     ]
    },
    {
     "name": "stderr",
     "output_type": "stream",
     "text": [
      "ERROR: Invalid requirement: '#'\n",
      "WARNING: You are using pip version 20.1; however, version 20.2.2 is available.\n",
      "You should consider upgrading via the 'c:\\users\\82104\\appdata\\local\\programs\\python\\python37\\python.exe -m pip install --upgrade pip' command.\n"
     ]
    }
   ],
   "source": [
    "pip install opencv-python # cv2"
   ]
  },
  {
   "cell_type": "markdown",
   "metadata": {
    "colab_type": "text",
    "id": "rWJtCsRt-bka"
   },
   "source": [
    "### Module"
   ]
  },
  {
   "cell_type": "code",
   "execution_count": 2,
   "metadata": {
    "colab": {
     "base_uri": "https://localhost:8080/",
     "height": 127
    },
    "colab_type": "code",
    "executionInfo": {
     "elapsed": 24268,
     "status": "ok",
     "timestamp": 1599213501560,
     "user": {
      "displayName": "‍이동규[ 대학원석사과정재학 / 통계학과 ]",
      "photoUrl": "",
      "userId": "08134145419451519269"
     },
     "user_tz": -540
    },
    "id": "gqp-VV980sGl",
    "outputId": "7c8a802f-166a-456e-a4ec-9a2983187e29"
   },
   "outputs": [
    {
     "ename": "ModuleNotFoundError",
     "evalue": "No module named 'google.colab'",
     "output_type": "error",
     "traceback": [
      "\u001b[1;31m---------------------------------------------------------------------------\u001b[0m",
      "\u001b[1;31mModuleNotFoundError\u001b[0m                       Traceback (most recent call last)",
      "\u001b[1;32m<ipython-input-2-d5df0069828e>\u001b[0m in \u001b[0;36m<module>\u001b[1;34m\u001b[0m\n\u001b[1;32m----> 1\u001b[1;33m \u001b[1;32mfrom\u001b[0m \u001b[0mgoogle\u001b[0m\u001b[1;33m.\u001b[0m\u001b[0mcolab\u001b[0m \u001b[1;32mimport\u001b[0m \u001b[0mdrive\u001b[0m\u001b[1;33m\u001b[0m\u001b[1;33m\u001b[0m\u001b[0m\n\u001b[0m\u001b[0;32m      2\u001b[0m \u001b[0mdrive\u001b[0m\u001b[1;33m.\u001b[0m\u001b[0mmount\u001b[0m\u001b[1;33m(\u001b[0m\u001b[1;34m'/content/drive'\u001b[0m\u001b[1;33m)\u001b[0m\u001b[1;33m\u001b[0m\u001b[1;33m\u001b[0m\u001b[0m\n",
      "\u001b[1;31mModuleNotFoundError\u001b[0m: No module named 'google.colab'"
     ]
    }
   ],
   "source": [
    "from google.colab import drive\n",
    "drive.mount('/content/drive')"
   ]
  },
  {
   "cell_type": "code",
   "execution_count": 4,
   "metadata": {
    "colab": {
     "base_uri": "https://localhost:8080/",
     "height": 35
    },
    "colab_type": "code",
    "executionInfo": {
     "elapsed": 24234,
     "status": "ok",
     "timestamp": 1599213501563,
     "user": {
      "displayName": "‍이동규[ 대학원석사과정재학 / 통계학과 ]",
      "photoUrl": "",
      "userId": "08134145419451519269"
     },
     "user_tz": -540
    },
    "id": "0THub3H41a3j",
    "outputId": "e0e3c4c9-7257-4267-cc6f-59a009141ee5"
   },
   "outputs": [
    {
     "name": "stdout",
     "output_type": "stream",
     "text": [
      "[WinError 3] 지정된 경로를 찾을 수 없습니다: '/content/drive/My Drive/Colab Notebooks/Paper'\n",
      "C:\\Users\\82104\\Desktop\n"
     ]
    }
   ],
   "source": [
    "cd /content/drive/My Drive/Colab Notebooks/Paper"
   ]
  },
  {
   "cell_type": "code",
   "execution_count": 5,
   "metadata": {
    "colab": {},
    "colab_type": "code",
    "executionInfo": {
     "elapsed": 25460,
     "status": "ok",
     "timestamp": 1599213502802,
     "user": {
      "displayName": "‍이동규[ 대학원석사과정재학 / 통계학과 ]",
      "photoUrl": "",
      "userId": "08134145419451519269"
     },
     "user_tz": -540
    },
    "id": "0GErzqBT-bka"
   },
   "outputs": [],
   "source": [
    "import pandas as pd\n",
    "import numpy as np\n",
    "import os\n",
    "import matplotlib.pyplot as plt\n",
    "import cv2 # pip install opencv-python\n",
    "import os\n",
    "import sys\n",
    "import matplotlib.pyplot as plt\n",
    "import copy\n",
    "from imp import reload\n",
    "from PIL import Image #pip install image\n",
    "import glob"
   ]
  },
  {
   "cell_type": "markdown",
   "metadata": {
    "colab_type": "text",
    "id": "D7ikKZZJ-bkd"
   },
   "source": [
    "## 1. Data Import\n",
    "---"
   ]
  },
  {
   "cell_type": "code",
   "execution_count": 6,
   "metadata": {
    "colab": {
     "base_uri": "https://localhost:8080/",
     "height": 448
    },
    "colab_type": "code",
    "executionInfo": {
     "elapsed": 25461,
     "status": "error",
     "timestamp": 1599213502816,
     "user": {
      "displayName": "‍이동규[ 대학원석사과정재학 / 통계학과 ]",
      "photoUrl": "",
      "userId": "08134145419451519269"
     },
     "user_tz": -540
    },
    "id": "S27-lTpu-bke",
    "outputId": "69c94fb7-92ae-4a5c-f2f7-4f480a3df46d"
   },
   "outputs": [
    {
     "name": "stdout",
     "output_type": "stream",
     "text": [
      "   emotion                                             pixels     Usage\n",
      "0        0  70 80 82 72 58 58 60 63 54 58 60 48 89 115 121...  Training\n",
      "1        0  151 150 147 155 148 133 111 140 170 174 182 15...  Training\n",
      "2        2  231 212 156 164 174 138 161 173 182 200 106 38...  Training\n",
      "3        4  24 32 36 30 32 23 19 20 30 41 21 22 32 34 21 1...  Training\n",
      "4        6  4 0 0 0 0 0 0 0 0 0 0 0 3 15 23 28 48 50 58 84...  Training\n"
     ]
    }
   ],
   "source": [
    "data = pd.read_csv('C:/Users/82104/Desktop/fer2013/fer2013.csv', header=0,index_col=None)\n",
    "#data = np.loadtxt('C:/Users/82104/Desktop/fer2013/fer2013.csv',delimiter=',',dtype=np.str)\n",
    "#data = np.genfromtxt('C:/Users/82104/Desktop/fer2013/fer2013.csv',delimiter=',',dtype=None)\n",
    "print(data.head())\n"
   ]
  },
  {
   "cell_type": "markdown",
   "metadata": {
    "colab_type": "text",
    "id": "BmvrrWRN-bkh"
   },
   "source": [
    "## 2. Data Summary\n",
    "---"
   ]
  },
  {
   "cell_type": "code",
   "execution_count": 7,
   "metadata": {
    "colab": {},
    "colab_type": "code",
    "executionInfo": {
     "elapsed": 25436,
     "status": "aborted",
     "timestamp": 1599213502804,
     "user": {
      "displayName": "‍이동규[ 대학원석사과정재학 / 통계학과 ]",
      "photoUrl": "",
      "userId": "08134145419451519269"
     },
     "user_tz": -540
    },
    "id": "dBuZWXKc-bki"
   },
   "outputs": [
    {
     "name": "stdout",
     "output_type": "stream",
     "text": [
      "       emotion                                             pixels     Usage\n",
      "28704        2  84 85 85 85 85 85 85 85 86 86 86 87 86 86 91 9...  Training\n",
      "28705        0  114 112 113 113 111 111 112 113 115 113 114 11...  Training\n",
      "28706        4  74 81 87 89 95 100 98 93 105 120 127 133 146 1...  Training\n",
      "28707        0  222 227 203 90 86 90 84 77 94 87 99 119 134 14...  Training\n",
      "28708        4  195 199 205 206 205 203 206 209 208 210 212 21...  Training\n",
      "       emotion                                             pixels       Usage\n",
      "32293        4  178 176 172 173 173 174 176 173 166 166 206 22...  PublicTest\n",
      "32294        3  25 34 42 44 42 47 57 59 59 58 54 51 50 56 63 6...  PublicTest\n",
      "32295        4  255 255 255 255 255 255 255 255 255 255 255 25...  PublicTest\n",
      "32296        4  33 25 31 36 36 42 69 103 132 163 175 183 187 1...  PublicTest\n",
      "32297        4  61 63 59 75 151 159 166 161 143 170 127 131 18...  PublicTest\n",
      "       emotion                                             pixels        Usage\n",
      "35882        6  50 36 17 22 23 29 33 39 34 37 37 37 39 43 48 5...  PrivateTest\n",
      "35883        3  178 174 172 173 181 188 191 194 196 199 200 20...  PrivateTest\n",
      "35884        0  17 17 16 23 28 22 19 17 25 26 20 24 31 19 27 9...  PrivateTest\n",
      "35885        3  30 28 28 29 31 30 42 68 79 81 77 67 67 71 63 6...  PrivateTest\n",
      "35886        2  19 13 14 12 13 16 21 33 50 57 71 84 97 108 122...  PrivateTest\n"
     ]
    }
   ],
   "source": [
    "## 2.1 data split\n",
    "## 0 : Anger , 1 : Disgust , 2 : Fear , 3 : Happiness , 4 : Sadness , 5 : Surprise , 6 : Neutral\n",
    "names = {0:'Anger', 1:'Disgust', 2:'Fear', 3:'Happiness', 4:'Sadness', 5:'Surprise', 6:'Neutral'}\n",
    "\n",
    "data_train = data.iloc[list(data['Usage']=='Training'),:] ; print(data_train.tail())\n",
    "data_public_test = data.iloc[list(data['Usage']=='PublicTest'),:] ; print(data_public_test.tail())\n",
    "data_private_test = data.iloc[list(data['Usage']=='PrivateTest'),:] ; print(data_private_test.tail())\n"
   ]
  },
  {
   "cell_type": "code",
   "execution_count": 8,
   "metadata": {
    "colab": {},
    "colab_type": "code",
    "executionInfo": {
     "elapsed": 25425,
     "status": "aborted",
     "timestamp": 1599213502806,
     "user": {
      "displayName": "‍이동규[ 대학원석사과정재학 / 통계학과 ]",
      "photoUrl": "",
      "userId": "08134145419451519269"
     },
     "user_tz": -540
    },
    "id": "Ns4IEjcj-bkl"
   },
   "outputs": [
    {
     "name": "stdout",
     "output_type": "stream",
     "text": [
      "Happiness    8989\n",
      "Neutral      6198\n",
      "Sadness      6077\n",
      "Fear         5121\n",
      "Anger        4953\n",
      "Surprise     4002\n",
      "Disgust       547\n",
      "dtype: int64\n",
      "\n",
      "Total: 35887\n"
     ]
    }
   ],
   "source": [
    "## 2.2 the number of labels\n",
    "\n",
    "### 2.2.1 total\n",
    "y_total = data.iloc[:,0:1].values.flatten()\n",
    "count_total = pd.value_counts(y_total, sort=True)\n",
    "count_total = count_total.rename(index=names)\n",
    "print(count_total) ; print(\"\\nTotal:\",sum(count_total))"
   ]
  },
  {
   "cell_type": "code",
   "execution_count": 9,
   "metadata": {
    "colab": {},
    "colab_type": "code",
    "executionInfo": {
     "elapsed": 25405,
     "status": "aborted",
     "timestamp": 1599213502808,
     "user": {
      "displayName": "‍이동규[ 대학원석사과정재학 / 통계학과 ]",
      "photoUrl": "",
      "userId": "08134145419451519269"
     },
     "user_tz": -540
    },
    "id": "HfNRofYu-bko"
   },
   "outputs": [
    {
     "name": "stdout",
     "output_type": "stream",
     "text": [
      "Happiness    7215\n",
      "Neutral      4965\n",
      "Sadness      4830\n",
      "Fear         4097\n",
      "Anger        3995\n",
      "Surprise     3171\n",
      "Disgust       436\n",
      "dtype: int64\n",
      "\n",
      "Train: 28709\n"
     ]
    }
   ],
   "source": [
    "### 2.2.2 train\n",
    "y_train = data_train.iloc[:,0:1].values.flatten()\n",
    "count_train = pd.value_counts(y_train, sort=True)\n",
    "count_train = count_train.rename(index=names)\n",
    "print(count_train) ; print(\"\\nTrain:\",sum(count_train))"
   ]
  },
  {
   "cell_type": "code",
   "execution_count": 10,
   "metadata": {
    "colab": {},
    "colab_type": "code",
    "executionInfo": {
     "elapsed": 25391,
     "status": "aborted",
     "timestamp": 1599213502813,
     "user": {
      "displayName": "‍이동규[ 대학원석사과정재학 / 통계학과 ]",
      "photoUrl": "",
      "userId": "08134145419451519269"
     },
     "user_tz": -540
    },
    "id": "QbcESa5o-bkr"
   },
   "outputs": [
    {
     "name": "stdout",
     "output_type": "stream",
     "text": [
      "Happiness    879\n",
      "Neutral      626\n",
      "Sadness      594\n",
      "Fear         528\n",
      "Anger        491\n",
      "Surprise     416\n",
      "Disgust       55\n",
      "dtype: int64\n",
      "\n",
      "Private test: 3589\n"
     ]
    }
   ],
   "source": [
    "### 2.2.3 private_test\n",
    "y_private_test = data_private_test.iloc[:,0:1].values.flatten()\n",
    "count_private_test = pd.value_counts(y_private_test, sort=True)\n",
    "count_private_test = count_private_test.rename(index=names)\n",
    "print(count_private_test) ; print(\"\\nPrivate test:\",sum(count_private_test))"
   ]
  },
  {
   "cell_type": "code",
   "execution_count": 11,
   "metadata": {
    "colab": {},
    "colab_type": "code",
    "executionInfo": {
     "elapsed": 25371,
     "status": "aborted",
     "timestamp": 1599213502814,
     "user": {
      "displayName": "‍이동규[ 대학원석사과정재학 / 통계학과 ]",
      "photoUrl": "",
      "userId": "08134145419451519269"
     },
     "user_tz": -540
    },
    "id": "kGm-hP_V-bku"
   },
   "outputs": [
    {
     "name": "stdout",
     "output_type": "stream",
     "text": [
      "Happiness    895\n",
      "Sadness      653\n",
      "Neutral      607\n",
      "Fear         496\n",
      "Anger        467\n",
      "Surprise     415\n",
      "Disgust       56\n",
      "dtype: int64\n",
      "\n",
      "Public test 3589\n"
     ]
    }
   ],
   "source": [
    "### 2.2.4 public_test\n",
    "y_public_test = data_public_test.iloc[:,0:1].values.flatten()\n",
    "count_public_test = pd.value_counts(y_public_test, sort=True)\n",
    "count_public_test = count_public_test.rename(index=names)\n",
    "print(count_public_test) ; print(\"\\nPublic test\",sum(count_public_test))"
   ]
  },
  {
   "cell_type": "code",
   "execution_count": 12,
   "metadata": {
    "colab": {},
    "colab_type": "code",
    "id": "SYkFkI0L-bkx",
    "outputId": "a8401f6b-c6ec-4543-eaf4-60a794c6f4f9"
   },
   "outputs": [
    {
     "data": {
      "image/png": "[encoded data removed]",
      "text/plain": [
       "<Figure size 432x288 with 1 Axes>"
      ]
     },
     "metadata": {},
     "output_type": "display_data"
    }
   ],
   "source": [
    "## 2.3 pie plot\n",
    "\n",
    "### 2.3.1 total\n",
    "labels_total = count_total.index\n",
    "sizes_total = count_total.values\n",
    "fig1, ax1 = plt.subplots()\n",
    "ax1.pie(sizes_total, labels=labels_total, autopct='%1.2f%%', shadow=False, startangle=90)\n",
    "ax1.set_title('Total',fontsize=30)\n",
    "plt.show()"
   ]
  },
  {
   "cell_type": "code",
   "execution_count": 13,
   "metadata": {
    "colab": {},
    "colab_type": "code",
    "id": "k8DaGRhl-bk0",
    "outputId": "c6fd4738-80ae-4916-ae33-33c31a6892e5"
   },
   "outputs": [
    {
     "data": {
      "image/png": "[encoded data removed]",
      "text/plain": [
       "<Figure size 432x288 with 1 Axes>"
      ]
     },
     "metadata": {},
     "output_type": "display_data"
    }
   ],
   "source": [
    "### 2.3.2 train\n",
    "labels_train = count_train.index\n",
    "sizes_train = count_train.values\n",
    "fig2, ax2 = plt.subplots()\n",
    "ax2.pie(sizes_train, labels=labels_train, autopct='%1.2f%%', shadow=False, startangle=90)\n",
    "ax2.set_title('Train',fontsize=30)\n",
    "plt.show()"
   ]
  },
  {
   "cell_type": "code",
   "execution_count": 14,
   "metadata": {
    "colab": {},
    "colab_type": "code",
    "id": "a7SVY6Lt-bk3",
    "outputId": "1cb10e8e-b22c-4c57-da6c-a3f7e28a3f90"
   },
   "outputs": [
    {
     "data": {
      "image/png": "[encoded data removed]",
      "text/plain": [
       "<Figure size 432x288 with 1 Axes>"
      ]
     },
     "metadata": {},
     "output_type": "display_data"
    }
   ],
   "source": [
    "### 2.3.3 private_test\n",
    "labels_private_test = count_private_test.index\n",
    "sizes_private_test = count_private_test.values\n",
    "fig3, ax3 = plt.subplots()\n",
    "ax3.pie(sizes_private_test, labels=labels_private_test, autopct='%1.2f%%', shadow=False, startangle=90)\n",
    "ax3.set_title('Private Test',fontsize=30)\n",
    "plt.show()"
   ]
  },
  {
   "cell_type": "code",
   "execution_count": 15,
   "metadata": {
    "colab": {},
    "colab_type": "code",
    "id": "KLzO4h2b-bk6",
    "outputId": "3950e073-fb8d-4873-a9ed-4548a1e112ec"
   },
   "outputs": [
    {
     "data": {
      "image/png": "[encoded data removed]",
      "text/plain": [
       "<Figure size 432x288 with 1 Axes>"
      ]
     },
     "metadata": {},
     "output_type": "display_data"
    }
   ],
   "source": [
    "### 2.3.4 public_test\n",
    "labels_public_test = count_public_test.index\n",
    "sizes_public_test = count_public_test.values\n",
    "fig4, ax4 = plt.subplots()\n",
    "ax4.pie(sizes_public_test, labels=labels_public_test, autopct='%1.2f%%', shadow=False, startangle=90)\n",
    "ax4.set_title('Public Test',fontsize=30)\n",
    "plt.show()"
   ]
  },
  {
   "cell_type": "markdown",
   "metadata": {
    "colab_type": "text",
    "id": "vat5l8-O-bk9"
   },
   "source": [
    "## 3. Data Handling\n",
    "---"
   ]
  },
  {
   "cell_type": "code",
   "execution_count": null,
   "metadata": {
    "colab": {},
    "colab_type": "code",
    "id": "AjCWFwp--bk9",
    "outputId": "4855aec8-1107-4639-ea19-92b07db11fc0"
   },
   "outputs": [
    {
     "name": "stdout",
     "output_type": "stream",
     "text": [
      "the number of black pictures in training data : 11\n",
      "the number of black pictures in private test data : 0\n",
      "the number of black pictures in public test data : 1\n"
     ]
    }
   ],
   "source": [
    "# -*-coding: UTF-8 -*-\n",
    "image_buffer =data['pixels']\n",
    "images = np.array([np.fromstring(image, np.uint8, sep=' ') for image in image_buffer])\n",
    "\n",
    "X_train = images[list(data['Usage']=='Training'),:].reshape(28709,48,48)\n",
    "X_private_test = images[list(data['Usage']=='PrivateTest'),:].reshape(3589,48,48)\n",
    "X_public_test = images[list(data['Usage']=='PublicTest'),:].reshape(3589,48,48)\n",
    "\n",
    "print(\"the number of black pictures in training data :\", sum(images[list(data['Usage']=='Training'),:].sum(axis=1) == 0) ) \n",
    "print(\"the number of black pictures in private test data :\", sum(images[list(data['Usage']=='PrivateTest'),:].sum(axis=1) == 0 ) )\n",
    "print('the number of black pictures in public test data :', sum(images[list(data['Usage']=='PublicTest'),:].sum(axis=1) == 0 ) ) \n"
   ]
  },
  {
   "cell_type": "code",
   "execution_count": null,
   "metadata": {
    "colab": {},
    "colab_type": "code",
    "id": "3xtxEiB2-blA"
   },
   "outputs": [],
   "source": [
    "# finally, you can check the real dataset you will use below.\n",
    "data = data.drop(np.where(images.sum(axis=1)==0 )[0])\n",
    "y = data['emotion']\n",
    "X = np.delete(images, np.where(images.sum(axis=1)==0 )[0] , axis=0 ).reshape(-1,48,48)"
   ]
  },
  {
   "cell_type": "code",
   "execution_count": null,
   "metadata": {
    "colab": {},
    "colab_type": "code",
    "id": "0yY2Zfnw-blD"
   },
   "outputs": [],
   "source": [
    "ex =X.reshape(-1,48,48,1)"
   ]
  },
  {
   "cell_type": "code",
   "execution_count": null,
   "metadata": {
    "colab": {},
    "colab_type": "code",
    "id": "nld4FJn_-blF"
   },
   "outputs": [],
   "source": [
    "ch_1 = copy.deepcopy(ex)\n",
    "ch_2 = copy.deepcopy(ex)"
   ]
  },
  {
   "cell_type": "code",
   "execution_count": null,
   "metadata": {
    "colab": {},
    "colab_type": "code",
    "id": "Jn7XnxM0-blI"
   },
   "outputs": [],
   "source": [
    "temp = np.append(ex,ch_1,axis=3)\n",
    "X = np.append(temp,ch_2,axis=3)"
   ]
  },
  {
   "cell_type": "code",
   "execution_count": null,
   "metadata": {
    "colab": {},
    "colab_type": "code",
    "id": "Dg8qY0gW-blL",
    "outputId": "4ed0d364-325d-4bd9-d40e-2d50fdd6ceab"
   },
   "outputs": [
    {
     "data": {
      "text/plain": [
       "(35875, 48, 48, 3)"
      ]
     },
     "execution_count": 14,
     "metadata": {
      "tags": []
     },
     "output_type": "execute_result"
    }
   ],
   "source": [
    "X.shape"
   ]
  },
  {
   "cell_type": "code",
   "execution_count": null,
   "metadata": {
    "colab": {},
    "colab_type": "code",
    "id": "B_DjsTMH-blN",
    "outputId": "3ec00ea2-354e-45ca-e717-793319c1c6ae"
   },
   "outputs": [
    {
     "data": {
      "text/plain": [
       "<matplotlib.image.AxesImage at 0x1df971d80f0>"
      ]
     },
     "execution_count": 15,
     "metadata": {
      "tags": []
     },
     "output_type": "execute_result"
    },
    {
     "data": {
      "image/png": "[encoded data removed]",
      "text/plain": [
       "<Figure size 432x288 with 1 Axes>"
      ]
     },
     "metadata": {
      "needs_background": "light",
      "tags": []
     },
     "output_type": "display_data"
    }
   ],
   "source": [
    "plt.imshow(images[0].reshape(48,48)) # rgb depth가 1일 때 "
   ]
  },
  {
   "cell_type": "code",
   "execution_count": null,
   "metadata": {
    "colab": {},
    "colab_type": "code",
    "id": "_1WFHror-blQ",
    "outputId": "b90e8632-7bd6-4a0c-e761-7f1400818da1"
   },
   "outputs": [
    {
     "data": {
      "text/plain": [
       "<matplotlib.image.AxesImage at 0x1df97273860>"
      ]
     },
     "execution_count": 16,
     "metadata": {
      "tags": []
     },
     "output_type": "execute_result"
    },
    {
     "data": {
      "image/png": "[encoded data removed]",
      "text/plain": [
       "<Figure size 432x288 with 1 Axes>"
      ]
     },
     "metadata": {
      "needs_background": "light",
      "tags": []
     },
     "output_type": "display_data"
    }
   ],
   "source": [
    "plt.imshow(X[0]) # rgb depth가 3일 때"
   ]
  },
  {
   "cell_type": "code",
   "execution_count": null,
   "metadata": {
    "colab": {},
    "colab_type": "code",
    "id": "nfldvP_v-blS"
   },
   "outputs": [],
   "source": [
    "X_train = X[list(data['Usage']=='Training'),:]\n",
    "X_private_test = X[list(data['Usage']=='PrivateTest'),:]\n",
    "X_public_test = X[list(data['Usage']=='PublicTest'),:]\n",
    "\n",
    "y_train = y[list(data['Usage']=='Training')]\n",
    "y_private_test = y[list(data['Usage']=='PrivateTest')]\n",
    "y_public_test = y[list(data['Usage']=='PublicTest')]"
   ]
  },
  {
   "cell_type": "code",
   "execution_count": null,
   "metadata": {
    "colab": {},
    "colab_type": "code",
    "id": "Ncif6LQr-blU",
    "outputId": "678094c8-13b7-4d09-e64e-772a4263d5bb"
   },
   "outputs": [
    {
     "name": "stdout",
     "output_type": "stream",
     "text": [
      "X_train.shape: (28698, 48, 48, 3)\n",
      "X_private_test.shape: (3589, 48, 48, 3)\n",
      "X_public_test.shape: (3588, 48, 48, 3)\n"
     ]
    }
   ],
   "source": [
    "print(\"X_train.shape:\",X_train.shape) \n",
    "print(\"X_private_test.shape:\",X_private_test.shape)\n",
    "print(\"X_public_test.shape:\",X_public_test.shape)"
   ]
  },
  {
   "cell_type": "markdown",
   "metadata": {
    "colab_type": "text",
    "id": "og_5_lbt-blb"
   },
   "source": [
    "## 4. Data Save\n",
    "---"
   ]
  },
  {
   "cell_type": "code",
   "execution_count": null,
   "metadata": {
    "colab": {},
    "colab_type": "code",
    "id": "Yd0wJSAb-blc"
   },
   "outputs": [],
   "source": [
    "os.getcwd()\n",
    "os.chdir(\"C:\\\\Users\\\\82104\\\\Desktop\\\\fer2013\\\\mydata\")"
   ]
  },
  {
   "cell_type": "code",
   "execution_count": null,
   "metadata": {
    "colab": {},
    "colab_type": "code",
    "id": "FWp06kxo-blf"
   },
   "outputs": [],
   "source": [
    "X_train_save = X_train.reshape(-1,48*48*3)\n",
    "X_private_test_save = X_private_test.reshape(-1,48*48*3)\n",
    "X_public_test_save = X_public_test.reshape(-1,48*48*3)"
   ]
  },
  {
   "cell_type": "code",
   "execution_count": null,
   "metadata": {
    "colab": {},
    "colab_type": "code",
    "id": "Nzri8Q_B-blj"
   },
   "outputs": [],
   "source": [
    "X_train_save = pd.DataFrame(X_train_save)\n",
    "X_private_test_save = pd.DataFrame(X_private_test_save)\n",
    "X_public_test_save = pd.DataFrame(X_public_test_save)"
   ]
  },
  {
   "cell_type": "code",
   "execution_count": null,
   "metadata": {
    "colab": {},
    "colab_type": "code",
    "id": "bGd9BeI5-bll"
   },
   "outputs": [],
   "source": [
    "y_train_save = pd.DataFrame(y_train)\n",
    "y_private_test_save = pd.DataFrame(y_private_test)\n",
    "y_public_test_save = pd.DataFrame(y_public_test)"
   ]
  },
  {
   "cell_type": "code",
   "execution_count": null,
   "metadata": {
    "colab": {},
    "colab_type": "code",
    "id": "ES9GTn50-bln"
   },
   "outputs": [],
   "source": [
    "# save\n",
    "X_train_save.to_csv(\"X_train.csv\")\n",
    "X_private_test_save.to_csv(\"X_private_test.csv\")\n",
    "X_public_test_save.to_csv(\"X_public_test.csv\")\n",
    "y_train_save.to_csv(\"y_train.csv\")\n",
    "y_private_test_save.to_csv(\"y_private_test.csv\")\n",
    "y_public_test_save.to_csv(\"y_public_test.csv\")"
   ]
  },
  {
   "cell_type": "markdown",
   "metadata": {
    "colab_type": "text",
    "id": "u1TPuvi9-blq"
   },
   "source": [
    "## 5. Image Showing & Handling\n",
    "---"
   ]
  },
  {
   "cell_type": "code",
   "execution_count": null,
   "metadata": {
    "colab": {},
    "colab_type": "code",
    "id": "W2pWnZte-blq"
   },
   "outputs": [],
   "source": [
    "data = np.loadtxt('C:/Users/82104/Desktop/fer2013/fer2013.csv',delimiter=',',dtype=np.str)"
   ]
  },
  {
   "cell_type": "code",
   "execution_count": null,
   "metadata": {
    "colab": {},
    "colab_type": "code",
    "id": "n7VRx6mG-blt"
   },
   "outputs": [],
   "source": [
    "## 5.1 image converting\n",
    "\n",
    "usage = data[1:,2] # 안되면, usage = data.iloc[:,0:1].values.flatten()\n",
    "dataset = zip(images, usage) # the 'images' variable is in [3. data handling]\n",
    "for i, d in enumerate(dataset):\n",
    "    img = d[0].reshape((48,48))\n",
    "    img_name = '%08d.jpg' %i\n",
    "    img_path = os.path.join('C:/Users/82104/Desktop/fer2013/all_images', img_name)\n",
    "    cv2.imwrite(img_path, img)"
   ]
  },
  {
   "cell_type": "code",
   "execution_count": null,
   "metadata": {
    "colab": {
     "base_uri": "https://localhost:8080/",
     "height": 208
    },
    "colab_type": "code",
    "executionInfo": {
     "elapsed": 63953,
     "status": "error",
     "timestamp": 1597994174815,
     "user": {
      "displayName": "‍이동규[ 대학원석사과정재학 / 통계학과 ]",
      "photoUrl": "",
      "userId": "08134145419451519269"
     },
     "user_tz": -540
    },
    "id": "XB1Le4uS-blv",
    "outputId": "b415c4ab-2955-4e70-e624-6d89ee5fb476"
   },
   "outputs": [
    {
     "ename": "KeyboardInterrupt",
     "evalue": "ignored",
     "output_type": "error",
     "traceback": [
      "\u001b[0;31m---------------------------------------------------------------------------\u001b[0m",
      "\u001b[0;31mKeyboardInterrupt\u001b[0m                         Traceback (most recent call last)",
      "\u001b[0;32m<ipython-input-9-fd629049b683>\u001b[0m in \u001b[0;36m<module>\u001b[0;34m()\u001b[0m\n\u001b[1;32m      6\u001b[0m \u001b[0mimg5\u001b[0m\u001b[0;34m=\u001b[0m\u001b[0mcv2\u001b[0m\u001b[0;34m.\u001b[0m\u001b[0mimread\u001b[0m\u001b[0;34m(\u001b[0m\u001b[0mos\u001b[0m\u001b[0;34m.\u001b[0m\u001b[0mgetcwd\u001b[0m\u001b[0;34m(\u001b[0m\u001b[0;34m)\u001b[0m\u001b[0;34m+\u001b[0m\u001b[0;34m\"/FER/No_GAN/data/train/4/00000054.jpg\"\u001b[0m\u001b[0;34m)\u001b[0m\u001b[0;34m\u001b[0m\u001b[0;34m\u001b[0m\u001b[0m\n\u001b[1;32m      7\u001b[0m \u001b[0mimg6\u001b[0m\u001b[0;34m=\u001b[0m\u001b[0mcv2\u001b[0m\u001b[0;34m.\u001b[0m\u001b[0mimread\u001b[0m\u001b[0;34m(\u001b[0m\u001b[0mos\u001b[0m\u001b[0;34m.\u001b[0m\u001b[0mgetcwd\u001b[0m\u001b[0;34m(\u001b[0m\u001b[0;34m)\u001b[0m\u001b[0;34m+\u001b[0m\u001b[0;34m\"/FER/No_GAN/data/train/5/00000160.jpg\"\u001b[0m\u001b[0;34m)\u001b[0m\u001b[0;34m\u001b[0m\u001b[0;34m\u001b[0m\u001b[0m\n\u001b[0;32m----> 8\u001b[0;31m \u001b[0mimg7\u001b[0m\u001b[0;34m=\u001b[0m\u001b[0mcv2\u001b[0m\u001b[0;34m.\u001b[0m\u001b[0mimread\u001b[0m\u001b[0;34m(\u001b[0m\u001b[0mos\u001b[0m\u001b[0;34m.\u001b[0m\u001b[0mgetcwd\u001b[0m\u001b[0;34m(\u001b[0m\u001b[0;34m)\u001b[0m\u001b[0;34m+\u001b[0m\u001b[0;34m\"/FER/No_GAN/data/train/6/00000035.jpg\"\u001b[0m\u001b[0;34m)\u001b[0m\u001b[0;34m\u001b[0m\u001b[0;34m\u001b[0m\u001b[0m\n\u001b[0m",
      "\u001b[0;31mKeyboardInterrupt\u001b[0m: "
     ]
    }
   ],
   "source": [
    "## 5.2 48 X 48 images with 5 examples\n",
    "img1=cv2.imread(os.getcwd()+\"/FER/No_GAN/data/train/0/00000022.jpg\")\n",
    "img2=cv2.imread(os.getcwd()+\"/FER/No_GAN/data/train/1/00000416.jpg\")\n",
    "img3=cv2.imread(os.getcwd()+\"/FER/No_GAN/data/train/2/00000021.jpg\")\n",
    "img4=cv2.imread(os.getcwd()+\"/FER/No_GAN/data/train/3/00000014.jpg\")\n",
    "img5=cv2.imread(os.getcwd()+\"/FER/No_GAN/data/train/4/00000054.jpg\")\n",
    "img6=cv2.imread(os.getcwd()+\"/FER/No_GAN/data/train/5/00000160.jpg\")\n",
    "img7=cv2.imread(os.getcwd()+\"/FER/No_GAN/data/train/6/00000035.jpg\")"
   ]
  },
  {
   "cell_type": "code",
   "execution_count": null,
   "metadata": {
    "colab": {
     "base_uri": "https://localhost:8080/",
     "height": 90
    },
    "colab_type": "code",
    "executionInfo": {
     "elapsed": 1570,
     "status": "ok",
     "timestamp": 1597994201407,
     "user": {
      "displayName": "‍이동규[ 대학원석사과정재학 / 통계학과 ]",
      "photoUrl": "",
      "userId": "08134145419451519269"
     },
     "user_tz": -540
    },
    "id": "o7UbqlqA-bly",
    "outputId": "6239e9fa-3494-44a6-afc1-3a4751f3ff6f"
   },
   "outputs": [
    {
     "data": {
      "text/plain": [
       "(-0.5, 47.5, 47.5, -0.5)"
      ]
     },
     "execution_count": 12,
     "metadata": {
      "tags": []
     },
     "output_type": "execute_result"
    },
    {
     "data": {
      "image/png": "[encoded data removed]",
      "text/plain": [
       "<Figure size 432x288 with 7 Axes>"
      ]
     },
     "metadata": {
      "needs_background": "light",
      "tags": []
     },
     "output_type": "display_data"
    }
   ],
   "source": [
    "plt.subplot(1, 7, 1) ; plt.imshow(img1) ; plt.axis('off')\n",
    "plt.subplot(1, 7, 2) ; plt.imshow(img2) ; plt.axis('off')\n",
    "plt.subplot(1, 7, 3) ; plt.imshow(img3) ; plt.axis('off')\n",
    "plt.subplot(1, 7, 4) ; plt.imshow(img4) ; plt.axis('off')\n",
    "plt.subplot(1, 7, 5) ; plt.imshow(img5) ; plt.axis('off')\n",
    "plt.subplot(1, 7, 6) ; plt.imshow(img6) ; plt.axis('off')\n",
    "plt.subplot(1, 7, 7) ; plt.imshow(img7) ; plt.axis('off')"
   ]
  },
  {
   "cell_type": "code",
   "execution_count": null,
   "metadata": {
    "colab": {},
    "colab_type": "code",
    "id": "DMvg1ORn-bl0"
   },
   "outputs": [],
   "source": [
    "## 5.3 256 X 256 images with 5 examples\n",
    "zoom1 = cv2.resize(img1, (256, 256), interpolation=cv2.INTER_CUBIC)\n",
    "zoom2 = cv2.resize(img2, (256, 256), interpolation=cv2.INTER_CUBIC)\n",
    "zoom3 = cv2.resize(img3, (256, 256), interpolation=cv2.INTER_CUBIC)\n",
    "zoom4 = cv2.resize(img4, (256, 256), interpolation=cv2.INTER_CUBIC)\n",
    "zoom5 = cv2.resize(img5, (256, 256), interpolation=cv2.INTER_CUBIC)\n",
    "zoom6 = cv2.resize(img6, (256, 256), interpolation=cv2.INTER_CUBIC)\n",
    "zoom7 = cv2.resize(img7, (256, 256), interpolation=cv2.INTER_CUBIC)\n"
   ]
  },
  {
   "cell_type": "code",
   "execution_count": null,
   "metadata": {
    "colab": {},
    "colab_type": "code",
    "id": "UDyz1v3j-bl2",
    "outputId": "8afd6dfb-2fb5-4a4b-a571-411f52b8e183"
   },
   "outputs": [
    {
     "data": {
      "text/plain": [
       "(-0.5, 255.5, 255.5, -0.5)"
      ]
     },
     "execution_count": 21,
     "metadata": {
      "tags": []
     },
     "output_type": "execute_result"
    },
    {
     "data": {
      "image/png": "[encoded data removed]",
      "text/plain": [
       "<Figure size 432x288 with 7 Axes>"
      ]
     },
     "metadata": {
      "needs_background": "light",
      "tags": []
     },
     "output_type": "display_data"
    }
   ],
   "source": [
    "#size up\n",
    "\n",
    "plt.subplot(1, 7, 1) ; plt.imshow(zoom1) ; plt.axis('off')\n",
    "plt.subplot(1, 7, 2) ; plt.imshow(zoom2) ; plt.axis('off')\n",
    "plt.subplot(1, 7, 3) ; plt.imshow(zoom3) ; plt.axis('off')\n",
    "plt.subplot(1, 7, 4) ; plt.imshow(zoom4) ; plt.axis('off')\n",
    "plt.subplot(1, 7, 5) ; plt.imshow(zoom5) ; plt.axis('off')\n",
    "plt.subplot(1, 7, 6) ; plt.imshow(zoom6) ; plt.axis('off')\n",
    "plt.subplot(1, 7, 7) ; plt.imshow(zoom7) ; plt.axis('off')"
   ]
  }
 ],
 "metadata": {
  "colab": {
   "collapsed_sections": [
    "vat5l8-O-bk9"
   ],
   "name": "01. FER_Preprocessing - 2020.01.18(SAT).ipynb",
   "provenance": []
  },
  "kernelspec": {
   "display_name": "Python 3",
   "language": "python",
   "name": "python3"
  },
  "language_info": {
   "codemirror_mode": {
    "name": "ipython",
    "version": 3
   },
   "file_extension": ".py",
   "mimetype": "text/x-python",
   "name": "python",
   "nbconvert_exporter": "python",
   "pygments_lexer": "ipython3",
   "version": "3.7.3"
  }
 },
 "nbformat": 4,
 "nbformat_minor": 1
}
