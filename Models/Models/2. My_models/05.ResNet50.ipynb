{
 "cells": [
  {
   "cell_type": "markdown",
   "metadata": {
    "colab_type": "text",
    "id": "vwVmRuFcUBkT"
   },
   "source": [
    "# [ResNet50]\n"
   ]
  },
  {
   "cell_type": "markdown",
   "metadata": {
    "colab_type": "text",
    "id": "N0MMz6DhUBkW"
   },
   "source": [
    "*KU LeeDongGyu*"
   ]
  },
  {
   "cell_type": "markdown",
   "metadata": {
    "colab_type": "text",
    "id": "Ywk25Fr79dWe"
   },
   "source": [
    "## Contents\n",
    "---"
   ]
  },
  {
   "cell_type": "markdown",
   "metadata": {
    "colab_type": "text",
    "id": "KSON5xiR9dWf"
   },
   "source": [
    "1. Data Preprocessing\n",
    "```\n",
    "1) Data Import\n",
    "2) Data Augmentation\n",
    "```\n",
    "2. Support Functions & Almost Original ResNet\n",
    "```\n",
    "1) Support Functions\n",
    "2) Almost orginal ResNet\n",
    "```\n",
    "3. ResNet50\n",
    "```\n",
    "1) ResNet50\n",
    "2) ResNet50 Evaluate\n",
    "```\n",
    "\n"
   ]
  },
  {
   "cell_type": "markdown",
   "metadata": {
    "colab_type": "text",
    "id": "U01q4o40UBkY"
   },
   "source": [
    "### Install Packages"
   ]
  },
  {
   "cell_type": "markdown",
   "metadata": {
    "colab_type": "text",
    "id": "XjdygsS_UBke"
   },
   "source": [
    "### Module"
   ]
  },
  {
   "cell_type": "code",
   "execution_count": null,
   "metadata": {
    "colab": {
     "base_uri": "https://localhost:8080/",
     "height": 125
    },
    "colab_type": "code",
    "executionInfo": {
     "elapsed": 56819,
     "status": "ok",
     "timestamp": 1599313666098,
     "user": {
      "displayName": "이동규",
      "photoUrl": "",
      "userId": "07323071725004325774"
     },
     "user_tz": -540
    },
    "id": "o1tpIlBhXG2i",
    "outputId": "024ad733-e0c8-4b9c-cc4a-4f6b8af31935"
   },
   "outputs": [
    {
     "name": "stdout",
     "output_type": "stream",
     "text": [
      "Go to this URL in a browser: https://accounts.google.com/o/oauth2/auth?client_id=947318989803-6bn6qk8qdgf4n4g3pfee6491hc0brc4i.apps.googleusercontent.com&redirect_uri=urn%3aietf%3awg%3aoauth%3a2.0%3aoob&scope=email%20https%3a%2f%2fwww.googleapis.com%2fauth%2fdocs.test%20https%3a%2f%2fwww.googleapis.com%2fauth%2fdrive%20https%3a%2f%2fwww.googleapis.com%2fauth%2fdrive.photos.readonly%20https%3a%2f%2fwww.googleapis.com%2fauth%2fpeopleapi.readonly&response_type=code\n",
      "\n",
      "Enter your authorization code:\n",
      "··········\n",
      "Mounted at /content/drive\n"
     ]
    }
   ],
   "source": [
    "from google.colab import drive\n",
    "drive.mount('/content/drive')"
   ]
  },
  {
   "cell_type": "code",
   "execution_count": null,
   "metadata": {
    "colab": {
     "base_uri": "https://localhost:8080/",
     "height": 35
    },
    "colab_type": "code",
    "executionInfo": {
     "elapsed": 56791,
     "status": "ok",
     "timestamp": 1599313666099,
     "user": {
      "displayName": "이동규",
      "photoUrl": "",
      "userId": "07323071725004325774"
     },
     "user_tz": -540
    },
    "id": "IJdbC2nRXR6h",
    "outputId": "ceeca4a6-7955-4a89-d7eb-38abf65c3205"
   },
   "outputs": [
    {
     "name": "stdout",
     "output_type": "stream",
     "text": [
      "/content/drive/My Drive/Colab Notebooks/Paper\n"
     ]
    }
   ],
   "source": [
    "cd /content/drive/My Drive/Colab Notebooks/Paper"
   ]
  },
  {
   "cell_type": "code",
   "execution_count": null,
   "metadata": {
    "colab": {},
    "colab_type": "code",
    "id": "I98omoQ8FF90"
   },
   "outputs": [],
   "source": [
    "from f1score import macro_f1score,weighted_f1score"
   ]
  },
  {
   "cell_type": "code",
   "execution_count": null,
   "metadata": {
    "colab": {},
    "colab_type": "code",
    "id": "HKLMWqbuUBkf"
   },
   "outputs": [],
   "source": [
    "import pandas as pd\n",
    "import numpy as np\n",
    "import matplotlib.pyplot as plt\n",
    "import os\n",
    "import cv2\n",
    "import tensorflow as tf\n",
    "from tensorflow import keras as ks\n",
    "from tensorflow.keras import backend as K \n",
    "from tensorflow.keras.layers import Dense, Dropout, Activation, Flatten, Input, Concatenate, ZeroPadding2D ,GlobalMaxPooling2D, Reshape , Lambda , Add, Multiply\n",
    "from tensorflow.keras.layers import Conv2D, MaxPooling2D, GlobalAveragePooling2D, Activation, BatchNormalization, AveragePooling2D , ZeroPadding2D, SeparableConv2D\n",
    "from tensorflow.keras.layers import add\n",
    "from tensorflow.keras.optimizers import Adam, RMSprop , SGD\n",
    "from tensorflow.keras.callbacks import EarlyStopping , LearningRateScheduler, ModelCheckpoint, CSVLogger, Callback, ReduceLROnPlateau\n",
    "from tensorflow.keras.regularizers import l1,l2,l1_l2\n",
    "from tensorflow.keras.models import Model , load_model , Sequential\n",
    "from tensorflow.keras.utils import plot_model , to_categorical, get_file\n",
    "from tensorflow.keras.preprocessing.image import ImageDataGenerator"
   ]
  },
  {
   "cell_type": "code",
   "execution_count": null,
   "metadata": {
    "colab": {
     "base_uri": "https://localhost:8080/",
     "height": 35
    },
    "colab_type": "code",
    "executionInfo": {
     "elapsed": 59697,
     "status": "ok",
     "timestamp": 1599313669045,
     "user": {
      "displayName": "이동규",
      "photoUrl": "",
      "userId": "07323071725004325774"
     },
     "user_tz": -540
    },
    "id": "cbiFovMgXTax",
    "outputId": "d14ad9b3-42e9-4ab4-addc-881a8cae700c"
   },
   "outputs": [
    {
     "data": {
      "application/vnd.google.colaboratory.intrinsic+json": {
       "type": "string"
      },
      "text/plain": [
       "'/content/drive/My Drive/Colab Notebooks/Paper'"
      ]
     },
     "execution_count": 5,
     "metadata": {
      "tags": []
     },
     "output_type": "execute_result"
    }
   ],
   "source": [
    "os.getcwd()"
   ]
  },
  {
   "cell_type": "code",
   "execution_count": null,
   "metadata": {
    "colab": {
     "base_uri": "https://localhost:8080/",
     "height": 52
    },
    "colab_type": "code",
    "executionInfo": {
     "elapsed": 59682,
     "status": "ok",
     "timestamp": 1599313669046,
     "user": {
      "displayName": "이동규",
      "photoUrl": "",
      "userId": "07323071725004325774"
     },
     "user_tz": -540
    },
    "id": "AcT0A_iwEzaZ",
    "outputId": "3359c35f-d8fc-42bd-8038-c12c70e64e38"
   },
   "outputs": [
    {
     "name": "stdout",
     "output_type": "stream",
     "text": [
      "2.3.0\n",
      "2.4.0\n"
     ]
    }
   ],
   "source": [
    "print(tf.__version__)\n",
    "print(ks.__version__)"
   ]
  },
  {
   "cell_type": "code",
   "execution_count": null,
   "metadata": {
    "colab": {
     "base_uri": "https://localhost:8080/",
     "height": 35
    },
    "colab_type": "code",
    "executionInfo": {
     "elapsed": 65382,
     "status": "ok",
     "timestamp": 1599313674764,
     "user": {
      "displayName": "이동규",
      "photoUrl": "",
      "userId": "07323071725004325774"
     },
     "user_tz": -540
    },
    "id": "Gr5hMHvmABmG",
    "outputId": "390aa155-d659-42eb-d28c-369d09091245"
   },
   "outputs": [
    {
     "data": {
      "application/vnd.google.colaboratory.intrinsic+json": {
       "type": "string"
      },
      "text/plain": [
       "'/device:GPU:0'"
      ]
     },
     "execution_count": 7,
     "metadata": {
      "tags": []
     },
     "output_type": "execute_result"
    }
   ],
   "source": [
    "tf.test.gpu_device_name()"
   ]
  },
  {
   "cell_type": "code",
   "execution_count": null,
   "metadata": {
    "colab": {
     "base_uri": "https://localhost:8080/",
     "height": 560
    },
    "colab_type": "code",
    "executionInfo": {
     "elapsed": 65366,
     "status": "ok",
     "timestamp": 1599313674765,
     "user": {
      "displayName": "이동규",
      "photoUrl": "",
      "userId": "07323071725004325774"
     },
     "user_tz": -540
    },
    "id": "5QEPaq7XQBs8",
    "outputId": "f35f8053-9d52-4bf8-c677-4e9a2c77d9b6"
   },
   "outputs": [
    {
     "name": "stdout",
     "output_type": "stream",
     "text": [
      "[name: \"/device:CPU:0\"\n",
      "device_type: \"CPU\"\n",
      "memory_limit: 268435456\n",
      "locality {\n",
      "}\n",
      "incarnation: 6630256943948353527\n",
      ", name: \"/device:XLA_CPU:0\"\n",
      "device_type: \"XLA_CPU\"\n",
      "memory_limit: 17179869184\n",
      "locality {\n",
      "}\n",
      "incarnation: 13094384070374356402\n",
      "physical_device_desc: \"device: XLA_CPU device\"\n",
      ", name: \"/device:XLA_GPU:0\"\n",
      "device_type: \"XLA_GPU\"\n",
      "memory_limit: 17179869184\n",
      "locality {\n",
      "}\n",
      "incarnation: 9580617487671179092\n",
      "physical_device_desc: \"device: XLA_GPU device\"\n",
      ", name: \"/device:GPU:0\"\n",
      "device_type: \"GPU\"\n",
      "memory_limit: 15473775744\n",
      "locality {\n",
      "  bus_id: 1\n",
      "  links {\n",
      "  }\n",
      "}\n",
      "incarnation: 15534201890124306306\n",
      "physical_device_desc: \"device: 0, name: Tesla V100-SXM2-16GB, pci bus id: 0000:00:04.0, compute capability: 7.0\"\n",
      "]\n"
     ]
    }
   ],
   "source": [
    "from tensorflow.python.client import device_lib\n",
    "print(device_lib.list_local_devices())"
   ]
  },
  {
   "cell_type": "markdown",
   "metadata": {
    "colab_type": "text",
    "id": "OOsm86eVUBko"
   },
   "source": [
    "## 1. Data Preprocessing\n",
    "---"
   ]
  },
  {
   "cell_type": "markdown",
   "metadata": {
    "colab_type": "text",
    "id": "DgwOtB_QEhll"
   },
   "source": [
    "### 1) Data Import"
   ]
  },
  {
   "cell_type": "code",
   "execution_count": null,
   "metadata": {
    "colab": {},
    "colab_type": "code",
    "id": "i5hoO5oVDDJh"
   },
   "outputs": [],
   "source": [
    "# 바꿔서 살펴 볼 것들\n",
    "# CALTECH, CIFAR100, FER, MIT\n",
    "data_name = 'CALTECH'\n",
    "gan_type = 'No_GAN'\n",
    "number = '1'\n",
    "size = 224 # sizes after cropping\n",
    "super_size = 256 # sizes before cropping \n",
    "input_sizes = (size,size,3)\n",
    "batch_sizes = 128\n",
    "weight_decay = 3e-3\n",
    "epochs = 70"
   ]
  },
  {
   "cell_type": "code",
   "execution_count": null,
   "metadata": {
    "colab": {},
    "colab_type": "code",
    "id": "SPnWxfGzLOF6"
   },
   "outputs": [],
   "source": [
    "# 참고 : https://stackoverflow.com/questions/32419510/how-to-get-reproducible-results-in-keras/52897216#52897216\n",
    "# setting the seed number for random number generation for reproducibility.\n",
    "\n",
    "from numpy.random import seed\n",
    "import random\n",
    "\n",
    "\n",
    "if number=='1':\n",
    "    seed_num = 200225\n",
    "    os.environ['PYTHONHASHSEED']=str(seed_num)\n",
    "    random.seed(seed_num)\n",
    "    seed(seed_num)\n",
    "    tf.random.set_seed(seed_num)\n",
    "    session_conf = tf.compat.v1.ConfigProto(intra_op_parallelism_threads=1, inter_op_parallelism_threads=1)\n",
    "    sess = tf.compat.v1.Session(graph=tf.compat.v1.get_default_graph(), config=session_conf)\n",
    "    tf.compat.v1.keras.backend.set_session(sess)\n",
    "elif number=='2':\n",
    "    seed_num = 727\n",
    "    os.environ['PYTHONHASHSEED']=str(seed_num)\n",
    "    random.seed(seed_num)\n",
    "    seed(seed_num)\n",
    "    tf.random.set_seed(seed_num)\n",
    "    session_conf = tf.compat.v1.ConfigProto(intra_op_parallelism_threads=1, inter_op_parallelism_threads=1)\n",
    "    sess = tf.compat.v1.Session(graph=tf.compat.v1.get_default_graph(), config=session_conf)\n",
    "    tf.compat.v1.keras.backend.set_session(sess)\n",
    "elif number=='3':\n",
    "    seed_num = 115\n",
    "    os.environ['PYTHONHASHSEED']=str(seed_num)\n",
    "    random.seed(seed_num)\n",
    "    seed(seed_num)\n",
    "    tf.random.set_seed(seed_num)\n",
    "    session_conf = tf.compat.v1.ConfigProto(intra_op_parallelism_threads=1, inter_op_parallelism_threads=1)\n",
    "    sess = tf.compat.v1.Session(graph=tf.compat.v1.get_default_graph(), config=session_conf)\n",
    "    tf.compat.v1.keras.backend.set_session(sess)\n",
    "elif number=='4':\n",
    "    seed_num = 501\n",
    "    os.environ['PYTHONHASHSEED']=str(seed_num)\n",
    "    random.seed(seed_num)\n",
    "    seed(seed_num)\n",
    "    tf.random.set_seed(seed_num)\n",
    "    session_conf = tf.compat.v1.ConfigProto(intra_op_parallelism_threads=1, inter_op_parallelism_threads=1)\n",
    "    sess = tf.compat.v1.Session(graph=tf.compat.v1.get_default_graph(), config=session_conf)\n",
    "    tf.compat.v1.keras.backend.set_session(sess)\n",
    "elif number=='5':\n",
    "    seed_num = 517\n",
    "    os.environ['PYTHONHASHSEED']=str(seed_num)\n",
    "    random.seed(seed_num)\n",
    "    seed(seed_num)\n",
    "    tf.random.set_seed(seed_num)\n",
    "    session_conf = tf.compat.v1.ConfigProto(intra_op_parallelism_threads=1, inter_op_parallelism_threads=1)\n",
    "    sess = tf.compat.v1.Session(graph=tf.compat.v1.get_default_graph(), config=session_conf)\n",
    "    tf.compat.v1.keras.backend.set_session(sess)"
   ]
  },
  {
   "cell_type": "code",
   "execution_count": null,
   "metadata": {
    "colab": {},
    "colab_type": "code",
    "id": "8588MeRdp1av"
   },
   "outputs": [],
   "source": [
    "# data import\n",
    "\n",
    "if data_name=='FER' :\n",
    "    x_train =  np.zeros(28698)\n",
    "    x_valid = np.zeros(3589)\n",
    "    x_test = np.zeros(3588)\n",
    "    classes = 7 \n",
    "    tr_center = [0.50793296, 0.50793296, 0.50793296]\n",
    "elif data_name=='MIT':\n",
    "    x_train = np.zeros(12466)\n",
    "    x_valid = np.zeros(1564)\n",
    "    x_test = np.zeros(1590)\n",
    "    classes = 67 \n",
    "    tr_center = [0.47916578, 0.42029615, 0.36046057]\n",
    "elif data_name=='CALTECH':\n",
    "    x_train = np.zeros(24510)\n",
    "    x_valid = np.zeros(2980)\n",
    "    x_test = np.zeros(3118)\n",
    "    classes = 257\n",
    "    tr_center = [0.51397761, 0.49525248, 0.46555727]\n",
    "elif data_name=='CIFAR100':\n",
    "    x_train = np.zeros(39941)\n",
    "    x_valid = np.zeros(10059)\n",
    "    x_test = np.zeros(10000)\n",
    "    classes = 100\n",
    "    tr_center = [0.53393271, 0.51324147, 0.46450563]"
   ]
  },
  {
   "cell_type": "code",
   "execution_count": null,
   "metadata": {
    "colab": {},
    "colab_type": "code",
    "id": "PQlStjHWt-jM"
   },
   "outputs": [],
   "source": [
    "dir = os.path.join(os.getcwd(),data_name,gan_type)"
   ]
  },
  {
   "cell_type": "markdown",
   "metadata": {
    "colab_type": "text",
    "id": "XrNLBwoJCRR9"
   },
   "source": [
    "### 2) Data Augmentation"
   ]
  },
  {
   "cell_type": "code",
   "execution_count": null,
   "metadata": {
    "colab": {},
    "colab_type": "code",
    "id": "y-eN010dp1a5"
   },
   "outputs": [],
   "source": [
    "# 참고 : https://jkjung-avt.github.io/keras-image-cropping/\n",
    "\n",
    "def random_crop(img, random_crop_size):\n",
    "    # Note: image_data_format is 'channel_last'\n",
    "    assert img.shape[2] == 3 # img.shape[2] 가 3(rgb)이 아니면 assertion error 발생\n",
    "    height, width = img.shape[0], img.shape[1]\n",
    "    dy, dx = random_crop_size\n",
    "    x = np.random.randint(0, width - dx + 1)\n",
    "    y = np.random.randint(0, height - dy + 1)\n",
    "    return img[y:(y+dy), x:(x+dx), :]\n",
    "\n",
    "\n",
    "def crop_generator(batches, crop_length):\n",
    "    \"\"\"Take as input a Keras ImageGen (Iterator) and generate random\n",
    "    crops from the image batches generated by the original iterator.\n",
    "    \"\"\"\n",
    "    while True:\n",
    "        batch_x, batch_y = next(batches)\n",
    "        batch_crops = np.zeros((batch_x.shape[0], crop_length, crop_length, 3))\n",
    "        for i in range(batch_x.shape[0]):\n",
    "            batch_crops[i] = random_crop(batch_x[i], (crop_length, crop_length))\n",
    "        yield (batch_crops, batch_y)"
   ]
  },
  {
   "cell_type": "code",
   "execution_count": null,
   "metadata": {
    "colab": {},
    "colab_type": "code",
    "id": "EW0KZ6x9EBtf"
   },
   "outputs": [],
   "source": [
    "from tensorflow.keras.preprocessing.image import img_to_array,load_img\n",
    "import glob\n",
    "\n",
    "# 데이터 전체에 대해 centering 진행함.\n",
    "\n",
    "def read_cal_image(img_path): \n",
    "    x = img_to_array(load_img(img_path)) # x는 채널별 평균값\n",
    "    y = x.shape[0] * x.shape[1]# y는 데이터별 픽셀 수 (비중)\n",
    "\n",
    "    x = 1/255. * x # scaling하고, centering값을 뽑아냄.\n",
    "    x = np.mean(x, axis=(0,1))\n",
    "    \n",
    "    return np.hstack([x,y])\n",
    "\n",
    "def calculate_centered_mean(dataset_path,x_train=x_train):\n",
    "    num = len(x_train)\n",
    "    space = np.empty((num,4))\n",
    "    i=0\n",
    "\n",
    "    for p in glob.glob(os.path.join(dataset_path,'*/*.*')) :\n",
    "        space[i] = read_cal_image(p)\n",
    "        i += 1\n",
    "\n",
    "    ratio = space[:,3] / np.sum(space[:,3])\n",
    "\n",
    "    return np.average(space[:,0:3],axis=0,weights=ratio)\n",
    "\n",
    "\n",
    "# 아래의 함수를 돌려서 나온 결과값을 중심화 값으로 설정.\n",
    "\n",
    "# train_mean = calculate_centered_mean(os.path.join(dir,'data/train')).reshape((1,1,3))"
   ]
  },
  {
   "cell_type": "code",
   "execution_count": null,
   "metadata": {
    "colab": {},
    "colab_type": "code",
    "id": "rn363NOip1a9"
   },
   "outputs": [],
   "source": [
    "datagen_tr = ImageDataGenerator(\n",
    "    rescale=1/255.,\n",
    "    horizontal_flip=True,\n",
    "    featurewise_center=True,\n",
    "    featurewise_std_normalization=False,\n",
    "    rotation_range=10,\n",
    "    width_shift_range=0.1,\n",
    "    height_shift_range=0.1,\n",
    "    zoom_range=[0.9,1.0],\n",
    "    fill_mode = 'nearest')\n",
    "datagen_val = ImageDataGenerator(rescale=1/255.,featurewise_center=True)\n",
    "datagen_tes = ImageDataGenerator(rescale=1/255.,featurewise_center=True)\n",
    "\n",
    "# 원래는 이 자리에 fit 매서드를 써야하지만, 그냥 내가 중심화함수를 만들고 적용함. \n",
    "\n",
    "# 중심화 설정\n",
    "datagen_tr.mean = np.array(tr_center, dtype=np.float32).reshape((1,1,3)) # RGB\n",
    "datagen_val.mean = np.array(tr_center, dtype=np.float32).reshape((1,1,3)) # RGB\n",
    "datagen_tes.mean = np.array(tr_center, dtype=np.float32).reshape((1,1,3)) # RGB"
   ]
  },
  {
   "cell_type": "code",
   "execution_count": null,
   "metadata": {
    "colab": {
     "base_uri": "https://localhost:8080/",
     "height": 70
    },
    "colab_type": "code",
    "executionInfo": {
     "elapsed": 126192,
     "status": "ok",
     "timestamp": 1599313735667,
     "user": {
      "displayName": "이동규",
      "photoUrl": "",
      "userId": "07323071725004325774"
     },
     "user_tz": -540
    },
    "id": "nT4DDIUNp1a_",
    "outputId": "d99edef5-81b1-451d-98ed-f7d0b2d61be7"
   },
   "outputs": [
    {
     "name": "stdout",
     "output_type": "stream",
     "text": [
      "Found 24509 images belonging to 257 classes.\n",
      "Found 2980 images belonging to 257 classes.\n",
      "Found 3118 images belonging to 257 classes.\n"
     ]
    }
   ],
   "source": [
    "train_batches = datagen_tr.flow_from_directory(directory=os.path.join(dir,'data/train'),target_size=(super_size,super_size),batch_size=batch_sizes,class_mode='categorical') # fer : 28698 / mit : 12466 / caltech : 24509 / cifar : 39941\n",
    "train_generator= crop_generator(train_batches, size)\n",
    "valid_generator = datagen_val.flow_from_directory(directory=os.path.join(dir,'data/valid'),target_size=(size,size),batch_size=batch_sizes,class_mode='categorical') # fer : 3589 / mit : 1564 / caltech : 2980 / cifar : 10059\n",
    "test_generator = datagen_tes.flow_from_directory(directory=os.path.join(dir,'data/test'),target_size=(size,size),batch_size=batch_sizes,class_mode='categorical') # fer : 3588 / mit : 1590 / caltech : 3118 / cifar : 10000"
   ]
  },
  {
   "cell_type": "markdown",
   "metadata": {
    "colab_type": "text",
    "id": "afa9Vvwdw1te"
   },
   "source": [
    "## 2. Support Functions & Almost Original ResNet\n",
    "---\n"
   ]
  },
  {
   "cell_type": "markdown",
   "metadata": {
    "colab_type": "text",
    "id": "iER-OGdBw1tf"
   },
   "source": [
    "### 1) Support Functions"
   ]
  },
  {
   "cell_type": "code",
   "execution_count": null,
   "metadata": {
    "colab": {},
    "colab_type": "code",
    "id": "XA3sqFv_ZyBS"
   },
   "outputs": [],
   "source": [
    "# def lr_schedule(epoch):\n",
    "#     init_lr = 1e-4\n",
    "#     k = 0.04\n",
    "#     lr = init_lr * np.exp(-k*epoch)\n",
    "#     print('Learning rate: ', lr)\n",
    "#     return lr\n",
    "\n",
    "def lr_schedule(epoch):\n",
    "    lr = 1e-3\n",
    "    if epoch < 60:\n",
    "        lr = lr\n",
    "    else :\n",
    "        lr = lr * 0.1\n",
    "    print('Learning rate: ', lr)\n",
    "    return lr"
   ]
  },
  {
   "cell_type": "code",
   "execution_count": null,
   "metadata": {
    "colab": {},
    "colab_type": "code",
    "id": "TjxgKIgDw1tj"
   },
   "outputs": [],
   "source": [
    "# 편의상 아래와 같은 resnet 묶음의 이름을 resnet_layer이라 하자 \n",
    "def resnet_layer(inputs, weight_decay=weight_decay, num_filters=16, kernel_size=(3,3), strides=(1,1),activation=None):\n",
    "\n",
    "    conv = Conv2D(num_filters,kernel_size=kernel_size,strides=strides, padding='same', kernel_initializer='he_uniform', kernel_regularizer=l2(weight_decay))\n",
    "    x = inputs\n",
    "    x = conv(x)\n",
    "    x = BatchNormalization()(x)\n",
    "    if activation is not None:\n",
    "        x = Activation(activation)(x) # conv-bn-activation\n",
    "    return x"
   ]
  },
  {
   "cell_type": "code",
   "execution_count": null,
   "metadata": {
    "colab": {},
    "colab_type": "code",
    "id": "u8Ss5eT5w1tm"
   },
   "outputs": [],
   "source": [
    "# resnet 코드를 만들기 앞서, 코드가 너무 길어 비효율적이므로 적당한 함수를 만든다.\n",
    "# block_v1 은 resnet18과 resnet34에 특화된 block이고, block_v2는 resnet50, resnet101, resnet152에 특화된 block이다.\n",
    "# 이 두개의 block은, 나중에 하나의 모형에서 같이 고려될 것이다.\n",
    "\n",
    "def block_v1(input_shape, num_filters, identi, half=True):\n",
    "    # identi : resnet의 존재 이유인, 더하게 될 자기자신값이다.\n",
    "    if half:\n",
    "        layer1 = resnet_layer(inputs=input_shape, num_filters=num_filters, strides=(2, 2), activation='relu')\n",
    "        layer2 = resnet_layer(inputs=layer1, num_filters=num_filters, strides=(1, 1), activation=None)\n",
    "    else:\n",
    "        layer1 = resnet_layer(inputs=input_shape, num_filters=num_filters, strides=(1, 1), activation='relu')\n",
    "        layer2 = resnet_layer(inputs=layer1, num_filters=num_filters, strides=(1, 1), activation=None)\n",
    "    \n",
    "    res_2_1 = add([identi, layer2])  # block 1\n",
    "    output = Activation(\"relu\")(res_2_1)\n",
    "    return output\n",
    "\n",
    "\n",
    "def block_v2(input_shape, num_filters, identi, half=True):\n",
    "    # identi : resnet의 존재 이유인, 더하게 될 자기자신값이다.\n",
    "    if half:\n",
    "        layer1 = resnet_layer(inputs=input_shape, num_filters=num_filters, strides=(2, 2), kernel_size=(1, 1), activation='relu')\n",
    "        layer2 = resnet_layer(inputs=layer1, num_filters=num_filters, strides=(1, 1), kernel_size=(3, 3), activation='relu')\n",
    "        layer3 = resnet_layer(inputs=layer2, num_filters= 4*num_filters, strides=(1, 1), kernel_size=(1, 1), activation=None)\n",
    "    else:\n",
    "        layer1 = resnet_layer(inputs=input_shape, num_filters= num_filters, strides=(1, 1), kernel_size=(1, 1), activation='relu')\n",
    "        layer2 = resnet_layer(inputs=layer1, num_filters= num_filters, strides=(1, 1), kernel_size=(3, 3), activation='relu')\n",
    "        layer3 = resnet_layer(inputs=layer2, num_filters= 4*num_filters, strides=(1, 1), kernel_size=(1, 1), activation=None)\n",
    "\n",
    "    res_3_1 = add([identi, layer3])  # block 1\n",
    "    output = Activation(\"relu\")(res_3_1)\n",
    "    return output"
   ]
  },
  {
   "cell_type": "markdown",
   "metadata": {
    "colab_type": "text",
    "id": "3ikmjp50w1uA"
   },
   "source": [
    "### 2) Almost Orginial ResNet\n"
   ]
  },
  {
   "cell_type": "code",
   "execution_count": null,
   "metadata": {
    "colab": {},
    "colab_type": "code",
    "id": "HGdsPCI1w1uB"
   },
   "outputs": [],
   "source": [
    "# 좀더 깔끔하게 작성됨. 앞으로의 resnet모형은 다음의 함수에서 해결한다.\n",
    "def ResNet(input_shape=(224, 224, 3), classes=1000, weight_decay=weight_decay, num_filters=64, num_blocks=[0,0,0,0] ,version=None, name=None):\n",
    "    # num_blocks 는 list로 받는 인자. conv3_x ~ conv5_x의 block의 수를 앞에서부터 차례로 넣어주면 된다.\n",
    "    # num_filters 는 초기의 filters를 의미한다.\n",
    "    \n",
    "    if len(num_blocks) != 4 :\n",
    "        raise NameError(\"Please input the number of blocks from conv2_x to conv5_x in the 'num_blocks' variable.\")\n",
    "\n",
    "    if version == \"v1\" : # resnet 18, 34에 해당. (블록이 같음)\n",
    "        block = block_v1\n",
    "    elif version == \"v2\": # resnet 50, 101, 152에 해당. (블록이 같음)\n",
    "        block = block_v2\n",
    "    else :\n",
    "        raise NameError(\"Please input the string 'v1' or 'v2' in the 'version' variable. \")\n",
    "\n",
    "    inputs = Input(shape=input_shape)\n",
    "\n",
    "    # conv1\n",
    "    layer1 = resnet_layer(inputs=inputs, num_filters=num_filters, strides=(2, 2), kernel_size=(7, 7), activation='relu')\n",
    "    cum_block = MaxPooling2D(pool_size=(3, 3), strides=(2, 2), padding='same', name='pool1/3x3_s2')(layer1)\n",
    "    \n",
    "    # cum_block 변수에 하나씩 residual block을 누적시켜보자.\n",
    "\n",
    "    for stack in range(4):\n",
    "        if stack == 0 :\n",
    "            # 우리가 누적시킬 변수, cum_block을 정의하고, 이 변수에 누적시켜가면서 모형을 출력한다.\n",
    "\n",
    "            # 이 아래 for문은 conv2_x\n",
    "            # 들어가기 전에, block_v2라면 input과 output의 filter size를 동일하게 해주는 작업을 한다. 덧셈이 가능해야 하므로, 반드시!\n",
    "            if version == 'v2':\n",
    "                x = Conv2D(4 * num_filters, kernel_size=(1, 1), strides=(1, 1), padding='same', kernel_initializer='he_uniform', kernel_regularizer=l2(weight_decay))(cum_block)\n",
    "                x = BatchNormalization()(x) # 모든 conv.뒤에는 bn을 적용.\n",
    "                cum_block = block(input_shape=cum_block, num_filters=num_filters, identi=x, half=False)\n",
    "\n",
    "            if version != 'v2':\n",
    "                  new_num_blocks = num_blocks[stack]\n",
    "            else :\n",
    "                  new_num_blocks = num_blocks[stack]-1\n",
    "\n",
    "            for res_block in range(new_num_blocks):\n",
    "                cum_block = block(input_shape=cum_block, num_filters=num_filters, identi=cum_block, half=False)\n",
    "        else:\n",
    "\n",
    "            # 이 아래는 conv3_x ~ conv5_x 까지.\n",
    "            num_filters *= 2\n",
    " \n",
    "            if version == 'v2':\n",
    "                x = Conv2D(4 * num_filters, kernel_size=(1, 1), strides=(2, 2), padding='valid', kernel_initializer='he_uniform', kernel_regularizer=l2(weight_decay))(cum_block)  # block_v2라면, input에 해당하는 x를 덧셈이 가능하게 맞춰준다.\n",
    "                x = BatchNormalization()(x) # 모든 conv.뒤에는 bn을 적용.\n",
    "            else:\n",
    "                x = Conv2D(num_filters, (1, 1), strides=(2, 2), padding='valid', kernel_initializer='he_uniform', kernel_regularizer=l2(weight_decay))(cum_block)  # identi_input 에 해당 // rxc가 각각 반토막남.\n",
    "                x = BatchNormalization()(x) # 모든 conv.뒤에는 bn을 적용.\n",
    "                #즉, 위 x는 결국 이어질 conv 층의 input임.\n",
    "\n",
    "            for res_block in range(num_blocks[stack]):\n",
    "                if res_block == 0:\n",
    "                    cum_block = block(input_shape=cum_block , num_filters = num_filters , identi=x, half=True) # block 갱신\n",
    "                else:\n",
    "                    cum_block = block(input_shape=cum_block , num_filters = num_filters , identi=cum_block , half=False) # block 갱신\n",
    "\n",
    "    # 마지막 1층\n",
    "    y = GlobalAveragePooling2D()(cum_block)\n",
    "    outputs = Dense(classes, activation='softmax')(y)\n",
    "\n",
    "    model = Model(inputs=inputs, outputs=outputs, name = name)\n",
    "    return model\n"
   ]
  },
  {
   "cell_type": "markdown",
   "metadata": {
    "colab_type": "text",
    "id": "tOAp8LsWRMR6"
   },
   "source": [
    "## 3. ResNet50\n",
    "\n",
    "---"
   ]
  },
  {
   "cell_type": "markdown",
   "metadata": {
    "colab_type": "text",
    "id": "lOCs8l3URMSy"
   },
   "source": [
    "### 1) ResNet50\n"
   ]
  },
  {
   "cell_type": "code",
   "execution_count": null,
   "metadata": {
    "colab": {},
    "colab_type": "code",
    "id": "CY0dRfL5RMS0"
   },
   "outputs": [],
   "source": [
    "# ResNet50\n",
    "model = ResNet(input_shape=input_sizes, classes=classes, num_blocks=[3,4,6,3], version='v2', name='ResNet50')"
   ]
  },
  {
   "cell_type": "code",
   "execution_count": null,
   "metadata": {
    "colab": {
     "base_uri": "https://localhost:8080/",
     "height": 1000
    },
    "colab_type": "code",
    "executionInfo": {
     "elapsed": 128036,
     "status": "ok",
     "timestamp": 1599313737676,
     "user": {
      "displayName": "이동규",
      "photoUrl": "",
      "userId": "07323071725004325774"
     },
     "user_tz": -540
    },
    "id": "nBDXNAhgRMS3",
    "outputId": "2d4ac6eb-73ce-49e8-ccbd-a3d7d7351a8d"
   },
   "outputs": [
    {
     "name": "stdout",
     "output_type": "stream",
     "text": [
      "Model: \"ResNet50\"\n",
      "__________________________________________________________________________________________________\n",
      "Layer (type)                    Output Shape         Param #     Connected to                     \n",
      "==================================================================================================\n",
      "input_1 (InputLayer)            [(None, 224, 224, 3) 0                                            \n",
      "__________________________________________________________________________________________________\n",
      "conv2d (Conv2D)                 (None, 112, 112, 64) 9472        input_1[0][0]                    \n",
      "__________________________________________________________________________________________________\n",
      "batch_normalization (BatchNorma (None, 112, 112, 64) 256         conv2d[0][0]                     \n",
      "__________________________________________________________________________________________________\n",
      "activation (Activation)         (None, 112, 112, 64) 0           batch_normalization[0][0]        \n",
      "__________________________________________________________________________________________________\n",
      "pool1/3x3_s2 (MaxPooling2D)     (None, 56, 56, 64)   0           activation[0][0]                 \n",
      "__________________________________________________________________________________________________\n",
      "conv2d_2 (Conv2D)               (None, 56, 56, 64)   4160        pool1/3x3_s2[0][0]               \n",
      "__________________________________________________________________________________________________\n",
      "batch_normalization_2 (BatchNor (None, 56, 56, 64)   256         conv2d_2[0][0]                   \n",
      "__________________________________________________________________________________________________\n",
      "activation_1 (Activation)       (None, 56, 56, 64)   0           batch_normalization_2[0][0]      \n",
      "__________________________________________________________________________________________________\n",
      "conv2d_3 (Conv2D)               (None, 56, 56, 64)   36928       activation_1[0][0]               \n",
      "__________________________________________________________________________________________________\n",
      "batch_normalization_3 (BatchNor (None, 56, 56, 64)   256         conv2d_3[0][0]                   \n",
      "__________________________________________________________________________________________________\n",
      "activation_2 (Activation)       (None, 56, 56, 64)   0           batch_normalization_3[0][0]      \n",
      "__________________________________________________________________________________________________\n",
      "conv2d_1 (Conv2D)               (None, 56, 56, 256)  16640       pool1/3x3_s2[0][0]               \n",
      "__________________________________________________________________________________________________\n",
      "conv2d_4 (Conv2D)               (None, 56, 56, 256)  16640       activation_2[0][0]               \n",
      "__________________________________________________________________________________________________\n",
      "batch_normalization_1 (BatchNor (None, 56, 56, 256)  1024        conv2d_1[0][0]                   \n",
      "__________________________________________________________________________________________________\n",
      "batch_normalization_4 (BatchNor (None, 56, 56, 256)  1024        conv2d_4[0][0]                   \n",
      "__________________________________________________________________________________________________\n",
      "add (Add)                       (None, 56, 56, 256)  0           batch_normalization_1[0][0]      \n",
      "                                                                 batch_normalization_4[0][0]      \n",
      "__________________________________________________________________________________________________\n",
      "activation_3 (Activation)       (None, 56, 56, 256)  0           add[0][0]                        \n",
      "__________________________________________________________________________________________________\n",
      "conv2d_5 (Conv2D)               (None, 56, 56, 64)   16448       activation_3[0][0]               \n",
      "__________________________________________________________________________________________________\n",
      "batch_normalization_5 (BatchNor (None, 56, 56, 64)   256         conv2d_5[0][0]                   \n",
      "__________________________________________________________________________________________________\n",
      "activation_4 (Activation)       (None, 56, 56, 64)   0           batch_normalization_5[0][0]      \n",
      "__________________________________________________________________________________________________\n",
      "conv2d_6 (Conv2D)               (None, 56, 56, 64)   36928       activation_4[0][0]               \n",
      "__________________________________________________________________________________________________\n",
      "batch_normalization_6 (BatchNor (None, 56, 56, 64)   256         conv2d_6[0][0]                   \n",
      "__________________________________________________________________________________________________\n",
      "activation_5 (Activation)       (None, 56, 56, 64)   0           batch_normalization_6[0][0]      \n",
      "__________________________________________________________________________________________________\n",
      "conv2d_7 (Conv2D)               (None, 56, 56, 256)  16640       activation_5[0][0]               \n",
      "__________________________________________________________________________________________________\n",
      "batch_normalization_7 (BatchNor (None, 56, 56, 256)  1024        conv2d_7[0][0]                   \n",
      "__________________________________________________________________________________________________\n",
      "add_1 (Add)                     (None, 56, 56, 256)  0           activation_3[0][0]               \n",
      "                                                                 batch_normalization_7[0][0]      \n",
      "__________________________________________________________________________________________________\n",
      "activation_6 (Activation)       (None, 56, 56, 256)  0           add_1[0][0]                      \n",
      "__________________________________________________________________________________________________\n",
      "conv2d_8 (Conv2D)               (None, 56, 56, 64)   16448       activation_6[0][0]               \n",
      "__________________________________________________________________________________________________\n",
      "batch_normalization_8 (BatchNor (None, 56, 56, 64)   256         conv2d_8[0][0]                   \n",
      "__________________________________________________________________________________________________\n",
      "activation_7 (Activation)       (None, 56, 56, 64)   0           batch_normalization_8[0][0]      \n",
      "__________________________________________________________________________________________________\n",
      "conv2d_9 (Conv2D)               (None, 56, 56, 64)   36928       activation_7[0][0]               \n",
      "__________________________________________________________________________________________________\n",
      "batch_normalization_9 (BatchNor (None, 56, 56, 64)   256         conv2d_9[0][0]                   \n",
      "__________________________________________________________________________________________________\n",
      "activation_8 (Activation)       (None, 56, 56, 64)   0           batch_normalization_9[0][0]      \n",
      "__________________________________________________________________________________________________\n",
      "conv2d_10 (Conv2D)              (None, 56, 56, 256)  16640       activation_8[0][0]               \n",
      "__________________________________________________________________________________________________\n",
      "batch_normalization_10 (BatchNo (None, 56, 56, 256)  1024        conv2d_10[0][0]                  \n",
      "__________________________________________________________________________________________________\n",
      "add_2 (Add)                     (None, 56, 56, 256)  0           activation_6[0][0]               \n",
      "                                                                 batch_normalization_10[0][0]     \n",
      "__________________________________________________________________________________________________\n",
      "activation_9 (Activation)       (None, 56, 56, 256)  0           add_2[0][0]                      \n",
      "__________________________________________________________________________________________________\n",
      "conv2d_12 (Conv2D)              (None, 28, 28, 128)  32896       activation_9[0][0]               \n",
      "__________________________________________________________________________________________________\n",
      "batch_normalization_12 (BatchNo (None, 28, 28, 128)  512         conv2d_12[0][0]                  \n",
      "__________________________________________________________________________________________________\n",
      "activation_10 (Activation)      (None, 28, 28, 128)  0           batch_normalization_12[0][0]     \n",
      "__________________________________________________________________________________________________\n",
      "conv2d_13 (Conv2D)              (None, 28, 28, 128)  147584      activation_10[0][0]              \n",
      "__________________________________________________________________________________________________\n",
      "batch_normalization_13 (BatchNo (None, 28, 28, 128)  512         conv2d_13[0][0]                  \n",
      "__________________________________________________________________________________________________\n",
      "activation_11 (Activation)      (None, 28, 28, 128)  0           batch_normalization_13[0][0]     \n",
      "__________________________________________________________________________________________________\n",
      "conv2d_11 (Conv2D)              (None, 28, 28, 512)  131584      activation_9[0][0]               \n",
      "__________________________________________________________________________________________________\n",
      "conv2d_14 (Conv2D)              (None, 28, 28, 512)  66048       activation_11[0][0]              \n",
      "__________________________________________________________________________________________________\n",
      "batch_normalization_11 (BatchNo (None, 28, 28, 512)  2048        conv2d_11[0][0]                  \n",
      "__________________________________________________________________________________________________\n",
      "batch_normalization_14 (BatchNo (None, 28, 28, 512)  2048        conv2d_14[0][0]                  \n",
      "__________________________________________________________________________________________________\n",
      "add_3 (Add)                     (None, 28, 28, 512)  0           batch_normalization_11[0][0]     \n",
      "                                                                 batch_normalization_14[0][0]     \n",
      "__________________________________________________________________________________________________\n",
      "activation_12 (Activation)      (None, 28, 28, 512)  0           add_3[0][0]                      \n",
      "__________________________________________________________________________________________________\n",
      "conv2d_15 (Conv2D)              (None, 28, 28, 128)  65664       activation_12[0][0]              \n",
      "__________________________________________________________________________________________________\n",
      "batch_normalization_15 (BatchNo (None, 28, 28, 128)  512         conv2d_15[0][0]                  \n",
      "__________________________________________________________________________________________________\n",
      "activation_13 (Activation)      (None, 28, 28, 128)  0           batch_normalization_15[0][0]     \n",
      "__________________________________________________________________________________________________\n",
      "conv2d_16 (Conv2D)              (None, 28, 28, 128)  147584      activation_13[0][0]              \n",
      "__________________________________________________________________________________________________\n",
      "batch_normalization_16 (BatchNo (None, 28, 28, 128)  512         conv2d_16[0][0]                  \n",
      "__________________________________________________________________________________________________\n",
      "activation_14 (Activation)      (None, 28, 28, 128)  0           batch_normalization_16[0][0]     \n",
      "__________________________________________________________________________________________________\n",
      "conv2d_17 (Conv2D)              (None, 28, 28, 512)  66048       activation_14[0][0]              \n",
      "__________________________________________________________________________________________________\n",
      "batch_normalization_17 (BatchNo (None, 28, 28, 512)  2048        conv2d_17[0][0]                  \n",
      "__________________________________________________________________________________________________\n",
      "add_4 (Add)                     (None, 28, 28, 512)  0           activation_12[0][0]              \n",
      "                                                                 batch_normalization_17[0][0]     \n",
      "__________________________________________________________________________________________________\n",
      "activation_15 (Activation)      (None, 28, 28, 512)  0           add_4[0][0]                      \n",
      "__________________________________________________________________________________________________\n",
      "conv2d_18 (Conv2D)              (None, 28, 28, 128)  65664       activation_15[0][0]              \n",
      "__________________________________________________________________________________________________\n",
      "batch_normalization_18 (BatchNo (None, 28, 28, 128)  512         conv2d_18[0][0]                  \n",
      "__________________________________________________________________________________________________\n",
      "activation_16 (Activation)      (None, 28, 28, 128)  0           batch_normalization_18[0][0]     \n",
      "__________________________________________________________________________________________________\n",
      "conv2d_19 (Conv2D)              (None, 28, 28, 128)  147584      activation_16[0][0]              \n",
      "__________________________________________________________________________________________________\n",
      "batch_normalization_19 (BatchNo (None, 28, 28, 128)  512         conv2d_19[0][0]                  \n",
      "__________________________________________________________________________________________________\n",
      "activation_17 (Activation)      (None, 28, 28, 128)  0           batch_normalization_19[0][0]     \n",
      "__________________________________________________________________________________________________\n",
      "conv2d_20 (Conv2D)              (None, 28, 28, 512)  66048       activation_17[0][0]              \n",
      "__________________________________________________________________________________________________\n",
      "batch_normalization_20 (BatchNo (None, 28, 28, 512)  2048        conv2d_20[0][0]                  \n",
      "__________________________________________________________________________________________________\n",
      "add_5 (Add)                     (None, 28, 28, 512)  0           activation_15[0][0]              \n",
      "                                                                 batch_normalization_20[0][0]     \n",
      "__________________________________________________________________________________________________\n",
      "activation_18 (Activation)      (None, 28, 28, 512)  0           add_5[0][0]                      \n",
      "__________________________________________________________________________________________________\n",
      "conv2d_21 (Conv2D)              (None, 28, 28, 128)  65664       activation_18[0][0]              \n",
      "__________________________________________________________________________________________________\n",
      "batch_normalization_21 (BatchNo (None, 28, 28, 128)  512         conv2d_21[0][0]                  \n",
      "__________________________________________________________________________________________________\n",
      "activation_19 (Activation)      (None, 28, 28, 128)  0           batch_normalization_21[0][0]     \n",
      "__________________________________________________________________________________________________\n",
      "conv2d_22 (Conv2D)              (None, 28, 28, 128)  147584      activation_19[0][0]              \n",
      "__________________________________________________________________________________________________\n",
      "batch_normalization_22 (BatchNo (None, 28, 28, 128)  512         conv2d_22[0][0]                  \n",
      "__________________________________________________________________________________________________\n",
      "activation_20 (Activation)      (None, 28, 28, 128)  0           batch_normalization_22[0][0]     \n",
      "__________________________________________________________________________________________________\n",
      "conv2d_23 (Conv2D)              (None, 28, 28, 512)  66048       activation_20[0][0]              \n",
      "__________________________________________________________________________________________________\n",
      "batch_normalization_23 (BatchNo (None, 28, 28, 512)  2048        conv2d_23[0][0]                  \n",
      "__________________________________________________________________________________________________\n",
      "add_6 (Add)                     (None, 28, 28, 512)  0           activation_18[0][0]              \n",
      "                                                                 batch_normalization_23[0][0]     \n",
      "__________________________________________________________________________________________________\n",
      "activation_21 (Activation)      (None, 28, 28, 512)  0           add_6[0][0]                      \n",
      "__________________________________________________________________________________________________\n",
      "conv2d_25 (Conv2D)              (None, 14, 14, 256)  131328      activation_21[0][0]              \n",
      "__________________________________________________________________________________________________\n",
      "batch_normalization_25 (BatchNo (None, 14, 14, 256)  1024        conv2d_25[0][0]                  \n",
      "__________________________________________________________________________________________________\n",
      "activation_22 (Activation)      (None, 14, 14, 256)  0           batch_normalization_25[0][0]     \n",
      "__________________________________________________________________________________________________\n",
      "conv2d_26 (Conv2D)              (None, 14, 14, 256)  590080      activation_22[0][0]              \n",
      "__________________________________________________________________________________________________\n",
      "batch_normalization_26 (BatchNo (None, 14, 14, 256)  1024        conv2d_26[0][0]                  \n",
      "__________________________________________________________________________________________________\n",
      "activation_23 (Activation)      (None, 14, 14, 256)  0           batch_normalization_26[0][0]     \n",
      "__________________________________________________________________________________________________\n",
      "conv2d_24 (Conv2D)              (None, 14, 14, 1024) 525312      activation_21[0][0]              \n",
      "__________________________________________________________________________________________________\n",
      "conv2d_27 (Conv2D)              (None, 14, 14, 1024) 263168      activation_23[0][0]              \n",
      "__________________________________________________________________________________________________\n",
      "batch_normalization_24 (BatchNo (None, 14, 14, 1024) 4096        conv2d_24[0][0]                  \n",
      "__________________________________________________________________________________________________\n",
      "batch_normalization_27 (BatchNo (None, 14, 14, 1024) 4096        conv2d_27[0][0]                  \n",
      "__________________________________________________________________________________________________\n",
      "add_7 (Add)                     (None, 14, 14, 1024) 0           batch_normalization_24[0][0]     \n",
      "                                                                 batch_normalization_27[0][0]     \n",
      "__________________________________________________________________________________________________\n",
      "activation_24 (Activation)      (None, 14, 14, 1024) 0           add_7[0][0]                      \n",
      "__________________________________________________________________________________________________\n",
      "conv2d_28 (Conv2D)              (None, 14, 14, 256)  262400      activation_24[0][0]              \n",
      "__________________________________________________________________________________________________\n",
      "batch_normalization_28 (BatchNo (None, 14, 14, 256)  1024        conv2d_28[0][0]                  \n",
      "__________________________________________________________________________________________________\n",
      "activation_25 (Activation)      (None, 14, 14, 256)  0           batch_normalization_28[0][0]     \n",
      "__________________________________________________________________________________________________\n",
      "conv2d_29 (Conv2D)              (None, 14, 14, 256)  590080      activation_25[0][0]              \n",
      "__________________________________________________________________________________________________\n",
      "batch_normalization_29 (BatchNo (None, 14, 14, 256)  1024        conv2d_29[0][0]                  \n",
      "__________________________________________________________________________________________________\n",
      "activation_26 (Activation)      (None, 14, 14, 256)  0           batch_normalization_29[0][0]     \n",
      "__________________________________________________________________________________________________\n",
      "conv2d_30 (Conv2D)              (None, 14, 14, 1024) 263168      activation_26[0][0]              \n",
      "__________________________________________________________________________________________________\n",
      "batch_normalization_30 (BatchNo (None, 14, 14, 1024) 4096        conv2d_30[0][0]                  \n",
      "__________________________________________________________________________________________________\n",
      "add_8 (Add)                     (None, 14, 14, 1024) 0           activation_24[0][0]              \n",
      "                                                                 batch_normalization_30[0][0]     \n",
      "__________________________________________________________________________________________________\n",
      "activation_27 (Activation)      (None, 14, 14, 1024) 0           add_8[0][0]                      \n",
      "__________________________________________________________________________________________________\n",
      "conv2d_31 (Conv2D)              (None, 14, 14, 256)  262400      activation_27[0][0]              \n",
      "__________________________________________________________________________________________________\n",
      "batch_normalization_31 (BatchNo (None, 14, 14, 256)  1024        conv2d_31[0][0]                  \n",
      "__________________________________________________________________________________________________\n",
      "activation_28 (Activation)      (None, 14, 14, 256)  0           batch_normalization_31[0][0]     \n",
      "__________________________________________________________________________________________________\n",
      "conv2d_32 (Conv2D)              (None, 14, 14, 256)  590080      activation_28[0][0]              \n",
      "__________________________________________________________________________________________________\n",
      "batch_normalization_32 (BatchNo (None, 14, 14, 256)  1024        conv2d_32[0][0]                  \n",
      "__________________________________________________________________________________________________\n",
      "activation_29 (Activation)      (None, 14, 14, 256)  0           batch_normalization_32[0][0]     \n",
      "__________________________________________________________________________________________________\n",
      "conv2d_33 (Conv2D)              (None, 14, 14, 1024) 263168      activation_29[0][0]              \n",
      "__________________________________________________________________________________________________\n",
      "batch_normalization_33 (BatchNo (None, 14, 14, 1024) 4096        conv2d_33[0][0]                  \n",
      "__________________________________________________________________________________________________\n",
      "add_9 (Add)                     (None, 14, 14, 1024) 0           activation_27[0][0]              \n",
      "                                                                 batch_normalization_33[0][0]     \n",
      "__________________________________________________________________________________________________\n",
      "activation_30 (Activation)      (None, 14, 14, 1024) 0           add_9[0][0]                      \n",
      "__________________________________________________________________________________________________\n",
      "conv2d_34 (Conv2D)              (None, 14, 14, 256)  262400      activation_30[0][0]              \n",
      "__________________________________________________________________________________________________\n",
      "batch_normalization_34 (BatchNo (None, 14, 14, 256)  1024        conv2d_34[0][0]                  \n",
      "__________________________________________________________________________________________________\n",
      "activation_31 (Activation)      (None, 14, 14, 256)  0           batch_normalization_34[0][0]     \n",
      "__________________________________________________________________________________________________\n",
      "conv2d_35 (Conv2D)              (None, 14, 14, 256)  590080      activation_31[0][0]              \n",
      "__________________________________________________________________________________________________\n",
      "batch_normalization_35 (BatchNo (None, 14, 14, 256)  1024        conv2d_35[0][0]                  \n",
      "__________________________________________________________________________________________________\n",
      "activation_32 (Activation)      (None, 14, 14, 256)  0           batch_normalization_35[0][0]     \n",
      "__________________________________________________________________________________________________\n",
      "conv2d_36 (Conv2D)              (None, 14, 14, 1024) 263168      activation_32[0][0]              \n",
      "__________________________________________________________________________________________________\n",
      "batch_normalization_36 (BatchNo (None, 14, 14, 1024) 4096        conv2d_36[0][0]                  \n",
      "__________________________________________________________________________________________________\n",
      "add_10 (Add)                    (None, 14, 14, 1024) 0           activation_30[0][0]              \n",
      "                                                                 batch_normalization_36[0][0]     \n",
      "__________________________________________________________________________________________________\n",
      "activation_33 (Activation)      (None, 14, 14, 1024) 0           add_10[0][0]                     \n",
      "__________________________________________________________________________________________________\n",
      "conv2d_37 (Conv2D)              (None, 14, 14, 256)  262400      activation_33[0][0]              \n",
      "__________________________________________________________________________________________________\n",
      "batch_normalization_37 (BatchNo (None, 14, 14, 256)  1024        conv2d_37[0][0]                  \n",
      "__________________________________________________________________________________________________\n",
      "activation_34 (Activation)      (None, 14, 14, 256)  0           batch_normalization_37[0][0]     \n",
      "__________________________________________________________________________________________________\n",
      "conv2d_38 (Conv2D)              (None, 14, 14, 256)  590080      activation_34[0][0]              \n",
      "__________________________________________________________________________________________________\n",
      "batch_normalization_38 (BatchNo (None, 14, 14, 256)  1024        conv2d_38[0][0]                  \n",
      "__________________________________________________________________________________________________\n",
      "activation_35 (Activation)      (None, 14, 14, 256)  0           batch_normalization_38[0][0]     \n",
      "__________________________________________________________________________________________________\n",
      "conv2d_39 (Conv2D)              (None, 14, 14, 1024) 263168      activation_35[0][0]              \n",
      "__________________________________________________________________________________________________\n",
      "batch_normalization_39 (BatchNo (None, 14, 14, 1024) 4096        conv2d_39[0][0]                  \n",
      "__________________________________________________________________________________________________\n",
      "add_11 (Add)                    (None, 14, 14, 1024) 0           activation_33[0][0]              \n",
      "                                                                 batch_normalization_39[0][0]     \n",
      "__________________________________________________________________________________________________\n",
      "activation_36 (Activation)      (None, 14, 14, 1024) 0           add_11[0][0]                     \n",
      "__________________________________________________________________________________________________\n",
      "conv2d_40 (Conv2D)              (None, 14, 14, 256)  262400      activation_36[0][0]              \n",
      "__________________________________________________________________________________________________\n",
      "batch_normalization_40 (BatchNo (None, 14, 14, 256)  1024        conv2d_40[0][0]                  \n",
      "__________________________________________________________________________________________________\n",
      "activation_37 (Activation)      (None, 14, 14, 256)  0           batch_normalization_40[0][0]     \n",
      "__________________________________________________________________________________________________\n",
      "conv2d_41 (Conv2D)              (None, 14, 14, 256)  590080      activation_37[0][0]              \n",
      "__________________________________________________________________________________________________\n",
      "batch_normalization_41 (BatchNo (None, 14, 14, 256)  1024        conv2d_41[0][0]                  \n",
      "__________________________________________________________________________________________________\n",
      "activation_38 (Activation)      (None, 14, 14, 256)  0           batch_normalization_41[0][0]     \n",
      "__________________________________________________________________________________________________\n",
      "conv2d_42 (Conv2D)              (None, 14, 14, 1024) 263168      activation_38[0][0]              \n",
      "__________________________________________________________________________________________________\n",
      "batch_normalization_42 (BatchNo (None, 14, 14, 1024) 4096        conv2d_42[0][0]                  \n",
      "__________________________________________________________________________________________________\n",
      "add_12 (Add)                    (None, 14, 14, 1024) 0           activation_36[0][0]              \n",
      "                                                                 batch_normalization_42[0][0]     \n",
      "__________________________________________________________________________________________________\n",
      "activation_39 (Activation)      (None, 14, 14, 1024) 0           add_12[0][0]                     \n",
      "__________________________________________________________________________________________________\n",
      "conv2d_44 (Conv2D)              (None, 7, 7, 512)    524800      activation_39[0][0]              \n",
      "__________________________________________________________________________________________________\n",
      "batch_normalization_44 (BatchNo (None, 7, 7, 512)    2048        conv2d_44[0][0]                  \n",
      "__________________________________________________________________________________________________\n",
      "activation_40 (Activation)      (None, 7, 7, 512)    0           batch_normalization_44[0][0]     \n",
      "__________________________________________________________________________________________________\n",
      "conv2d_45 (Conv2D)              (None, 7, 7, 512)    2359808     activation_40[0][0]              \n",
      "__________________________________________________________________________________________________\n",
      "batch_normalization_45 (BatchNo (None, 7, 7, 512)    2048        conv2d_45[0][0]                  \n",
      "__________________________________________________________________________________________________\n",
      "activation_41 (Activation)      (None, 7, 7, 512)    0           batch_normalization_45[0][0]     \n",
      "__________________________________________________________________________________________________\n",
      "conv2d_43 (Conv2D)              (None, 7, 7, 2048)   2099200     activation_39[0][0]              \n",
      "__________________________________________________________________________________________________\n",
      "conv2d_46 (Conv2D)              (None, 7, 7, 2048)   1050624     activation_41[0][0]              \n",
      "__________________________________________________________________________________________________\n",
      "batch_normalization_43 (BatchNo (None, 7, 7, 2048)   8192        conv2d_43[0][0]                  \n",
      "__________________________________________________________________________________________________\n",
      "batch_normalization_46 (BatchNo (None, 7, 7, 2048)   8192        conv2d_46[0][0]                  \n",
      "__________________________________________________________________________________________________\n",
      "add_13 (Add)                    (None, 7, 7, 2048)   0           batch_normalization_43[0][0]     \n",
      "                                                                 batch_normalization_46[0][0]     \n",
      "__________________________________________________________________________________________________\n",
      "activation_42 (Activation)      (None, 7, 7, 2048)   0           add_13[0][0]                     \n",
      "__________________________________________________________________________________________________\n",
      "conv2d_47 (Conv2D)              (None, 7, 7, 512)    1049088     activation_42[0][0]              \n",
      "__________________________________________________________________________________________________\n",
      "batch_normalization_47 (BatchNo (None, 7, 7, 512)    2048        conv2d_47[0][0]                  \n",
      "__________________________________________________________________________________________________\n",
      "activation_43 (Activation)      (None, 7, 7, 512)    0           batch_normalization_47[0][0]     \n",
      "__________________________________________________________________________________________________\n",
      "conv2d_48 (Conv2D)              (None, 7, 7, 512)    2359808     activation_43[0][0]              \n",
      "__________________________________________________________________________________________________\n",
      "batch_normalization_48 (BatchNo (None, 7, 7, 512)    2048        conv2d_48[0][0]                  \n",
      "__________________________________________________________________________________________________\n",
      "activation_44 (Activation)      (None, 7, 7, 512)    0           batch_normalization_48[0][0]     \n",
      "__________________________________________________________________________________________________\n",
      "conv2d_49 (Conv2D)              (None, 7, 7, 2048)   1050624     activation_44[0][0]              \n",
      "__________________________________________________________________________________________________\n",
      "batch_normalization_49 (BatchNo (None, 7, 7, 2048)   8192        conv2d_49[0][0]                  \n",
      "__________________________________________________________________________________________________\n",
      "add_14 (Add)                    (None, 7, 7, 2048)   0           activation_42[0][0]              \n",
      "                                                                 batch_normalization_49[0][0]     \n",
      "__________________________________________________________________________________________________\n",
      "activation_45 (Activation)      (None, 7, 7, 2048)   0           add_14[0][0]                     \n",
      "__________________________________________________________________________________________________\n",
      "conv2d_50 (Conv2D)              (None, 7, 7, 512)    1049088     activation_45[0][0]              \n",
      "__________________________________________________________________________________________________\n",
      "batch_normalization_50 (BatchNo (None, 7, 7, 512)    2048        conv2d_50[0][0]                  \n",
      "__________________________________________________________________________________________________\n",
      "activation_46 (Activation)      (None, 7, 7, 512)    0           batch_normalization_50[0][0]     \n",
      "__________________________________________________________________________________________________\n",
      "conv2d_51 (Conv2D)              (None, 7, 7, 512)    2359808     activation_46[0][0]              \n",
      "__________________________________________________________________________________________________\n",
      "batch_normalization_51 (BatchNo (None, 7, 7, 512)    2048        conv2d_51[0][0]                  \n",
      "__________________________________________________________________________________________________\n",
      "activation_47 (Activation)      (None, 7, 7, 512)    0           batch_normalization_51[0][0]     \n",
      "__________________________________________________________________________________________________\n",
      "conv2d_52 (Conv2D)              (None, 7, 7, 2048)   1050624     activation_47[0][0]              \n",
      "__________________________________________________________________________________________________\n",
      "batch_normalization_52 (BatchNo (None, 7, 7, 2048)   8192        conv2d_52[0][0]                  \n",
      "__________________________________________________________________________________________________\n",
      "add_15 (Add)                    (None, 7, 7, 2048)   0           activation_45[0][0]              \n",
      "                                                                 batch_normalization_52[0][0]     \n",
      "__________________________________________________________________________________________________\n",
      "activation_48 (Activation)      (None, 7, 7, 2048)   0           add_15[0][0]                     \n",
      "__________________________________________________________________________________________________\n",
      "global_average_pooling2d (Globa (None, 2048)         0           activation_48[0][0]              \n",
      "__________________________________________________________________________________________________\n",
      "dense (Dense)                   (None, 257)          526593      global_average_pooling2d[0][0]   \n",
      "==================================================================================================\n",
      "Total params: 24,114,305\n",
      "Trainable params: 24,061,185\n",
      "Non-trainable params: 53,120\n",
      "__________________________________________________________________________________________________\n"
     ]
    }
   ],
   "source": [
    "model.summary()"
   ]
  },
  {
   "cell_type": "code",
   "execution_count": null,
   "metadata": {
    "colab": {},
    "colab_type": "code",
    "id": "WgvSugB5DmgF"
   },
   "outputs": [],
   "source": [
    "# 폴더 생성\n",
    "\n",
    "os.makedirs(os.path.join(dir,'model_output',number,model.name), exist_ok=True)\n",
    "os.makedirs(os.path.join(dir,'train_valid_output',number), exist_ok=True)"
   ]
  },
  {
   "cell_type": "code",
   "execution_count": null,
   "metadata": {
    "colab": {},
    "colab_type": "code",
    "id": "L2w4kvkSAd6R"
   },
   "outputs": [],
   "source": [
    "# 참고 : https://github.com/OverLordGoldDragon/keras-adamw\n",
    "\n",
    "import sys\n",
    "sys.path.append('/content/drive/My Drive/Colab Notebooks/Paper')\n",
    "import utils\n",
    "import optimizers_v2\n",
    "from utils import get_weight_decays, fill_dict_in_order\n",
    "from utils import reset_seeds, K_eval\n",
    "from optimizers_v2 import AdamW, NadamW, SGDW"
   ]
  },
  {
   "cell_type": "code",
   "execution_count": null,
   "metadata": {
    "colab": {
     "base_uri": "https://localhost:8080/",
     "height": 35
    },
    "colab_type": "code",
    "executionInfo": {
     "elapsed": 128576,
     "status": "ok",
     "timestamp": 1599313738246,
     "user": {
      "displayName": "이동규",
      "photoUrl": "",
      "userId": "07323071725004325774"
     },
     "user_tz": -540
    },
    "id": "BR7JaCZuRMS6",
    "outputId": "dd770d31-fdd7-4dea-8e14-ce3b270286c5"
   },
   "outputs": [
    {
     "name": "stdout",
     "output_type": "stream",
     "text": [
      "Using cosine annealing learning rates\n"
     ]
    }
   ],
   "source": [
    "optimizer = AdamW(model=model, use_cosine_annealing=True, total_iterations = len(x_train) // batch_sizes , eta_min = 1e-2)\n",
    "#optimizer = Adam()\n",
    "filepath =  os.path.join(dir,'model_output',number,model.name,'{epoch:03d}.h5')\n",
    "\n",
    "callbacks_list = [ModelCheckpoint(filepath, monitor='val_loss', verbose=1, save_weights_only=False, save_best_only=True, mode='min'),\n",
    "                  ModelCheckpoint(filepath, monitor='val_accuracy', verbose=1, save_weights_only=False, save_best_only=True, mode='max'),\n",
    "                  #ReduceLROnPlateau(monitor='val_loss',patience=3,factor=0.1,min_lr=1e-5),\n",
    "                  LearningRateScheduler(lr_schedule,verbose=1)\n",
    "                  ]\n",
    "                  \n",
    "model.compile(optimizer, loss = 'categorical_crossentropy', metrics=['accuracy',macro_f1score,weighted_f1score])"
   ]
  },
  {
   "cell_type": "code",
   "execution_count": null,
   "metadata": {
    "colab": {
     "base_uri": "https://localhost:8080/",
     "height": 1000
    },
    "colab_type": "code",
    "executionInfo": {
     "elapsed": 44518334,
     "status": "ok",
     "timestamp": 1599358128011,
     "user": {
      "displayName": "이동규",
      "photoUrl": "",
      "userId": "07323071725004325774"
     },
     "user_tz": -540
    },
    "id": "fzHXIfGrRMS-",
    "outputId": "7b42c0cc-a4bd-43f2-d7b2-0e4ca06ad1a8"
   },
   "outputs": [
    {
     "name": "stdout",
     "output_type": "stream",
     "text": [
      "Learning rate:  0.001\n",
      "\n",
      "Epoch 00001: LearningRateScheduler reducing learning rate to 0.001.\n",
      "Epoch 1/70\n",
      "0.0(L1), 0.0002170723834745943(L2) weight decay set for conv2d/kernel:0\n",
      "0.0(L1), 0.0002170723834745943(L2) weight decay set for conv2d_2/kernel:0\n",
      "0.0(L1), 0.0002170723834745943(L2) weight decay set for conv2d_3/kernel:0\n",
      "0.0(L1), 0.0002170723834745943(L2) weight decay set for conv2d_1/kernel:0\n",
      "0.0(L1), 0.0002170723834745943(L2) weight decay set for conv2d_4/kernel:0\n",
      "0.0(L1), 0.0002170723834745943(L2) weight decay set for conv2d_5/kernel:0\n",
      "0.0(L1), 0.0002170723834745943(L2) weight decay set for conv2d_6/kernel:0\n",
      "0.0(L1), 0.0002170723834745943(L2) weight decay set for conv2d_7/kernel:0\n",
      "0.0(L1), 0.0002170723834745943(L2) weight decay set for conv2d_8/kernel:0\n",
      "0.0(L1), 0.0002170723834745943(L2) weight decay set for conv2d_9/kernel:0\n",
      "0.0(L1), 0.0002170723834745943(L2) weight decay set for conv2d_10/kernel:0\n",
      "0.0(L1), 0.0002170723834745943(L2) weight decay set for conv2d_12/kernel:0\n",
      "0.0(L1), 0.0002170723834745943(L2) weight decay set for conv2d_13/kernel:0\n",
      "0.0(L1), 0.0002170723834745943(L2) weight decay set for conv2d_11/kernel:0\n",
      "0.0(L1), 0.0002170723834745943(L2) weight decay set for conv2d_14/kernel:0\n",
      "0.0(L1), 0.0002170723834745943(L2) weight decay set for conv2d_15/kernel:0\n",
      "0.0(L1), 0.0002170723834745943(L2) weight decay set for conv2d_16/kernel:0\n",
      "0.0(L1), 0.0002170723834745943(L2) weight decay set for conv2d_17/kernel:0\n",
      "0.0(L1), 0.0002170723834745943(L2) weight decay set for conv2d_18/kernel:0\n",
      "0.0(L1), 0.0002170723834745943(L2) weight decay set for conv2d_19/kernel:0\n",
      "0.0(L1), 0.0002170723834745943(L2) weight decay set for conv2d_20/kernel:0\n",
      "0.0(L1), 0.0002170723834745943(L2) weight decay set for conv2d_21/kernel:0\n",
      "0.0(L1), 0.0002170723834745943(L2) weight decay set for conv2d_22/kernel:0\n",
      "0.0(L1), 0.0002170723834745943(L2) weight decay set for conv2d_23/kernel:0\n",
      "0.0(L1), 0.0002170723834745943(L2) weight decay set for conv2d_25/kernel:0\n",
      "0.0(L1), 0.0002170723834745943(L2) weight decay set for conv2d_26/kernel:0\n",
      "0.0(L1), 0.0002170723834745943(L2) weight decay set for conv2d_24/kernel:0\n",
      "0.0(L1), 0.0002170723834745943(L2) weight decay set for conv2d_27/kernel:0\n",
      "0.0(L1), 0.0002170723834745943(L2) weight decay set for conv2d_28/kernel:0\n",
      "0.0(L1), 0.0002170723834745943(L2) weight decay set for conv2d_29/kernel:0\n",
      "0.0(L1), 0.0002170723834745943(L2) weight decay set for conv2d_30/kernel:0\n",
      "0.0(L1), 0.0002170723834745943(L2) weight decay set for conv2d_31/kernel:0\n",
      "0.0(L1), 0.0002170723834745943(L2) weight decay set for conv2d_32/kernel:0\n",
      "0.0(L1), 0.0002170723834745943(L2) weight decay set for conv2d_33/kernel:0\n",
      "0.0(L1), 0.0002170723834745943(L2) weight decay set for conv2d_34/kernel:0\n",
      "0.0(L1), 0.0002170723834745943(L2) weight decay set for conv2d_35/kernel:0\n",
      "0.0(L1), 0.0002170723834745943(L2) weight decay set for conv2d_36/kernel:0\n",
      "0.0(L1), 0.0002170723834745943(L2) weight decay set for conv2d_37/kernel:0\n",
      "0.0(L1), 0.0002170723834745943(L2) weight decay set for conv2d_38/kernel:0\n",
      "0.0(L1), 0.0002170723834745943(L2) weight decay set for conv2d_39/kernel:0\n",
      "0.0(L1), 0.0002170723834745943(L2) weight decay set for conv2d_40/kernel:0\n",
      "0.0(L1), 0.0002170723834745943(L2) weight decay set for conv2d_41/kernel:0\n",
      "0.0(L1), 0.0002170723834745943(L2) weight decay set for conv2d_42/kernel:0\n",
      "0.0(L1), 0.0002170723834745943(L2) weight decay set for conv2d_44/kernel:0\n",
      "0.0(L1), 0.0002170723834745943(L2) weight decay set for conv2d_45/kernel:0\n",
      "0.0(L1), 0.0002170723834745943(L2) weight decay set for conv2d_43/kernel:0\n",
      "0.0(L1), 0.0002170723834745943(L2) weight decay set for conv2d_46/kernel:0\n",
      "0.0(L1), 0.0002170723834745943(L2) weight decay set for conv2d_47/kernel:0\n",
      "0.0(L1), 0.0002170723834745943(L2) weight decay set for conv2d_48/kernel:0\n",
      "0.0(L1), 0.0002170723834745943(L2) weight decay set for conv2d_49/kernel:0\n",
      "0.0(L1), 0.0002170723834745943(L2) weight decay set for conv2d_50/kernel:0\n",
      "0.0(L1), 0.0002170723834745943(L2) weight decay set for conv2d_51/kernel:0\n",
      "0.0(L1), 0.0002170723834745943(L2) weight decay set for conv2d_52/kernel:0\n",
      "191/191 [==============================] - ETA: 0s - loss: 5.2439 - accuracy: 0.0822 - macro_f1score: 0.0016 - weighted_f1score: 3.1237e-05  \n",
      "Epoch 00001: val_loss improved from inf to 5.06383, saving model to /content/drive/My Drive/Colab Notebooks/Paper/CALTECH/No_GAN/model_output/1/ResNet50/001.h5\n",
      "\n",
      "Epoch 00001: val_accuracy improved from -inf to 0.05944, saving model to /content/drive/My Drive/Colab Notebooks/Paper/CALTECH/No_GAN/model_output/1/ResNet50/001.h5\n",
      "191/191 [==============================] - 13675s 72s/step - loss: 5.2439 - accuracy: 0.0822 - macro_f1score: 0.0016 - weighted_f1score: 3.1237e-05 - val_loss: 5.0638 - val_accuracy: 0.0594 - val_macro_f1score: 1.6918e-04 - val_weighted_f1score: 1.3217e-06\n",
      "Learning rate:  0.001\n",
      "\n",
      "Epoch 00002: LearningRateScheduler reducing learning rate to 0.001.\n",
      "Epoch 2/70\n",
      "191/191 [==============================] - ETA: 0s - loss: 4.6704 - accuracy: 0.1207 - macro_f1score: 0.0058 - weighted_f1score: 1.2491e-04\n",
      "Epoch 00002: val_loss improved from 5.06383 to 4.40921, saving model to /content/drive/My Drive/Colab Notebooks/Paper/CALTECH/No_GAN/model_output/1/ResNet50/002.h5\n",
      "\n",
      "Epoch 00002: val_accuracy improved from 0.05944 to 0.14232, saving model to /content/drive/My Drive/Colab Notebooks/Paper/CALTECH/No_GAN/model_output/1/ResNet50/002.h5\n",
      "191/191 [==============================] - 445s 2s/step - loss: 4.6704 - accuracy: 0.1207 - macro_f1score: 0.0058 - weighted_f1score: 1.2491e-04 - val_loss: 4.4092 - val_accuracy: 0.1423 - val_macro_f1score: 0.0065 - val_weighted_f1score: 1.5183e-04\n",
      "Learning rate:  0.001\n",
      "\n",
      "Epoch 00003: LearningRateScheduler reducing learning rate to 0.001.\n",
      "Epoch 3/70\n",
      "191/191 [==============================] - ETA: 0s - loss: 4.3550 - accuracy: 0.1514 - macro_f1score: 0.0089 - weighted_f1score: 1.9014e-04\n",
      "Epoch 00003: val_loss improved from 4.40921 to 4.21953, saving model to /content/drive/My Drive/Colab Notebooks/Paper/CALTECH/No_GAN/model_output/1/ResNet50/003.h5\n",
      "\n",
      "Epoch 00003: val_accuracy improved from 0.14232 to 0.17357, saving model to /content/drive/My Drive/Colab Notebooks/Paper/CALTECH/No_GAN/model_output/1/ResNet50/003.h5\n",
      "191/191 [==============================] - 443s 2s/step - loss: 4.3550 - accuracy: 0.1514 - macro_f1score: 0.0089 - weighted_f1score: 1.9014e-04 - val_loss: 4.2195 - val_accuracy: 0.1736 - val_macro_f1score: 0.0110 - val_weighted_f1score: 2.3298e-04\n",
      "Learning rate:  0.001\n",
      "\n",
      "Epoch 00004: LearningRateScheduler reducing learning rate to 0.001.\n",
      "Epoch 4/70\n",
      "191/191 [==============================] - ETA: 0s - loss: 4.0984 - accuracy: 0.1836 - macro_f1score: 0.0131 - weighted_f1score: 2.5442e-04\n",
      "Epoch 00004: val_loss improved from 4.21953 to 3.91563, saving model to /content/drive/My Drive/Colab Notebooks/Paper/CALTECH/No_GAN/model_output/1/ResNet50/004.h5\n",
      "\n",
      "Epoch 00004: val_accuracy improved from 0.17357 to 0.21026, saving model to /content/drive/My Drive/Colab Notebooks/Paper/CALTECH/No_GAN/model_output/1/ResNet50/004.h5\n",
      "191/191 [==============================] - 445s 2s/step - loss: 4.0984 - accuracy: 0.1836 - macro_f1score: 0.0131 - weighted_f1score: 2.5442e-04 - val_loss: 3.9156 - val_accuracy: 0.2103 - val_macro_f1score: 0.0152 - val_weighted_f1score: 2.6515e-04\n",
      "Learning rate:  0.001\n",
      "\n",
      "Epoch 00005: LearningRateScheduler reducing learning rate to 0.001.\n",
      "Epoch 5/70\n",
      "191/191 [==============================] - ETA: 0s - loss: 3.8658 - accuracy: 0.2124 - macro_f1score: 0.0178 - weighted_f1score: 3.2175e-04\n",
      "Epoch 00005: val_loss improved from 3.91563 to 3.74481, saving model to /content/drive/My Drive/Colab Notebooks/Paper/CALTECH/No_GAN/model_output/1/ResNet50/005.h5\n",
      "\n",
      "Epoch 00005: val_accuracy improved from 0.21026 to 0.24592, saving model to /content/drive/My Drive/Colab Notebooks/Paper/CALTECH/No_GAN/model_output/1/ResNet50/005.h5\n",
      "191/191 [==============================] - 446s 2s/step - loss: 3.8658 - accuracy: 0.2124 - macro_f1score: 0.0178 - weighted_f1score: 3.2175e-04 - val_loss: 3.7448 - val_accuracy: 0.2459 - val_macro_f1score: 0.0217 - val_weighted_f1score: 3.7024e-04\n",
      "Learning rate:  0.001\n",
      "\n",
      "Epoch 00006: LearningRateScheduler reducing learning rate to 0.001.\n",
      "Epoch 6/70\n",
      "191/191 [==============================] - ETA: 0s - loss: 3.6781 - accuracy: 0.2358 - macro_f1score: 0.0224 - weighted_f1score: 3.7663e-04\n",
      "Epoch 00006: val_loss improved from 3.74481 to 3.56994, saving model to /content/drive/My Drive/Colab Notebooks/Paper/CALTECH/No_GAN/model_output/1/ResNet50/006.h5\n",
      "\n",
      "Epoch 00006: val_accuracy improved from 0.24592 to 0.27072, saving model to /content/drive/My Drive/Colab Notebooks/Paper/CALTECH/No_GAN/model_output/1/ResNet50/006.h5\n",
      "191/191 [==============================] - 446s 2s/step - loss: 3.6781 - accuracy: 0.2358 - macro_f1score: 0.0224 - weighted_f1score: 3.7663e-04 - val_loss: 3.5699 - val_accuracy: 0.2707 - val_macro_f1score: 0.0245 - val_weighted_f1score: 4.1942e-04\n",
      "Learning rate:  0.001\n",
      "\n",
      "Epoch 00007: LearningRateScheduler reducing learning rate to 0.001.\n",
      "Epoch 7/70\n",
      "191/191 [==============================] - ETA: 0s - loss: 3.4709 - accuracy: 0.2692 - macro_f1score: 0.0290 - weighted_f1score: 4.5932e-04\n",
      "Epoch 00007: val_loss improved from 3.56994 to 3.45108, saving model to /content/drive/My Drive/Colab Notebooks/Paper/CALTECH/No_GAN/model_output/1/ResNet50/007.h5\n",
      "\n",
      "Epoch 00007: val_accuracy improved from 0.27072 to 0.30197, saving model to /content/drive/My Drive/Colab Notebooks/Paper/CALTECH/No_GAN/model_output/1/ResNet50/007.h5\n",
      "191/191 [==============================] - 449s 2s/step - loss: 3.4709 - accuracy: 0.2692 - macro_f1score: 0.0290 - weighted_f1score: 4.5932e-04 - val_loss: 3.4511 - val_accuracy: 0.3020 - val_macro_f1score: 0.0346 - val_weighted_f1score: 5.1209e-04\n",
      "Learning rate:  0.001\n",
      "\n",
      "Epoch 00008: LearningRateScheduler reducing learning rate to 0.001.\n",
      "Epoch 8/70\n",
      "191/191 [==============================] - ETA: 0s - loss: 3.3171 - accuracy: 0.2951 - macro_f1score: 0.0348 - weighted_f1score: 5.2172e-04\n",
      "Epoch 00008: val_loss improved from 3.45108 to 3.24928, saving model to /content/drive/My Drive/Colab Notebooks/Paper/CALTECH/No_GAN/model_output/1/ResNet50/008.h5\n",
      "\n",
      "Epoch 00008: val_accuracy improved from 0.30197 to 0.32914, saving model to /content/drive/My Drive/Colab Notebooks/Paper/CALTECH/No_GAN/model_output/1/ResNet50/008.h5\n",
      "191/191 [==============================] - 450s 2s/step - loss: 3.3171 - accuracy: 0.2951 - macro_f1score: 0.0348 - weighted_f1score: 5.2172e-04 - val_loss: 3.2493 - val_accuracy: 0.3291 - val_macro_f1score: 0.0416 - val_weighted_f1score: 6.0428e-04\n",
      "Learning rate:  0.001\n",
      "\n",
      "Epoch 00009: LearningRateScheduler reducing learning rate to 0.001.\n",
      "Epoch 9/70\n",
      "191/191 [==============================] - ETA: 0s - loss: 3.1141 - accuracy: 0.3210 - macro_f1score: 0.0440 - weighted_f1score: 6.1902e-04\n",
      "Epoch 00009: val_loss improved from 3.24928 to 3.02394, saving model to /content/drive/My Drive/Colab Notebooks/Paper/CALTECH/No_GAN/model_output/1/ResNet50/009.h5\n",
      "\n",
      "Epoch 00009: val_accuracy improved from 0.32914 to 0.35326, saving model to /content/drive/My Drive/Colab Notebooks/Paper/CALTECH/No_GAN/model_output/1/ResNet50/009.h5\n",
      "191/191 [==============================] - 449s 2s/step - loss: 3.1141 - accuracy: 0.3210 - macro_f1score: 0.0440 - weighted_f1score: 6.1902e-04 - val_loss: 3.0239 - val_accuracy: 0.3533 - val_macro_f1score: 0.0505 - val_weighted_f1score: 7.1341e-04\n",
      "Learning rate:  0.001\n",
      "\n",
      "Epoch 00010: LearningRateScheduler reducing learning rate to 0.001.\n",
      "Epoch 10/70\n",
      "191/191 [==============================] - ETA: 0s - loss: 2.9391 - accuracy: 0.3510 - macro_f1score: 0.0525 - weighted_f1score: 7.1843e-04\n",
      "Epoch 00010: val_loss improved from 3.02394 to 2.91551, saving model to /content/drive/My Drive/Colab Notebooks/Paper/CALTECH/No_GAN/model_output/1/ResNet50/010.h5\n",
      "\n",
      "Epoch 00010: val_accuracy improved from 0.35326 to 0.37364, saving model to /content/drive/My Drive/Colab Notebooks/Paper/CALTECH/No_GAN/model_output/1/ResNet50/010.h5\n",
      "191/191 [==============================] - 450s 2s/step - loss: 2.9391 - accuracy: 0.3510 - macro_f1score: 0.0525 - weighted_f1score: 7.1843e-04 - val_loss: 2.9155 - val_accuracy: 0.3736 - val_macro_f1score: 0.0582 - val_weighted_f1score: 7.8364e-04\n",
      "Learning rate:  0.001\n",
      "\n",
      "Epoch 00011: LearningRateScheduler reducing learning rate to 0.001.\n",
      "Epoch 11/70\n",
      "191/191 [==============================] - ETA: 0s - loss: 2.7771 - accuracy: 0.3812 - macro_f1score: 0.0619 - weighted_f1score: 8.2860e-04\n",
      "Epoch 00011: val_loss improved from 2.91551 to 2.84377, saving model to /content/drive/My Drive/Colab Notebooks/Paper/CALTECH/No_GAN/model_output/1/ResNet50/011.h5\n",
      "\n",
      "Epoch 00011: val_accuracy improved from 0.37364 to 0.38791, saving model to /content/drive/My Drive/Colab Notebooks/Paper/CALTECH/No_GAN/model_output/1/ResNet50/011.h5\n",
      "191/191 [==============================] - 449s 2s/step - loss: 2.7771 - accuracy: 0.3812 - macro_f1score: 0.0619 - weighted_f1score: 8.2860e-04 - val_loss: 2.8438 - val_accuracy: 0.3879 - val_macro_f1score: 0.0684 - val_weighted_f1score: 9.1073e-04\n",
      "Learning rate:  0.001\n",
      "\n",
      "Epoch 00012: LearningRateScheduler reducing learning rate to 0.001.\n",
      "Epoch 12/70\n",
      "191/191 [==============================] - ETA: 0s - loss: 2.6459 - accuracy: 0.4045 - macro_f1score: 0.0719 - weighted_f1score: 9.2375e-04\n",
      "Epoch 00012: val_loss improved from 2.84377 to 2.68162, saving model to /content/drive/My Drive/Colab Notebooks/Paper/CALTECH/No_GAN/model_output/1/ResNet50/012.h5\n",
      "\n",
      "Epoch 00012: val_accuracy improved from 0.38791 to 0.41882, saving model to /content/drive/My Drive/Colab Notebooks/Paper/CALTECH/No_GAN/model_output/1/ResNet50/012.h5\n",
      "191/191 [==============================] - 447s 2s/step - loss: 2.6459 - accuracy: 0.4045 - macro_f1score: 0.0719 - weighted_f1score: 9.2375e-04 - val_loss: 2.6816 - val_accuracy: 0.4188 - val_macro_f1score: 0.0800 - val_weighted_f1score: 0.0010\n",
      "Learning rate:  0.001\n",
      "\n",
      "Epoch 00013: LearningRateScheduler reducing learning rate to 0.001.\n",
      "Epoch 13/70\n",
      "191/191 [==============================] - ETA: 0s - loss: 2.4886 - accuracy: 0.4353 - macro_f1score: 0.0814 - weighted_f1score: 0.0010\n",
      "Epoch 00013: val_loss improved from 2.68162 to 2.62712, saving model to /content/drive/My Drive/Colab Notebooks/Paper/CALTECH/No_GAN/model_output/1/ResNet50/013.h5\n",
      "\n",
      "Epoch 00013: val_accuracy improved from 0.41882 to 0.42425, saving model to /content/drive/My Drive/Colab Notebooks/Paper/CALTECH/No_GAN/model_output/1/ResNet50/013.h5\n",
      "191/191 [==============================] - 450s 2s/step - loss: 2.4886 - accuracy: 0.4353 - macro_f1score: 0.0814 - weighted_f1score: 0.0010 - val_loss: 2.6271 - val_accuracy: 0.4243 - val_macro_f1score: 0.0890 - val_weighted_f1score: 0.0011\n",
      "Learning rate:  0.001\n",
      "\n",
      "Epoch 00014: LearningRateScheduler reducing learning rate to 0.001.\n",
      "Epoch 14/70\n",
      "191/191 [==============================] - ETA: 0s - loss: 2.3634 - accuracy: 0.4550 - macro_f1score: 0.0926 - weighted_f1score: 0.0011\n",
      "Epoch 00014: val_loss improved from 2.62712 to 2.57223, saving model to /content/drive/My Drive/Colab Notebooks/Paper/CALTECH/No_GAN/model_output/1/ResNet50/014.h5\n",
      "\n",
      "Epoch 00014: val_accuracy improved from 0.42425 to 0.43886, saving model to /content/drive/My Drive/Colab Notebooks/Paper/CALTECH/No_GAN/model_output/1/ResNet50/014.h5\n",
      "191/191 [==============================] - 448s 2s/step - loss: 2.3634 - accuracy: 0.4550 - macro_f1score: 0.0926 - weighted_f1score: 0.0011 - val_loss: 2.5722 - val_accuracy: 0.4389 - val_macro_f1score: 0.0953 - val_weighted_f1score: 0.0012\n",
      "Learning rate:  0.001\n",
      "\n",
      "Epoch 00015: LearningRateScheduler reducing learning rate to 0.001.\n",
      "Epoch 15/70\n",
      "191/191 [==============================] - ETA: 0s - loss: 2.2526 - accuracy: 0.4767 - macro_f1score: 0.1031 - weighted_f1score: 0.0012\n",
      "Epoch 00015: val_loss improved from 2.57223 to 2.44723, saving model to /content/drive/My Drive/Colab Notebooks/Paper/CALTECH/No_GAN/model_output/1/ResNet50/015.h5\n",
      "\n",
      "Epoch 00015: val_accuracy improved from 0.43886 to 0.46026, saving model to /content/drive/My Drive/Colab Notebooks/Paper/CALTECH/No_GAN/model_output/1/ResNet50/015.h5\n",
      "191/191 [==============================] - 449s 2s/step - loss: 2.2526 - accuracy: 0.4767 - macro_f1score: 0.1031 - weighted_f1score: 0.0012 - val_loss: 2.4472 - val_accuracy: 0.4603 - val_macro_f1score: 0.1094 - val_weighted_f1score: 0.0013\n",
      "Learning rate:  0.001\n",
      "\n",
      "Epoch 00016: LearningRateScheduler reducing learning rate to 0.001.\n",
      "Epoch 16/70\n",
      "191/191 [==============================] - ETA: 0s - loss: 2.1157 - accuracy: 0.5019 - macro_f1score: 0.1142 - weighted_f1score: 0.0014\n",
      "Epoch 00016: val_loss improved from 2.44723 to 2.43277, saving model to /content/drive/My Drive/Colab Notebooks/Paper/CALTECH/No_GAN/model_output/1/ResNet50/016.h5\n",
      "\n",
      "Epoch 00016: val_accuracy improved from 0.46026 to 0.46128, saving model to /content/drive/My Drive/Colab Notebooks/Paper/CALTECH/No_GAN/model_output/1/ResNet50/016.h5\n",
      "191/191 [==============================] - 448s 2s/step - loss: 2.1157 - accuracy: 0.5019 - macro_f1score: 0.1142 - weighted_f1score: 0.0014 - val_loss: 2.4328 - val_accuracy: 0.4613 - val_macro_f1score: 0.1155 - val_weighted_f1score: 0.0014\n",
      "Learning rate:  0.001\n",
      "\n",
      "Epoch 00017: LearningRateScheduler reducing learning rate to 0.001.\n",
      "Epoch 17/70\n",
      "191/191 [==============================] - ETA: 0s - loss: 2.0226 - accuracy: 0.5184 - macro_f1score: 0.1220 - weighted_f1score: 0.0014\n",
      "Epoch 00017: val_loss improved from 2.43277 to 2.34258, saving model to /content/drive/My Drive/Colab Notebooks/Paper/CALTECH/No_GAN/model_output/1/ResNet50/017.h5\n",
      "\n",
      "Epoch 00017: val_accuracy improved from 0.46128 to 0.47962, saving model to /content/drive/My Drive/Colab Notebooks/Paper/CALTECH/No_GAN/model_output/1/ResNet50/017.h5\n",
      "191/191 [==============================] - 443s 2s/step - loss: 2.0226 - accuracy: 0.5184 - macro_f1score: 0.1220 - weighted_f1score: 0.0014 - val_loss: 2.3426 - val_accuracy: 0.4796 - val_macro_f1score: 0.1183 - val_weighted_f1score: 0.0014\n",
      "Learning rate:  0.001\n",
      "\n",
      "Epoch 00018: LearningRateScheduler reducing learning rate to 0.001.\n",
      "Epoch 18/70\n",
      "191/191 [==============================] - ETA: 0s - loss: 1.9354 - accuracy: 0.5380 - macro_f1score: 0.1307 - weighted_f1score: 0.0015\n",
      "Epoch 00018: val_loss improved from 2.34258 to 2.32365, saving model to /content/drive/My Drive/Colab Notebooks/Paper/CALTECH/No_GAN/model_output/1/ResNet50/018.h5\n",
      "\n",
      "Epoch 00018: val_accuracy improved from 0.47962 to 0.49355, saving model to /content/drive/My Drive/Colab Notebooks/Paper/CALTECH/No_GAN/model_output/1/ResNet50/018.h5\n",
      "191/191 [==============================] - 438s 2s/step - loss: 1.9354 - accuracy: 0.5380 - macro_f1score: 0.1307 - weighted_f1score: 0.0015 - val_loss: 2.3237 - val_accuracy: 0.4935 - val_macro_f1score: 0.1270 - val_weighted_f1score: 0.0015\n",
      "Learning rate:  0.001\n",
      "\n",
      "Epoch 00019: LearningRateScheduler reducing learning rate to 0.001.\n",
      "Epoch 19/70\n",
      "191/191 [==============================] - ETA: 0s - loss: 1.8273 - accuracy: 0.5576 - macro_f1score: 0.1404 - weighted_f1score: 0.0016\n",
      "Epoch 00019: val_loss improved from 2.32365 to 2.26842, saving model to /content/drive/My Drive/Colab Notebooks/Paper/CALTECH/No_GAN/model_output/1/ResNet50/019.h5\n",
      "\n",
      "Epoch 00019: val_accuracy improved from 0.49355 to 0.49423, saving model to /content/drive/My Drive/Colab Notebooks/Paper/CALTECH/No_GAN/model_output/1/ResNet50/019.h5\n",
      "191/191 [==============================] - 440s 2s/step - loss: 1.8273 - accuracy: 0.5576 - macro_f1score: 0.1404 - weighted_f1score: 0.0016 - val_loss: 2.2684 - val_accuracy: 0.4942 - val_macro_f1score: 0.1275 - val_weighted_f1score: 0.0015\n",
      "Learning rate:  0.001\n",
      "\n",
      "Epoch 00020: LearningRateScheduler reducing learning rate to 0.001.\n",
      "Epoch 20/70\n",
      "191/191 [==============================] - ETA: 0s - loss: 1.7382 - accuracy: 0.5767 - macro_f1score: 0.1489 - weighted_f1score: 0.0017\n",
      "Epoch 00020: val_loss improved from 2.26842 to 2.25793, saving model to /content/drive/My Drive/Colab Notebooks/Paper/CALTECH/No_GAN/model_output/1/ResNet50/020.h5\n",
      "\n",
      "Epoch 00020: val_accuracy improved from 0.49423 to 0.50170, saving model to /content/drive/My Drive/Colab Notebooks/Paper/CALTECH/No_GAN/model_output/1/ResNet50/020.h5\n",
      "191/191 [==============================] - 432s 2s/step - loss: 1.7382 - accuracy: 0.5767 - macro_f1score: 0.1489 - weighted_f1score: 0.0017 - val_loss: 2.2579 - val_accuracy: 0.5017 - val_macro_f1score: 0.1376 - val_weighted_f1score: 0.0016\n",
      "Learning rate:  0.001\n",
      "\n",
      "Epoch 00021: LearningRateScheduler reducing learning rate to 0.001.\n",
      "Epoch 21/70\n",
      "191/191 [==============================] - ETA: 0s - loss: 1.6492 - accuracy: 0.5951 - macro_f1score: 0.1585 - weighted_f1score: 0.0018\n",
      "Epoch 00021: val_loss improved from 2.25793 to 2.18932, saving model to /content/drive/My Drive/Colab Notebooks/Paper/CALTECH/No_GAN/model_output/1/ResNet50/021.h5\n",
      "\n",
      "Epoch 00021: val_accuracy improved from 0.50170 to 0.51596, saving model to /content/drive/My Drive/Colab Notebooks/Paper/CALTECH/No_GAN/model_output/1/ResNet50/021.h5\n",
      "191/191 [==============================] - 415s 2s/step - loss: 1.6492 - accuracy: 0.5951 - macro_f1score: 0.1585 - weighted_f1score: 0.0018 - val_loss: 2.1893 - val_accuracy: 0.5160 - val_macro_f1score: 0.1388 - val_weighted_f1score: 0.0016\n",
      "Learning rate:  0.001\n",
      "\n",
      "Epoch 00022: LearningRateScheduler reducing learning rate to 0.001.\n",
      "Epoch 22/70\n",
      "191/191 [==============================] - ETA: 0s - loss: 1.5588 - accuracy: 0.6085 - macro_f1score: 0.1655 - weighted_f1score: 0.0019\n",
      "Epoch 00022: val_loss improved from 2.18932 to 2.17270, saving model to /content/drive/My Drive/Colab Notebooks/Paper/CALTECH/No_GAN/model_output/1/ResNet50/022.h5\n",
      "\n",
      "Epoch 00022: val_accuracy improved from 0.51596 to 0.52038, saving model to /content/drive/My Drive/Colab Notebooks/Paper/CALTECH/No_GAN/model_output/1/ResNet50/022.h5\n",
      "191/191 [==============================] - 425s 2s/step - loss: 1.5588 - accuracy: 0.6085 - macro_f1score: 0.1655 - weighted_f1score: 0.0019 - val_loss: 2.1727 - val_accuracy: 0.5204 - val_macro_f1score: 0.1453 - val_weighted_f1score: 0.0017\n",
      "Learning rate:  0.001\n",
      "\n",
      "Epoch 00023: LearningRateScheduler reducing learning rate to 0.001.\n",
      "Epoch 23/70\n",
      "191/191 [==============================] - ETA: 0s - loss: 1.5005 - accuracy: 0.6246 - macro_f1score: 0.1715 - weighted_f1score: 0.0019\n",
      "Epoch 00023: val_loss did not improve from 2.17270\n",
      "\n",
      "Epoch 00023: val_accuracy did not improve from 0.52038\n",
      "191/191 [==============================] - 439s 2s/step - loss: 1.5005 - accuracy: 0.6246 - macro_f1score: 0.1715 - weighted_f1score: 0.0019 - val_loss: 2.1935 - val_accuracy: 0.5204 - val_macro_f1score: 0.1435 - val_weighted_f1score: 0.0017\n",
      "Learning rate:  0.001\n",
      "\n",
      "Epoch 00024: LearningRateScheduler reducing learning rate to 0.001.\n",
      "Epoch 24/70\n",
      "191/191 [==============================] - ETA: 0s - loss: 1.4003 - accuracy: 0.6441 - macro_f1score: 0.1825 - weighted_f1score: 0.0020\n",
      "Epoch 00024: val_loss did not improve from 2.17270\n",
      "\n",
      "Epoch 00024: val_accuracy improved from 0.52038 to 0.52310, saving model to /content/drive/My Drive/Colab Notebooks/Paper/CALTECH/No_GAN/model_output/1/ResNet50/024.h5\n",
      "191/191 [==============================] - 446s 2s/step - loss: 1.4003 - accuracy: 0.6441 - macro_f1score: 0.1825 - weighted_f1score: 0.0020 - val_loss: 2.1852 - val_accuracy: 0.5231 - val_macro_f1score: 0.1478 - val_weighted_f1score: 0.0017\n",
      "Learning rate:  0.001\n",
      "\n",
      "Epoch 00025: LearningRateScheduler reducing learning rate to 0.001.\n",
      "Epoch 25/70\n",
      "191/191 [==============================] - ETA: 0s - loss: 1.3371 - accuracy: 0.6581 - macro_f1score: 0.1889 - weighted_f1score: 0.0021\n",
      "Epoch 00025: val_loss improved from 2.17270 to 2.09717, saving model to /content/drive/My Drive/Colab Notebooks/Paper/CALTECH/No_GAN/model_output/1/ResNet50/025.h5\n",
      "\n",
      "Epoch 00025: val_accuracy improved from 0.52310 to 0.54212, saving model to /content/drive/My Drive/Colab Notebooks/Paper/CALTECH/No_GAN/model_output/1/ResNet50/025.h5\n",
      "191/191 [==============================] - 448s 2s/step - loss: 1.3371 - accuracy: 0.6581 - macro_f1score: 0.1889 - weighted_f1score: 0.0021 - val_loss: 2.0972 - val_accuracy: 0.5421 - val_macro_f1score: 0.1557 - val_weighted_f1score: 0.0018\n",
      "Learning rate:  0.001\n",
      "\n",
      "Epoch 00026: LearningRateScheduler reducing learning rate to 0.001.\n",
      "Epoch 26/70\n",
      "191/191 [==============================] - ETA: 0s - loss: 1.2762 - accuracy: 0.6723 - macro_f1score: 0.1951 - weighted_f1score: 0.0022\n",
      "Epoch 00026: val_loss did not improve from 2.09717\n",
      "\n",
      "Epoch 00026: val_accuracy did not improve from 0.54212\n",
      "191/191 [==============================] - 437s 2s/step - loss: 1.2762 - accuracy: 0.6723 - macro_f1score: 0.1951 - weighted_f1score: 0.0022 - val_loss: 2.1470 - val_accuracy: 0.5370 - val_macro_f1score: 0.1565 - val_weighted_f1score: 0.0018\n",
      "Learning rate:  0.001\n",
      "\n",
      "Epoch 00027: LearningRateScheduler reducing learning rate to 0.001.\n",
      "Epoch 27/70\n",
      "191/191 [==============================] - ETA: 0s - loss: 1.2179 - accuracy: 0.6820 - macro_f1score: 0.2027 - weighted_f1score: 0.0022\n",
      "Epoch 00027: val_loss did not improve from 2.09717\n",
      "\n",
      "Epoch 00027: val_accuracy did not improve from 0.54212\n",
      "191/191 [==============================] - 431s 2s/step - loss: 1.2179 - accuracy: 0.6820 - macro_f1score: 0.2027 - weighted_f1score: 0.0022 - val_loss: 2.1040 - val_accuracy: 0.5387 - val_macro_f1score: 0.1577 - val_weighted_f1score: 0.0018\n",
      "Learning rate:  0.001\n",
      "\n",
      "Epoch 00028: LearningRateScheduler reducing learning rate to 0.001.\n",
      "Epoch 28/70\n",
      "191/191 [==============================] - ETA: 0s - loss: 1.1219 - accuracy: 0.7030 - macro_f1score: 0.2117 - weighted_f1score: 0.0024\n",
      "Epoch 00028: val_loss improved from 2.09717 to 2.02973, saving model to /content/drive/My Drive/Colab Notebooks/Paper/CALTECH/No_GAN/model_output/1/ResNet50/028.h5\n",
      "\n",
      "Epoch 00028: val_accuracy improved from 0.54212 to 0.55944, saving model to /content/drive/My Drive/Colab Notebooks/Paper/CALTECH/No_GAN/model_output/1/ResNet50/028.h5\n",
      "191/191 [==============================] - 444s 2s/step - loss: 1.1219 - accuracy: 0.7030 - macro_f1score: 0.2117 - weighted_f1score: 0.0024 - val_loss: 2.0297 - val_accuracy: 0.5594 - val_macro_f1score: 0.1655 - val_weighted_f1score: 0.0019\n",
      "Learning rate:  0.001\n",
      "\n",
      "Epoch 00029: LearningRateScheduler reducing learning rate to 0.001.\n",
      "Epoch 29/70\n",
      "191/191 [==============================] - ETA: 0s - loss: 1.0785 - accuracy: 0.7185 - macro_f1score: 0.2192 - weighted_f1score: 0.0024\n",
      "Epoch 00029: val_loss did not improve from 2.02973\n",
      "\n",
      "Epoch 00029: val_accuracy did not improve from 0.55944\n",
      "191/191 [==============================] - 447s 2s/step - loss: 1.0785 - accuracy: 0.7185 - macro_f1score: 0.2192 - weighted_f1score: 0.0024 - val_loss: 2.0652 - val_accuracy: 0.5577 - val_macro_f1score: 0.1715 - val_weighted_f1score: 0.0019\n",
      "Learning rate:  0.001\n",
      "\n",
      "Epoch 00030: LearningRateScheduler reducing learning rate to 0.001.\n",
      "Epoch 30/70\n",
      "191/191 [==============================] - ETA: 0s - loss: 1.0152 - accuracy: 0.7359 - macro_f1score: 0.2259 - weighted_f1score: 0.0025\n",
      "Epoch 00030: val_loss did not improve from 2.02973\n",
      "\n",
      "Epoch 00030: val_accuracy did not improve from 0.55944\n",
      "191/191 [==============================] - 444s 2s/step - loss: 1.0152 - accuracy: 0.7359 - macro_f1score: 0.2259 - weighted_f1score: 0.0025 - val_loss: 2.0360 - val_accuracy: 0.5543 - val_macro_f1score: 0.1649 - val_weighted_f1score: 0.0019\n",
      "Learning rate:  0.001\n",
      "\n",
      "Epoch 00031: LearningRateScheduler reducing learning rate to 0.001.\n",
      "Epoch 31/70\n",
      "191/191 [==============================] - ETA: 0s - loss: 0.9662 - accuracy: 0.7421 - macro_f1score: 0.2310 - weighted_f1score: 0.0025\n",
      "Epoch 00031: val_loss did not improve from 2.02973\n",
      "\n",
      "Epoch 00031: val_accuracy did not improve from 0.55944\n",
      "191/191 [==============================] - 444s 2s/step - loss: 0.9662 - accuracy: 0.7421 - macro_f1score: 0.2310 - weighted_f1score: 0.0025 - val_loss: 2.0811 - val_accuracy: 0.5567 - val_macro_f1score: 0.1692 - val_weighted_f1score: 0.0019\n",
      "Learning rate:  0.001\n",
      "\n",
      "Epoch 00032: LearningRateScheduler reducing learning rate to 0.001.\n",
      "Epoch 32/70\n",
      "191/191 [==============================] - ETA: 0s - loss: 0.8991 - accuracy: 0.7589 - macro_f1score: 0.2398 - weighted_f1score: 0.0026\n",
      "Epoch 00032: val_loss did not improve from 2.02973\n",
      "\n",
      "Epoch 00032: val_accuracy improved from 0.55944 to 0.56624, saving model to /content/drive/My Drive/Colab Notebooks/Paper/CALTECH/No_GAN/model_output/1/ResNet50/032.h5\n",
      "191/191 [==============================] - 446s 2s/step - loss: 0.8991 - accuracy: 0.7589 - macro_f1score: 0.2398 - weighted_f1score: 0.0026 - val_loss: 2.0467 - val_accuracy: 0.5662 - val_macro_f1score: 0.1769 - val_weighted_f1score: 0.0020\n",
      "Learning rate:  0.001\n",
      "\n",
      "Epoch 00033: LearningRateScheduler reducing learning rate to 0.001.\n",
      "Epoch 33/70\n",
      "191/191 [==============================] - ETA: 0s - loss: 0.8419 - accuracy: 0.7717 - macro_f1score: 0.2486 - weighted_f1score: 0.0027\n",
      "Epoch 00033: val_loss did not improve from 2.02973\n",
      "\n",
      "Epoch 00033: val_accuracy did not improve from 0.56624\n",
      "191/191 [==============================] - 435s 2s/step - loss: 0.8419 - accuracy: 0.7717 - macro_f1score: 0.2486 - weighted_f1score: 0.0027 - val_loss: 2.1353 - val_accuracy: 0.5635 - val_macro_f1score: 0.1717 - val_weighted_f1score: 0.0020\n",
      "Learning rate:  0.001\n",
      "\n",
      "Epoch 00034: LearningRateScheduler reducing learning rate to 0.001.\n",
      "Epoch 34/70\n",
      "191/191 [==============================] - ETA: 0s - loss: 0.8217 - accuracy: 0.7760 - macro_f1score: 0.2494 - weighted_f1score: 0.0027\n",
      "Epoch 00034: val_loss did not improve from 2.02973\n",
      "\n",
      "Epoch 00034: val_accuracy did not improve from 0.56624\n",
      "191/191 [==============================] - 436s 2s/step - loss: 0.8217 - accuracy: 0.7760 - macro_f1score: 0.2494 - weighted_f1score: 0.0027 - val_loss: 2.0732 - val_accuracy: 0.5605 - val_macro_f1score: 0.1753 - val_weighted_f1score: 0.0020\n",
      "Learning rate:  0.001\n",
      "\n",
      "Epoch 00035: LearningRateScheduler reducing learning rate to 0.001.\n",
      "Epoch 35/70\n",
      "191/191 [==============================] - ETA: 0s - loss: 0.7623 - accuracy: 0.7925 - macro_f1score: 0.2566 - weighted_f1score: 0.0028\n",
      "Epoch 00035: val_loss did not improve from 2.02973\n",
      "\n",
      "Epoch 00035: val_accuracy did not improve from 0.56624\n",
      "191/191 [==============================] - 433s 2s/step - loss: 0.7623 - accuracy: 0.7925 - macro_f1score: 0.2566 - weighted_f1score: 0.0028 - val_loss: 2.0790 - val_accuracy: 0.5656 - val_macro_f1score: 0.1716 - val_weighted_f1score: 0.0020\n",
      "Learning rate:  0.001\n",
      "\n",
      "Epoch 00036: LearningRateScheduler reducing learning rate to 0.001.\n",
      "Epoch 36/70\n",
      "191/191 [==============================] - ETA: 0s - loss: 0.7330 - accuracy: 0.7981 - macro_f1score: 0.2609 - weighted_f1score: 0.0028\n",
      "Epoch 00036: val_loss did not improve from 2.02973\n",
      "\n",
      "Epoch 00036: val_accuracy did not improve from 0.56624\n",
      "191/191 [==============================] - 439s 2s/step - loss: 0.7330 - accuracy: 0.7981 - macro_f1score: 0.2609 - weighted_f1score: 0.0028 - val_loss: 2.1090 - val_accuracy: 0.5584 - val_macro_f1score: 0.1734 - val_weighted_f1score: 0.0020\n",
      "Learning rate:  0.001\n",
      "\n",
      "Epoch 00037: LearningRateScheduler reducing learning rate to 0.001.\n",
      "Epoch 37/70\n",
      "191/191 [==============================] - ETA: 0s - loss: 0.7139 - accuracy: 0.8027 - macro_f1score: 0.2641 - weighted_f1score: 0.0029\n",
      "Epoch 00037: val_loss did not improve from 2.02973\n",
      "\n",
      "Epoch 00037: val_accuracy improved from 0.56624 to 0.58220, saving model to /content/drive/My Drive/Colab Notebooks/Paper/CALTECH/No_GAN/model_output/1/ResNet50/037.h5\n",
      "191/191 [==============================] - 445s 2s/step - loss: 0.7139 - accuracy: 0.8027 - macro_f1score: 0.2641 - weighted_f1score: 0.0029 - val_loss: 2.0390 - val_accuracy: 0.5822 - val_macro_f1score: 0.1814 - val_weighted_f1score: 0.0021\n",
      "Learning rate:  0.001\n",
      "\n",
      "Epoch 00038: LearningRateScheduler reducing learning rate to 0.001.\n",
      "Epoch 38/70\n",
      "191/191 [==============================] - ETA: 0s - loss: 0.8484 - accuracy: 0.7675 - macro_f1score: 0.2470 - weighted_f1score: 0.0027\n",
      "Epoch 00038: val_loss did not improve from 2.02973\n",
      "\n",
      "Epoch 00038: val_accuracy did not improve from 0.58220\n",
      "191/191 [==============================] - 444s 2s/step - loss: 0.8484 - accuracy: 0.7675 - macro_f1score: 0.2470 - weighted_f1score: 0.0027 - val_loss: 2.1071 - val_accuracy: 0.5594 - val_macro_f1score: 0.1735 - val_weighted_f1score: 0.0020\n",
      "Learning rate:  0.001\n",
      "\n",
      "Epoch 00039: LearningRateScheduler reducing learning rate to 0.001.\n",
      "Epoch 39/70\n",
      "191/191 [==============================] - ETA: 0s - loss: 0.6764 - accuracy: 0.8128 - macro_f1score: 0.2677 - weighted_f1score: 0.0029\n",
      "Epoch 00039: val_loss did not improve from 2.02973\n",
      "\n",
      "Epoch 00039: val_accuracy did not improve from 0.58220\n",
      "191/191 [==============================] - 443s 2s/step - loss: 0.6764 - accuracy: 0.8128 - macro_f1score: 0.2677 - weighted_f1score: 0.0029 - val_loss: 2.0844 - val_accuracy: 0.5724 - val_macro_f1score: 0.1779 - val_weighted_f1score: 0.0020\n",
      "Learning rate:  0.001\n",
      "\n",
      "Epoch 00040: LearningRateScheduler reducing learning rate to 0.001.\n",
      "Epoch 40/70\n",
      "191/191 [==============================] - ETA: 0s - loss: 0.6241 - accuracy: 0.8252 - macro_f1score: 0.2765 - weighted_f1score: 0.0030\n",
      "Epoch 00040: val_loss did not improve from 2.02973\n",
      "\n",
      "Epoch 00040: val_accuracy did not improve from 0.58220\n",
      "191/191 [==============================] - 441s 2s/step - loss: 0.6241 - accuracy: 0.8252 - macro_f1score: 0.2765 - weighted_f1score: 0.0030 - val_loss: 2.0635 - val_accuracy: 0.5805 - val_macro_f1score: 0.1810 - val_weighted_f1score: 0.0020\n",
      "Learning rate:  0.001\n",
      "\n",
      "Epoch 00041: LearningRateScheduler reducing learning rate to 0.001.\n",
      "Epoch 41/70\n",
      "191/191 [==============================] - ETA: 0s - loss: 0.5549 - accuracy: 0.8440 - macro_f1score: 0.2852 - weighted_f1score: 0.0031\n",
      "Epoch 00041: val_loss did not improve from 2.02973\n",
      "\n",
      "Epoch 00041: val_accuracy improved from 0.58220 to 0.58730, saving model to /content/drive/My Drive/Colab Notebooks/Paper/CALTECH/No_GAN/model_output/1/ResNet50/041.h5\n",
      "191/191 [==============================] - 446s 2s/step - loss: 0.5549 - accuracy: 0.8440 - macro_f1score: 0.2852 - weighted_f1score: 0.0031 - val_loss: 2.0884 - val_accuracy: 0.5873 - val_macro_f1score: 0.1836 - val_weighted_f1score: 0.0021\n",
      "Learning rate:  0.001\n",
      "\n",
      "Epoch 00042: LearningRateScheduler reducing learning rate to 0.001.\n",
      "Epoch 42/70\n",
      "191/191 [==============================] - ETA: 0s - loss: 0.5371 - accuracy: 0.8495 - macro_f1score: 0.2874 - weighted_f1score: 0.0031\n",
      "Epoch 00042: val_loss did not improve from 2.02973\n",
      "\n",
      "Epoch 00042: val_accuracy did not improve from 0.58730\n",
      "191/191 [==============================] - 445s 2s/step - loss: 0.5371 - accuracy: 0.8495 - macro_f1score: 0.2874 - weighted_f1score: 0.0031 - val_loss: 2.1191 - val_accuracy: 0.5812 - val_macro_f1score: 0.1855 - val_weighted_f1score: 0.0021\n",
      "Learning rate:  0.001\n",
      "\n",
      "Epoch 00043: LearningRateScheduler reducing learning rate to 0.001.\n",
      "Epoch 43/70\n",
      "191/191 [==============================] - ETA: 0s - loss: 0.4833 - accuracy: 0.8634 - macro_f1score: 0.2966 - weighted_f1score: 0.0032\n",
      "Epoch 00043: val_loss did not improve from 2.02973\n",
      "\n",
      "Epoch 00043: val_accuracy did not improve from 0.58730\n",
      "191/191 [==============================] - 444s 2s/step - loss: 0.4833 - accuracy: 0.8634 - macro_f1score: 0.2966 - weighted_f1score: 0.0032 - val_loss: 2.1562 - val_accuracy: 0.5825 - val_macro_f1score: 0.1863 - val_weighted_f1score: 0.0021\n",
      "Learning rate:  0.001\n",
      "\n",
      "Epoch 00044: LearningRateScheduler reducing learning rate to 0.001.\n",
      "Epoch 44/70\n",
      "191/191 [==============================] - ETA: 0s - loss: 0.4781 - accuracy: 0.8596 - macro_f1score: 0.2980 - weighted_f1score: 0.0032\n",
      "Epoch 00044: val_loss did not improve from 2.02973\n",
      "\n",
      "Epoch 00044: val_accuracy did not improve from 0.58730\n",
      "191/191 [==============================] - 443s 2s/step - loss: 0.4781 - accuracy: 0.8596 - macro_f1score: 0.2980 - weighted_f1score: 0.0032 - val_loss: 2.2126 - val_accuracy: 0.5751 - val_macro_f1score: 0.1850 - val_weighted_f1score: 0.0021\n",
      "Learning rate:  0.001\n",
      "\n",
      "Epoch 00045: LearningRateScheduler reducing learning rate to 0.001.\n",
      "Epoch 45/70\n",
      "191/191 [==============================] - ETA: 0s - loss: 0.4271 - accuracy: 0.8786 - macro_f1score: 0.3047 - weighted_f1score: 0.0033\n",
      "Epoch 00045: val_loss did not improve from 2.02973\n",
      "\n",
      "Epoch 00045: val_accuracy did not improve from 0.58730\n",
      "191/191 [==============================] - 443s 2s/step - loss: 0.4271 - accuracy: 0.8786 - macro_f1score: 0.3047 - weighted_f1score: 0.0033 - val_loss: 2.1169 - val_accuracy: 0.5846 - val_macro_f1score: 0.1905 - val_weighted_f1score: 0.0021\n",
      "Learning rate:  0.001\n",
      "\n",
      "Epoch 00046: LearningRateScheduler reducing learning rate to 0.001.\n",
      "Epoch 46/70\n",
      "191/191 [==============================] - ETA: 0s - loss: 0.4337 - accuracy: 0.8764 - macro_f1score: 0.3035 - weighted_f1score: 0.0032\n",
      "Epoch 00046: val_loss did not improve from 2.02973\n",
      "\n",
      "Epoch 00046: val_accuracy did not improve from 0.58730\n",
      "191/191 [==============================] - 445s 2s/step - loss: 0.4337 - accuracy: 0.8764 - macro_f1score: 0.3035 - weighted_f1score: 0.0032 - val_loss: 2.1197 - val_accuracy: 0.5859 - val_macro_f1score: 0.1871 - val_weighted_f1score: 0.0021\n",
      "Learning rate:  0.001\n",
      "\n",
      "Epoch 00047: LearningRateScheduler reducing learning rate to 0.001.\n",
      "Epoch 47/70\n",
      "191/191 [==============================] - ETA: 0s - loss: 0.4014 - accuracy: 0.8852 - macro_f1score: 0.3090 - weighted_f1score: 0.0033\n",
      "Epoch 00047: val_loss did not improve from 2.02973\n",
      "\n",
      "Epoch 00047: val_accuracy did not improve from 0.58730\n",
      "191/191 [==============================] - 444s 2s/step - loss: 0.4014 - accuracy: 0.8852 - macro_f1score: 0.3090 - weighted_f1score: 0.0033 - val_loss: 2.1588 - val_accuracy: 0.5832 - val_macro_f1score: 0.1921 - val_weighted_f1score: 0.0021\n",
      "Learning rate:  0.001\n",
      "\n",
      "Epoch 00048: LearningRateScheduler reducing learning rate to 0.001.\n",
      "Epoch 48/70\n",
      "191/191 [==============================] - ETA: 0s - loss: 0.4231 - accuracy: 0.8765 - macro_f1score: 0.3041 - weighted_f1score: 0.0033\n",
      "Epoch 00048: val_loss did not improve from 2.02973\n",
      "\n",
      "Epoch 00048: val_accuracy did not improve from 0.58730\n",
      "191/191 [==============================] - 443s 2s/step - loss: 0.4231 - accuracy: 0.8765 - macro_f1score: 0.3041 - weighted_f1score: 0.0033 - val_loss: 2.1525 - val_accuracy: 0.5781 - val_macro_f1score: 0.1911 - val_weighted_f1score: 0.0021\n",
      "Learning rate:  0.001\n",
      "\n",
      "Epoch 00049: LearningRateScheduler reducing learning rate to 0.001.\n",
      "Epoch 49/70\n",
      "191/191 [==============================] - ETA: 0s - loss: 0.3892 - accuracy: 0.8856 - macro_f1score: 0.3103 - weighted_f1score: 0.0033\n",
      "Epoch 00049: val_loss did not improve from 2.02973\n",
      "\n",
      "Epoch 00049: val_accuracy did not improve from 0.58730\n",
      "191/191 [==============================] - 446s 2s/step - loss: 0.3892 - accuracy: 0.8856 - macro_f1score: 0.3103 - weighted_f1score: 0.0033 - val_loss: 2.1872 - val_accuracy: 0.5853 - val_macro_f1score: 0.1909 - val_weighted_f1score: 0.0021\n",
      "Learning rate:  0.001\n",
      "\n",
      "Epoch 00050: LearningRateScheduler reducing learning rate to 0.001.\n",
      "Epoch 50/70\n",
      "191/191 [==============================] - ETA: 0s - loss: 0.3630 - accuracy: 0.8960 - macro_f1score: 0.3150 - weighted_f1score: 0.0033\n",
      "Epoch 00050: val_loss did not improve from 2.02973\n",
      "\n",
      "Epoch 00050: val_accuracy did not improve from 0.58730\n",
      "191/191 [==============================] - 444s 2s/step - loss: 0.3630 - accuracy: 0.8960 - macro_f1score: 0.3150 - weighted_f1score: 0.0033 - val_loss: 2.1753 - val_accuracy: 0.5846 - val_macro_f1score: 0.1882 - val_weighted_f1score: 0.0021\n",
      "Learning rate:  0.0001\n",
      "\n",
      "Epoch 00051: LearningRateScheduler reducing learning rate to 0.0001.\n",
      "Epoch 51/70\n",
      "191/191 [==============================] - ETA: 0s - loss: 0.1129 - accuracy: 0.9739 - macro_f1score: 0.3570 - weighted_f1score: 0.0037\n",
      "Epoch 00051: val_loss did not improve from 2.02973\n",
      "\n",
      "Epoch 00051: val_accuracy improved from 0.58730 to 0.59579, saving model to /content/drive/My Drive/Colab Notebooks/Paper/CALTECH/No_GAN/model_output/1/ResNet50/051.h5\n",
      "191/191 [==============================] - 445s 2s/step - loss: 0.1129 - accuracy: 0.9739 - macro_f1score: 0.3570 - weighted_f1score: 0.0037 - val_loss: 2.2032 - val_accuracy: 0.5958 - val_macro_f1score: 0.1970 - val_weighted_f1score: 0.0022\n",
      "Learning rate:  0.0001\n",
      "\n",
      "Epoch 00052: LearningRateScheduler reducing learning rate to 0.0001.\n",
      "Epoch 52/70\n",
      "191/191 [==============================] - ETA: 0s - loss: 0.0754 - accuracy: 0.9839 - macro_f1score: 0.3617 - weighted_f1score: 0.0038\n",
      "Epoch 00052: val_loss did not improve from 2.02973\n",
      "\n",
      "Epoch 00052: val_accuracy improved from 0.59579 to 0.60122, saving model to /content/drive/My Drive/Colab Notebooks/Paper/CALTECH/No_GAN/model_output/1/ResNet50/052.h5\n",
      "191/191 [==============================] - 448s 2s/step - loss: 0.0754 - accuracy: 0.9839 - macro_f1score: 0.3617 - weighted_f1score: 0.0038 - val_loss: 2.2758 - val_accuracy: 0.6012 - val_macro_f1score: 0.1969 - val_weighted_f1score: 0.0022\n",
      "Learning rate:  0.0001\n",
      "\n",
      "Epoch 00053: LearningRateScheduler reducing learning rate to 0.0001.\n",
      "Epoch 53/70\n",
      "191/191 [==============================] - ETA: 0s - loss: 0.0654 - accuracy: 0.9847 - macro_f1score: 0.3641 - weighted_f1score: 0.0038\n",
      "Epoch 00053: val_loss did not improve from 2.02973\n",
      "\n",
      "Epoch 00053: val_accuracy improved from 0.60122 to 0.60156, saving model to /content/drive/My Drive/Colab Notebooks/Paper/CALTECH/No_GAN/model_output/1/ResNet50/053.h5\n",
      "191/191 [==============================] - 447s 2s/step - loss: 0.0654 - accuracy: 0.9847 - macro_f1score: 0.3641 - weighted_f1score: 0.0038 - val_loss: 2.3289 - val_accuracy: 0.6016 - val_macro_f1score: 0.2008 - val_weighted_f1score: 0.0023\n",
      "Learning rate:  0.0001\n",
      "\n",
      "Epoch 00054: LearningRateScheduler reducing learning rate to 0.0001.\n",
      "Epoch 54/70\n",
      "191/191 [==============================] - ETA: 0s - loss: 0.0588 - accuracy: 0.9873 - macro_f1score: 0.3654 - weighted_f1score: 0.0038\n",
      "Epoch 00054: val_loss did not improve from 2.02973\n",
      "\n",
      "Epoch 00054: val_accuracy improved from 0.60156 to 0.60360, saving model to /content/drive/My Drive/Colab Notebooks/Paper/CALTECH/No_GAN/model_output/1/ResNet50/054.h5\n",
      "191/191 [==============================] - 446s 2s/step - loss: 0.0588 - accuracy: 0.9873 - macro_f1score: 0.3654 - weighted_f1score: 0.0038 - val_loss: 2.3676 - val_accuracy: 0.6036 - val_macro_f1score: 0.1976 - val_weighted_f1score: 0.0023\n",
      "Learning rate:  0.0001\n",
      "\n",
      "Epoch 00055: LearningRateScheduler reducing learning rate to 0.0001.\n",
      "Epoch 55/70\n",
      "191/191 [==============================] - ETA: 0s - loss: 0.0505 - accuracy: 0.9897 - macro_f1score: 0.3663 - weighted_f1score: 0.0038\n",
      "Epoch 00055: val_loss did not improve from 2.02973\n",
      "\n",
      "Epoch 00055: val_accuracy did not improve from 0.60360\n",
      "191/191 [==============================] - 444s 2s/step - loss: 0.0505 - accuracy: 0.9897 - macro_f1score: 0.3663 - weighted_f1score: 0.0038 - val_loss: 2.3906 - val_accuracy: 0.6026 - val_macro_f1score: 0.2002 - val_weighted_f1score: 0.0022\n",
      "Learning rate:  0.0001\n",
      "\n",
      "Epoch 00056: LearningRateScheduler reducing learning rate to 0.0001.\n",
      "Epoch 56/70\n",
      "191/191 [==============================] - ETA: 0s - loss: 0.0499 - accuracy: 0.9891 - macro_f1score: 0.3665 - weighted_f1score: 0.0038\n",
      "Epoch 00056: val_loss did not improve from 2.02973\n",
      "\n",
      "Epoch 00056: val_accuracy did not improve from 0.60360\n",
      "191/191 [==============================] - 443s 2s/step - loss: 0.0499 - accuracy: 0.9891 - macro_f1score: 0.3665 - weighted_f1score: 0.0038 - val_loss: 2.4164 - val_accuracy: 0.6022 - val_macro_f1score: 0.1975 - val_weighted_f1score: 0.0023\n",
      "Learning rate:  0.0001\n",
      "\n",
      "Epoch 00057: LearningRateScheduler reducing learning rate to 0.0001.\n",
      "Epoch 57/70\n",
      "191/191 [==============================] - ETA: 0s - loss: 0.0418 - accuracy: 0.9912 - macro_f1score: 0.3666 - weighted_f1score: 0.0038\n",
      "Epoch 00057: val_loss did not improve from 2.02973\n",
      "\n",
      "Epoch 00057: val_accuracy did not improve from 0.60360\n",
      "191/191 [==============================] - 442s 2s/step - loss: 0.0418 - accuracy: 0.9912 - macro_f1score: 0.3666 - weighted_f1score: 0.0038 - val_loss: 2.4501 - val_accuracy: 0.6019 - val_macro_f1score: 0.2021 - val_weighted_f1score: 0.0023\n",
      "Learning rate:  0.0001\n",
      "\n",
      "Epoch 00058: LearningRateScheduler reducing learning rate to 0.0001.\n",
      "Epoch 58/70\n",
      "191/191 [==============================] - ETA: 0s - loss: 0.0373 - accuracy: 0.9918 - macro_f1score: 0.3663 - weighted_f1score: 0.0039\n",
      "Epoch 00058: val_loss did not improve from 2.02973\n",
      "\n",
      "Epoch 00058: val_accuracy did not improve from 0.60360\n",
      "191/191 [==============================] - 445s 2s/step - loss: 0.0373 - accuracy: 0.9918 - macro_f1score: 0.3663 - weighted_f1score: 0.0039 - val_loss: 2.5087 - val_accuracy: 0.6036 - val_macro_f1score: 0.2061 - val_weighted_f1score: 0.0023\n",
      "Learning rate:  0.0001\n",
      "\n",
      "Epoch 00059: LearningRateScheduler reducing learning rate to 0.0001.\n",
      "Epoch 59/70\n",
      "191/191 [==============================] - ETA: 0s - loss: 0.0393 - accuracy: 0.9913 - macro_f1score: 0.3664 - weighted_f1score: 0.0038\n",
      "Epoch 00059: val_loss did not improve from 2.02973\n",
      "\n",
      "Epoch 00059: val_accuracy improved from 0.60360 to 0.60802, saving model to /content/drive/My Drive/Colab Notebooks/Paper/CALTECH/No_GAN/model_output/1/ResNet50/059.h5\n",
      "191/191 [==============================] - 444s 2s/step - loss: 0.0393 - accuracy: 0.9913 - macro_f1score: 0.3664 - weighted_f1score: 0.0038 - val_loss: 2.4653 - val_accuracy: 0.6080 - val_macro_f1score: 0.2029 - val_weighted_f1score: 0.0023\n",
      "Learning rate:  0.0001\n",
      "\n",
      "Epoch 00060: LearningRateScheduler reducing learning rate to 0.0001.\n",
      "Epoch 60/70\n",
      "191/191 [==============================] - ETA: 0s - loss: 0.0387 - accuracy: 0.9919 - macro_f1score: 0.3669 - weighted_f1score: 0.0039\n",
      "Epoch 00060: val_loss did not improve from 2.02973\n",
      "\n",
      "Epoch 00060: val_accuracy did not improve from 0.60802\n",
      "191/191 [==============================] - 444s 2s/step - loss: 0.0387 - accuracy: 0.9919 - macro_f1score: 0.3669 - weighted_f1score: 0.0039 - val_loss: 2.5035 - val_accuracy: 0.5992 - val_macro_f1score: 0.2005 - val_weighted_f1score: 0.0023\n",
      "Learning rate:  0.0001\n",
      "\n",
      "Epoch 00061: LearningRateScheduler reducing learning rate to 0.0001.\n",
      "Epoch 61/70\n",
      "191/191 [==============================] - ETA: 0s - loss: 0.0309 - accuracy: 0.9936 - macro_f1score: 0.3685 - weighted_f1score: 0.0039\n",
      "Epoch 00061: val_loss did not improve from 2.02973\n",
      "\n",
      "Epoch 00061: val_accuracy did not improve from 0.60802\n",
      "191/191 [==============================] - 445s 2s/step - loss: 0.0309 - accuracy: 0.9936 - macro_f1score: 0.3685 - weighted_f1score: 0.0039 - val_loss: 2.5498 - val_accuracy: 0.6043 - val_macro_f1score: 0.2042 - val_weighted_f1score: 0.0023\n",
      "Learning rate:  0.0001\n",
      "\n",
      "Epoch 00062: LearningRateScheduler reducing learning rate to 0.0001.\n",
      "Epoch 62/70\n",
      "191/191 [==============================] - ETA: 0s - loss: 0.0334 - accuracy: 0.9929 - macro_f1score: 0.3670 - weighted_f1score: 0.0039\n",
      "Epoch 00062: val_loss did not improve from 2.02973\n",
      "\n",
      "Epoch 00062: val_accuracy did not improve from 0.60802\n",
      "191/191 [==============================] - 447s 2s/step - loss: 0.0334 - accuracy: 0.9929 - macro_f1score: 0.3670 - weighted_f1score: 0.0039 - val_loss: 2.5631 - val_accuracy: 0.5988 - val_macro_f1score: 0.2007 - val_weighted_f1score: 0.0023\n",
      "Learning rate:  0.0001\n",
      "\n",
      "Epoch 00063: LearningRateScheduler reducing learning rate to 0.0001.\n",
      "Epoch 63/70\n",
      "191/191 [==============================] - ETA: 0s - loss: 0.0324 - accuracy: 0.9922 - macro_f1score: 0.3690 - weighted_f1score: 0.0039\n",
      "Epoch 00063: val_loss did not improve from 2.02973\n",
      "\n",
      "Epoch 00063: val_accuracy did not improve from 0.60802\n",
      "191/191 [==============================] - 448s 2s/step - loss: 0.0324 - accuracy: 0.9922 - macro_f1score: 0.3690 - weighted_f1score: 0.0039 - val_loss: 2.5876 - val_accuracy: 0.6029 - val_macro_f1score: 0.2023 - val_weighted_f1score: 0.0023\n",
      "Learning rate:  0.0001\n",
      "\n",
      "Epoch 00064: LearningRateScheduler reducing learning rate to 0.0001.\n",
      "Epoch 64/70\n",
      "191/191 [==============================] - ETA: 0s - loss: 0.0324 - accuracy: 0.9930 - macro_f1score: 0.3670 - weighted_f1score: 0.0039\n",
      "Epoch 00064: val_loss did not improve from 2.02973\n",
      "\n",
      "Epoch 00064: val_accuracy did not improve from 0.60802\n",
      "191/191 [==============================] - 446s 2s/step - loss: 0.0324 - accuracy: 0.9930 - macro_f1score: 0.3670 - weighted_f1score: 0.0039 - val_loss: 2.5737 - val_accuracy: 0.6029 - val_macro_f1score: 0.2037 - val_weighted_f1score: 0.0023\n",
      "Learning rate:  0.0001\n",
      "\n",
      "Epoch 00065: LearningRateScheduler reducing learning rate to 0.0001.\n",
      "Epoch 65/70\n",
      "191/191 [==============================] - ETA: 0s - loss: 0.0313 - accuracy: 0.9934 - macro_f1score: 0.3677 - weighted_f1score: 0.0039\n",
      "Epoch 00065: val_loss did not improve from 2.02973\n",
      "\n",
      "Epoch 00065: val_accuracy did not improve from 0.60802\n",
      "191/191 [==============================] - 445s 2s/step - loss: 0.0313 - accuracy: 0.9934 - macro_f1score: 0.3677 - weighted_f1score: 0.0039 - val_loss: 2.6299 - val_accuracy: 0.5968 - val_macro_f1score: 0.1992 - val_weighted_f1score: 0.0023\n",
      "Learning rate:  0.0001\n",
      "\n",
      "Epoch 00066: LearningRateScheduler reducing learning rate to 0.0001.\n",
      "Epoch 66/70\n",
      "191/191 [==============================] - ETA: 0s - loss: 0.0264 - accuracy: 0.9944 - macro_f1score: 0.3665 - weighted_f1score: 0.0039\n",
      "Epoch 00066: val_loss did not improve from 2.02973\n",
      "\n",
      "Epoch 00066: val_accuracy did not improve from 0.60802\n",
      "191/191 [==============================] - 443s 2s/step - loss: 0.0264 - accuracy: 0.9944 - macro_f1score: 0.3665 - weighted_f1score: 0.0039 - val_loss: 2.7028 - val_accuracy: 0.5968 - val_macro_f1score: 0.2054 - val_weighted_f1score: 0.0023\n",
      "Learning rate:  0.0001\n",
      "\n",
      "Epoch 00067: LearningRateScheduler reducing learning rate to 0.0001.\n",
      "Epoch 67/70\n",
      "191/191 [==============================] - ETA: 0s - loss: 0.0291 - accuracy: 0.9935 - macro_f1score: 0.3673 - weighted_f1score: 0.0039\n",
      "Epoch 00067: val_loss did not improve from 2.02973\n",
      "\n",
      "Epoch 00067: val_accuracy did not improve from 0.60802\n",
      "191/191 [==============================] - 443s 2s/step - loss: 0.0291 - accuracy: 0.9935 - macro_f1score: 0.3673 - weighted_f1score: 0.0039 - val_loss: 2.6743 - val_accuracy: 0.5982 - val_macro_f1score: 0.2069 - val_weighted_f1score: 0.0023\n",
      "Learning rate:  0.0001\n",
      "\n",
      "Epoch 00068: LearningRateScheduler reducing learning rate to 0.0001.\n",
      "Epoch 68/70\n",
      "191/191 [==============================] - ETA: 0s - loss: 0.0254 - accuracy: 0.9946 - macro_f1score: 0.3681 - weighted_f1score: 0.0039\n",
      "Epoch 00068: val_loss did not improve from 2.02973\n",
      "\n",
      "Epoch 00068: val_accuracy did not improve from 0.60802\n",
      "191/191 [==============================] - 443s 2s/step - loss: 0.0254 - accuracy: 0.9946 - macro_f1score: 0.3681 - weighted_f1score: 0.0039 - val_loss: 2.6568 - val_accuracy: 0.5958 - val_macro_f1score: 0.2004 - val_weighted_f1score: 0.0023\n",
      "Learning rate:  0.0001\n",
      "\n",
      "Epoch 00069: LearningRateScheduler reducing learning rate to 0.0001.\n",
      "Epoch 69/70\n",
      "191/191 [==============================] - ETA: 0s - loss: 0.0252 - accuracy: 0.9942 - macro_f1score: 0.3683 - weighted_f1score: 0.0039\n",
      "Epoch 00069: val_loss did not improve from 2.02973\n",
      "\n",
      "Epoch 00069: val_accuracy did not improve from 0.60802\n",
      "191/191 [==============================] - 445s 2s/step - loss: 0.0252 - accuracy: 0.9942 - macro_f1score: 0.3683 - weighted_f1score: 0.0039 - val_loss: 2.6561 - val_accuracy: 0.6060 - val_macro_f1score: 0.2028 - val_weighted_f1score: 0.0023\n",
      "Learning rate:  0.0001\n",
      "\n",
      "Epoch 00070: LearningRateScheduler reducing learning rate to 0.0001.\n",
      "Epoch 70/70\n",
      "191/191 [==============================] - ETA: 0s - loss: 0.0271 - accuracy: 0.9939 - macro_f1score: 0.3674 - weighted_f1score: 0.0039\n",
      "Epoch 00070: val_loss did not improve from 2.02973\n",
      "\n",
      "Epoch 00070: val_accuracy did not improve from 0.60802\n",
      "191/191 [==============================] - 444s 2s/step - loss: 0.0271 - accuracy: 0.9939 - macro_f1score: 0.3674 - weighted_f1score: 0.0039 - val_loss: 2.7049 - val_accuracy: 0.6019 - val_macro_f1score: 0.2049 - val_weighted_f1score: 0.0023\n"
     ]
    }
   ],
   "source": [
    "######## flow_from_directory\n",
    "history = model.fit(train_generator, steps_per_epoch=int(len(x_train)/batch_sizes),  validation_data = valid_generator, epochs=epochs , verbose=1 , callbacks = callbacks_list , validation_steps=int(len(x_valid)/batch_sizes))"
   ]
  },
  {
   "cell_type": "markdown",
   "metadata": {
    "colab_type": "text",
    "id": "GrcVLA1ARMTB"
   },
   "source": [
    "### 2) ResNet50 Evaluate"
   ]
  },
  {
   "cell_type": "code",
   "execution_count": null,
   "metadata": {
    "colab": {
     "base_uri": "https://localhost:8080/",
     "height": 70
    },
    "colab_type": "code",
    "executionInfo": {
     "elapsed": 45717264,
     "status": "ok",
     "timestamp": 1599359326958,
     "user": {
      "displayName": "이동규",
      "photoUrl": "",
      "userId": "07323071725004325774"
     },
     "user_tz": -540
    },
    "id": "l2YDIRWJRMTC",
    "outputId": "7ee8fa19-f3de-4bb1-cf14-1c8eeff8ae9e",
    "scrolled": true
   },
   "outputs": [
    {
     "name": "stdout",
     "output_type": "stream",
     "text": [
      "24/24 [==============================] - 1130s 47s/step - loss: 2.7629 - accuracy: 0.5791 - macro_f1score: 0.1970 - weighted_f1score: 0.0022\n",
      "[Test Loss: 2.7629 /  Test Accuracy: 0.5791 / Test Macro f1: 0.1970 / Test Weighted f1: 0.0022]\n",
      "\n"
     ]
    }
   ],
   "source": [
    "# 1. epoch=maximum\n",
    "loss , acc, mf1, wf1 = model.evaluate(test_generator,steps=int(len(x_test)/batch_sizes))\n",
    "print('[Test Loss: %.4f /  Test Accuracy: %.4f / Test Macro f1: %.4f / Test Weighted f1: %.4f]\\n' % (loss,acc,mf1,wf1))"
   ]
  },
  {
   "cell_type": "code",
   "execution_count": null,
   "metadata": {
    "colab": {},
    "colab_type": "code",
    "id": "QdFa0ZaJRMTF"
   },
   "outputs": [],
   "source": [
    "loss=history.history['loss']\n",
    "val_loss=history.history['val_loss']\n",
    "acc=history.history['accuracy']\n",
    "val_acc=history.history['val_accuracy']\n",
    "f1=history.history['macro_f1score']\n",
    "val_f1=history.history['val_macro_f1score']\n",
    "epochs=range(1,len(acc)+1)\n",
    "\n",
    "data = np.array([epochs,loss,val_loss,acc,val_acc,f1,val_f1]).T"
   ]
  },
  {
   "cell_type": "code",
   "execution_count": null,
   "metadata": {
    "colab": {},
    "colab_type": "code",
    "id": "XF_NRyU7RMTL"
   },
   "outputs": [],
   "source": [
    "# data save\n",
    "# epochs, loss, val_loss, acc, val_acc, f1, val_f1\n",
    "\n",
    "np.savetxt(os.path.join(dir,'train_valid_output',number,model.name+'.txt'),data)"
   ]
  },
  {
   "cell_type": "code",
   "execution_count": null,
   "metadata": {
    "colab": {},
    "colab_type": "code",
    "id": "UxWVS1nWRMTP"
   },
   "outputs": [],
   "source": [
    "# data import\n",
    "data = np.loadtxt(os.path.join(dir,'train_valid_output',number,'ResNet50.txt'))"
   ]
  },
  {
   "cell_type": "code",
   "execution_count": null,
   "metadata": {
    "colab": {},
    "colab_type": "code",
    "id": "ZVGF8yllRMTT"
   },
   "outputs": [],
   "source": [
    "epochs=data[:,0]\n",
    "loss=data[:,1]\n",
    "val_loss=data[:,2]\n",
    "acc=data[:,3]\n",
    "val_acc=data[:,4]"
   ]
  },
  {
   "cell_type": "code",
   "execution_count": null,
   "metadata": {
    "colab": {
     "base_uri": "https://localhost:8080/",
     "height": 545
    },
    "colab_type": "code",
    "executionInfo": {
     "elapsed": 45718061,
     "status": "ok",
     "timestamp": 1599359327809,
     "user": {
      "displayName": "이동규",
      "photoUrl": "",
      "userId": "07323071725004325774"
     },
     "user_tz": -540
    },
    "id": "QaWMbe_URMTW",
    "outputId": "a63f4b18-ce2c-44da-83dd-fac9ef7e10e1"
   },
   "outputs": [
    {
     "data": {
      "image/png": "[encoded data removed]",
      "text/plain": [
       "<Figure size 432x288 with 1 Axes>"
      ]
     },
     "metadata": {
      "needs_background": "light",
      "tags": []
     },
     "output_type": "display_data"
    },
    {
     "data": {
      "image/png": "[encoded data removed]",
      "text/plain": [
       "<Figure size 432x288 with 1 Axes>"
      ]
     },
     "metadata": {
      "needs_background": "light",
      "tags": []
     },
     "output_type": "display_data"
    }
   ],
   "source": [
    "plt.plot(epochs[1:],acc[1:],'b',label='Training Acc')\n",
    "plt.plot(epochs[1:],val_acc[1:],'r',label='Validation Acc')\n",
    "plt.title('Training and Validation Accuracy')\n",
    "plt.legend()\n",
    "plt.figure()\n",
    "plt.plot(epochs[10:],loss[10:],'b',label='Training Loss')\n",
    "plt.plot(epochs[10:],val_loss[10:],'r',label='Validation Loss')\n",
    "plt.title('Training and Validation Loss')\n",
    "plt.legend()\n",
    "plt.show()"
   ]
  },
  {
   "cell_type": "code",
   "execution_count": null,
   "metadata": {
    "colab": {},
    "colab_type": "code",
    "id": "OnXT7xiED9y3"
   },
   "outputs": [],
   "source": []
  },
  {
   "cell_type": "code",
   "execution_count": null,
   "metadata": {
    "colab": {},
    "colab_type": "code",
    "id": "i-O7A50sD_cH"
   },
   "outputs": [],
   "source": [
    "# 이 아래는 내가 인위적으로 살펴보고 싶은 epoch에 대해서 결과값 출력 / resnet50"
   ]
  },
  {
   "cell_type": "code",
   "execution_count": null,
   "metadata": {},
   "outputs": [],
   "source": [
    "model=load_model(os.path.join(dir,'model_output',number,'ResNet50','022.h5'),custom_objects={\"macro_f1score\": macro_f1score,\"weighted_f1score\":weighted_f1score})"
   ]
  },
  {
   "cell_type": "code",
   "execution_count": null,
   "metadata": {
    "colab": {},
    "colab_type": "code",
    "id": "FQo7NZqoD_cM"
   },
   "outputs": [],
   "source": [
    "# 2. epoch=?\n",
    "loss , acc, mf1, wf1 = model.evaluate(test_generator,steps=int(len(x_test)/batch_sizes))\n",
    "print('[Test Loss: %.4f /  Test Accuracy: %.4f / Test Macro f1: %.4f / Test Weighted f1: %.4f]\\n' % (loss,acc,mf1,wf1))"
   ]
  },
  {
   "cell_type": "code",
   "execution_count": null,
   "metadata": {
    "colab": {},
    "colab_type": "code",
    "id": "V0smI--HD9xA"
   },
   "outputs": [],
   "source": []
  },
  {
   "cell_type": "code",
   "execution_count": null,
   "metadata": {
    "colab": {},
    "colab_type": "code",
    "id": "L29NG_c6EAEo"
   },
   "outputs": [],
   "source": []
  }
 ],
 "metadata": {
  "accelerator": "GPU",
  "colab": {
   "collapsed_sections": [],
   "machine_shape": "hm",
   "name": "5.ResNet50.ipynb",
   "provenance": []
  },
  "kernelspec": {
   "display_name": "Python 3",
   "language": "python",
   "name": "python3"
  },
  "language_info": {
   "codemirror_mode": {
    "name": "ipython",
    "version": 3
   },
   "file_extension": ".py",
   "mimetype": "text/x-python",
   "name": "python",
   "nbconvert_exporter": "python",
   "pygments_lexer": "ipython3",
   "version": "3.7.3"
  }
 },
 "nbformat": 4,
 "nbformat_minor": 1
}
