{
 "cells": [
  {
   "cell_type": "markdown",
   "metadata": {
    "colab_type": "text",
    "id": "vwVmRuFcUBkT"
   },
   "source": [
    "# [VGG11]"
   ]
  },
  {
   "cell_type": "markdown",
   "metadata": {
    "colab_type": "text",
    "id": "N0MMz6DhUBkW"
   },
   "source": [
    "*KU LeeDongGyu*"
   ]
  },
  {
   "cell_type": "markdown",
   "metadata": {
    "colab_type": "text",
    "id": "Ywk25Fr79dWe"
   },
   "source": [
    "### Contents"
   ]
  },
  {
   "cell_type": "markdown",
   "metadata": {
    "colab_type": "text",
    "id": "xE9T-VWu42cD"
   },
   "source": [
    "1. Data Preprocessing\n",
    "```\n",
    "1) Data Import\n",
    "2) Data Augmentation\n",
    "```\n",
    "2. Support Functions\n",
    "\n",
    "3. Almost Original VGG11\n",
    "```\n",
    "1) Almost Original VGG11\n",
    "2) VGG11 Evaluate\n",
    "```\n",
    "\n"
   ]
  },
  {
   "cell_type": "markdown",
   "metadata": {
    "colab_type": "text",
    "id": "U01q4o40UBkY"
   },
   "source": [
    "### Install Packages"
   ]
  },
  {
   "cell_type": "markdown",
   "metadata": {
    "colab_type": "text",
    "id": "XjdygsS_UBke"
   },
   "source": [
    "### Module"
   ]
  },
  {
   "cell_type": "code",
   "execution_count": null,
   "metadata": {
    "colab": {
     "base_uri": "https://localhost:8080/",
     "height": 125
    },
    "colab_type": "code",
    "executionInfo": {
     "elapsed": 50396,
     "status": "ok",
     "timestamp": 1599313656572,
     "user": {
      "displayName": "이동규",
      "photoUrl": "",
      "userId": "04369103463727261091"
     },
     "user_tz": -540
    },
    "id": "o1tpIlBhXG2i",
    "outputId": "f611e479-4fbf-4db2-9cec-20c8846e0a4c"
   },
   "outputs": [
    {
     "name": "stdout",
     "output_type": "stream",
     "text": [
      "Go to this URL in a browser: https://accounts.google.com/o/oauth2/auth?client_id=947318989803-6bn6qk8qdgf4n4g3pfee6491hc0brc4i.apps.googleusercontent.com&redirect_uri=urn%3aietf%3awg%3aoauth%3a2.0%3aoob&scope=email%20https%3a%2f%2fwww.googleapis.com%2fauth%2fdocs.test%20https%3a%2f%2fwww.googleapis.com%2fauth%2fdrive%20https%3a%2f%2fwww.googleapis.com%2fauth%2fdrive.photos.readonly%20https%3a%2f%2fwww.googleapis.com%2fauth%2fpeopleapi.readonly&response_type=code\n",
      "\n",
      "Enter your authorization code:\n",
      "··········\n",
      "Mounted at /content/drive\n"
     ]
    }
   ],
   "source": [
    "from google.colab import drive\n",
    "drive.mount('/content/drive')"
   ]
  },
  {
   "cell_type": "code",
   "execution_count": null,
   "metadata": {
    "colab": {
     "base_uri": "https://localhost:8080/",
     "height": 35
    },
    "colab_type": "code",
    "executionInfo": {
     "elapsed": 50384,
     "status": "ok",
     "timestamp": 1599313656574,
     "user": {
      "displayName": "이동규",
      "photoUrl": "",
      "userId": "04369103463727261091"
     },
     "user_tz": -540
    },
    "id": "IJdbC2nRXR6h",
    "outputId": "b1818eeb-6ad8-4d1f-addc-62b0d80554eb"
   },
   "outputs": [
    {
     "name": "stdout",
     "output_type": "stream",
     "text": [
      "/content/drive/My Drive/Colab Notebooks/Paper\n"
     ]
    }
   ],
   "source": [
    "cd /content/drive/My Drive/Colab Notebooks/Paper"
   ]
  },
  {
   "cell_type": "code",
   "execution_count": null,
   "metadata": {
    "colab": {},
    "colab_type": "code",
    "id": "I98omoQ8FF90"
   },
   "outputs": [],
   "source": [
    "from f1score import macro_f1score,weighted_f1score"
   ]
  },
  {
   "cell_type": "code",
   "execution_count": null,
   "metadata": {
    "colab": {},
    "colab_type": "code",
    "id": "HKLMWqbuUBkf"
   },
   "outputs": [],
   "source": [
    "import pandas as pd\n",
    "import numpy as np\n",
    "import matplotlib.pyplot as plt\n",
    "import os\n",
    "import cv2\n",
    "import tensorflow as tf\n",
    "from tensorflow import keras as ks\n",
    "from tensorflow.keras import backend as K \n",
    "from tensorflow.keras.layers import Dense, Dropout, Activation, Flatten, Input, Concatenate, ZeroPadding2D ,GlobalMaxPooling2D, Reshape , Lambda , Add, Multiply\n",
    "from tensorflow.keras.layers import Conv2D, MaxPooling2D, GlobalAveragePooling2D, Activation, BatchNormalization, AveragePooling2D , ZeroPadding2D, SeparableConv2D\n",
    "from tensorflow.keras.layers import add\n",
    "from tensorflow.keras.optimizers import Adam, RMSprop , SGD\n",
    "from tensorflow.keras.callbacks import EarlyStopping , LearningRateScheduler, ModelCheckpoint, CSVLogger, Callback, ReduceLROnPlateau\n",
    "from tensorflow.keras.regularizers import l1,l2,l1_l2\n",
    "from tensorflow.keras.models import Model , load_model , Sequential\n",
    "from tensorflow.keras.utils import plot_model , to_categorical, get_file\n",
    "from tensorflow.keras.preprocessing.image import ImageDataGenerator"
   ]
  },
  {
   "cell_type": "code",
   "execution_count": null,
   "metadata": {
    "colab": {
     "base_uri": "https://localhost:8080/",
     "height": 35
    },
    "colab_type": "code",
    "executionInfo": {
     "elapsed": 54249,
     "status": "ok",
     "timestamp": 1599313660476,
     "user": {
      "displayName": "이동규",
      "photoUrl": "",
      "userId": "04369103463727261091"
     },
     "user_tz": -540
    },
    "id": "cbiFovMgXTax",
    "outputId": "1db7dd03-6ca8-40ef-9a83-3abedf1c4e16"
   },
   "outputs": [
    {
     "data": {
      "application/vnd.google.colaboratory.intrinsic+json": {
       "type": "string"
      },
      "text/plain": [
       "'/content/drive/My Drive/Colab Notebooks/Paper'"
      ]
     },
     "execution_count": 5,
     "metadata": {
      "tags": []
     },
     "output_type": "execute_result"
    }
   ],
   "source": [
    "os.getcwd()"
   ]
  },
  {
   "cell_type": "code",
   "execution_count": null,
   "metadata": {
    "colab": {
     "base_uri": "https://localhost:8080/",
     "height": 52
    },
    "colab_type": "code",
    "executionInfo": {
     "elapsed": 59627,
     "status": "ok",
     "timestamp": 1599313665878,
     "user": {
      "displayName": "이동규",
      "photoUrl": "",
      "userId": "04369103463727261091"
     },
     "user_tz": -540
    },
    "id": "VG0fS8Y7DotU",
    "outputId": "89a7ebff-e18e-4fd8-b21d-f8c67c837643"
   },
   "outputs": [
    {
     "name": "stdout",
     "output_type": "stream",
     "text": [
      "2.3.0\n",
      "2.4.0\n"
     ]
    }
   ],
   "source": [
    "print(tf.__version__)\n",
    "print(ks.__version__)"
   ]
  },
  {
   "cell_type": "code",
   "execution_count": null,
   "metadata": {
    "colab": {
     "base_uri": "https://localhost:8080/",
     "height": 35
    },
    "colab_type": "code",
    "executionInfo": {
     "elapsed": 60283,
     "status": "ok",
     "timestamp": 1599313666550,
     "user": {
      "displayName": "이동규",
      "photoUrl": "",
      "userId": "04369103463727261091"
     },
     "user_tz": -540
    },
    "id": "dA0XZt7E_xUH",
    "outputId": "6d3d1940-7ea5-4662-a407-378f4b18172a"
   },
   "outputs": [
    {
     "data": {
      "application/vnd.google.colaboratory.intrinsic+json": {
       "type": "string"
      },
      "text/plain": [
       "'/device:GPU:0'"
      ]
     },
     "execution_count": 7,
     "metadata": {
      "tags": []
     },
     "output_type": "execute_result"
    }
   ],
   "source": [
    "tf.test.gpu_device_name()"
   ]
  },
  {
   "cell_type": "code",
   "execution_count": null,
   "metadata": {
    "colab": {
     "base_uri": "https://localhost:8080/",
     "height": 560
    },
    "colab_type": "code",
    "executionInfo": {
     "elapsed": 60267,
     "status": "ok",
     "timestamp": 1599313666552,
     "user": {
      "displayName": "이동규",
      "photoUrl": "",
      "userId": "04369103463727261091"
     },
     "user_tz": -540
    },
    "id": "VhlDPBozVR6t",
    "outputId": "eba08094-f98f-40dc-9146-fa30076ec113"
   },
   "outputs": [
    {
     "name": "stdout",
     "output_type": "stream",
     "text": [
      "[name: \"/device:CPU:0\"\n",
      "device_type: \"CPU\"\n",
      "memory_limit: 268435456\n",
      "locality {\n",
      "}\n",
      "incarnation: 1301402810637979379\n",
      ", name: \"/device:XLA_CPU:0\"\n",
      "device_type: \"XLA_CPU\"\n",
      "memory_limit: 17179869184\n",
      "locality {\n",
      "}\n",
      "incarnation: 7103920333657901251\n",
      "physical_device_desc: \"device: XLA_CPU device\"\n",
      ", name: \"/device:XLA_GPU:0\"\n",
      "device_type: \"XLA_GPU\"\n",
      "memory_limit: 17179869184\n",
      "locality {\n",
      "}\n",
      "incarnation: 5732585223032654058\n",
      "physical_device_desc: \"device: XLA_GPU device\"\n",
      ", name: \"/device:GPU:0\"\n",
      "device_type: \"GPU\"\n",
      "memory_limit: 15473652544\n",
      "locality {\n",
      "  bus_id: 1\n",
      "  links {\n",
      "  }\n",
      "}\n",
      "incarnation: 10398450991562935592\n",
      "physical_device_desc: \"device: 0, name: Tesla V100-SXM2-16GB, pci bus id: 0000:00:04.0, compute capability: 7.0\"\n",
      "]\n"
     ]
    }
   ],
   "source": [
    "from tensorflow.python.client import device_lib\n",
    "print(device_lib.list_local_devices())"
   ]
  },
  {
   "cell_type": "markdown",
   "metadata": {
    "colab_type": "text",
    "id": "sTXnS6_magkg"
   },
   "source": [
    "## 1. Data Preprocessing\n",
    "---"
   ]
  },
  {
   "cell_type": "markdown",
   "metadata": {
    "colab_type": "text",
    "id": "FWigHOuzCRRj"
   },
   "source": [
    "### 1) Data Import"
   ]
  },
  {
   "cell_type": "code",
   "execution_count": null,
   "metadata": {
    "colab": {},
    "colab_type": "code",
    "id": "GJwDf7V0A_Fk"
   },
   "outputs": [],
   "source": [
    "# 바꿔서 살펴 볼 것들\n",
    "# CALTECH, CIFAR100, FER, MIT\n",
    "data_name = 'CALTECH'\n",
    "gan_type = 'No_GAN'\n",
    "number = '1'\n",
    "size = 224 # sizes after cropping\n",
    "super_size = 256 # sizes before cropping \n",
    "input_sizes = (size,size,3)\n",
    "batch_sizes = 128\n",
    "weight_decay = 1e-4\n",
    "epochs = 70"
   ]
  },
  {
   "cell_type": "code",
   "execution_count": null,
   "metadata": {
    "colab": {},
    "colab_type": "code",
    "id": "SPnWxfGzLOF6"
   },
   "outputs": [],
   "source": [
    "# 참고 : https://stackoverflow.com/questions/32419510/how-to-get-reproducible-results-in-keras/52897216#52897216\n",
    "# setting the seed number for random number generation for reproducibility.\n",
    "\n",
    "from numpy.random import seed\n",
    "import random\n",
    "\n",
    "\n",
    "if number=='1':\n",
    "    seed_num = 200225\n",
    "    os.environ['PYTHONHASHSEED']=str(seed_num)\n",
    "    random.seed(seed_num)\n",
    "    seed(seed_num)\n",
    "    tf.random.set_seed(seed_num)\n",
    "    session_conf = tf.compat.v1.ConfigProto(intra_op_parallelism_threads=1, inter_op_parallelism_threads=1)\n",
    "    sess = tf.compat.v1.Session(graph=tf.compat.v1.get_default_graph(), config=session_conf)\n",
    "    tf.compat.v1.keras.backend.set_session(sess)\n",
    "elif number=='2':\n",
    "    seed_num = 727\n",
    "    os.environ['PYTHONHASHSEED']=str(seed_num)\n",
    "    random.seed(seed_num)\n",
    "    seed(seed_num)\n",
    "    tf.random.set_seed(seed_num)\n",
    "    session_conf = tf.compat.v1.ConfigProto(intra_op_parallelism_threads=1, inter_op_parallelism_threads=1)\n",
    "    sess = tf.compat.v1.Session(graph=tf.compat.v1.get_default_graph(), config=session_conf)\n",
    "    tf.compat.v1.keras.backend.set_session(sess)\n",
    "elif number=='3':\n",
    "    seed_num = 115\n",
    "    os.environ['PYTHONHASHSEED']=str(seed_num)\n",
    "    random.seed(seed_num)\n",
    "    seed(seed_num)\n",
    "    tf.random.set_seed(seed_num)\n",
    "    session_conf = tf.compat.v1.ConfigProto(intra_op_parallelism_threads=1, inter_op_parallelism_threads=1)\n",
    "    sess = tf.compat.v1.Session(graph=tf.compat.v1.get_default_graph(), config=session_conf)\n",
    "    tf.compat.v1.keras.backend.set_session(sess)\n",
    "elif number=='4':\n",
    "    seed_num = 501\n",
    "    os.environ['PYTHONHASHSEED']=str(seed_num)\n",
    "    random.seed(seed_num)\n",
    "    seed(seed_num)\n",
    "    tf.random.set_seed(seed_num)\n",
    "    session_conf = tf.compat.v1.ConfigProto(intra_op_parallelism_threads=1, inter_op_parallelism_threads=1)\n",
    "    sess = tf.compat.v1.Session(graph=tf.compat.v1.get_default_graph(), config=session_conf)\n",
    "    tf.compat.v1.keras.backend.set_session(sess)\n",
    "elif number=='5':\n",
    "    seed_num = 517\n",
    "    os.environ['PYTHONHASHSEED']=str(seed_num)\n",
    "    random.seed(seed_num)\n",
    "    seed(seed_num)\n",
    "    tf.random.set_seed(seed_num)\n",
    "    session_conf = tf.compat.v1.ConfigProto(intra_op_parallelism_threads=1, inter_op_parallelism_threads=1)\n",
    "    sess = tf.compat.v1.Session(graph=tf.compat.v1.get_default_graph(), config=session_conf)\n",
    "    tf.compat.v1.keras.backend.set_session(sess)"
   ]
  },
  {
   "cell_type": "code",
   "execution_count": null,
   "metadata": {
    "colab": {},
    "colab_type": "code",
    "id": "QzFXNxSlmcxz"
   },
   "outputs": [],
   "source": [
    "# data import\n",
    "\n",
    "if data_name=='FER' :\n",
    "    x_train =  np.zeros(28698)\n",
    "    x_valid = np.zeros(3589)\n",
    "    x_test = np.zeros(3588)\n",
    "    classes = 7 \n",
    "    tr_center = [0.50793296, 0.50793296, 0.50793296]\n",
    "elif data_name=='MIT':\n",
    "    x_train = np.zeros(12466)\n",
    "    x_valid = np.zeros(1564)\n",
    "    x_test = np.zeros(1590)\n",
    "    classes = 67 \n",
    "    tr_center = [0.47916578, 0.42029615, 0.36046057]\n",
    "elif data_name=='CALTECH':\n",
    "    x_train = np.zeros(24510)\n",
    "    x_valid = np.zeros(2980)\n",
    "    x_test = np.zeros(3118)\n",
    "    classes = 257\n",
    "    tr_center = [0.51397761, 0.49525248, 0.46555727]\n",
    "elif data_name=='CIFAR100':\n",
    "    x_train = np.zeros(39941)\n",
    "    x_valid = np.zeros(10059)\n",
    "    x_test = np.zeros(10000)\n",
    "    classes = 100\n",
    "    tr_center = [0.53393271, 0.51324147, 0.46450563]"
   ]
  },
  {
   "cell_type": "code",
   "execution_count": null,
   "metadata": {
    "colab": {},
    "colab_type": "code",
    "id": "PQlStjHWt-jM"
   },
   "outputs": [],
   "source": [
    "dir = os.path.join(os.getcwd(),data_name,gan_type)"
   ]
  },
  {
   "cell_type": "markdown",
   "metadata": {
    "colab_type": "text",
    "id": "uLyR0THRmcx4"
   },
   "source": [
    "### 2) Data Augmentation"
   ]
  },
  {
   "cell_type": "code",
   "execution_count": null,
   "metadata": {
    "colab": {},
    "colab_type": "code",
    "id": "eG0E-NBkmcx5"
   },
   "outputs": [],
   "source": [
    "# 참고 : https://jkjung-avt.github.io/keras-image-cropping/\n",
    "\n",
    "def random_crop(img, random_crop_size):\n",
    "    # Note: image_data_format is 'channel_last'\n",
    "    assert img.shape[2] == 3 # img.shape[2] 가 3(rgb)이 아니면 assertion error 발생\n",
    "    height, width = img.shape[0], img.shape[1]\n",
    "    dy, dx = random_crop_size\n",
    "    x = np.random.randint(0, width - dx + 1)\n",
    "    y = np.random.randint(0, height - dy + 1)\n",
    "    return img[y:(y+dy), x:(x+dx), :]\n",
    "\n",
    "\n",
    "def crop_generator(batches, crop_length):\n",
    "    \"\"\"Take as input a Keras ImageGen (Iterator) and generate random\n",
    "    crops from the image batches generated by the original iterator.\n",
    "    \"\"\"\n",
    "    while True:\n",
    "        batch_x, batch_y = next(batches)\n",
    "        batch_crops = np.zeros((batch_x.shape[0], crop_length, crop_length, 3))\n",
    "        for i in range(batch_x.shape[0]):\n",
    "            batch_crops[i] = random_crop(batch_x[i], (crop_length, crop_length))\n",
    "        yield (batch_crops, batch_y)"
   ]
  },
  {
   "cell_type": "code",
   "execution_count": null,
   "metadata": {
    "colab": {},
    "colab_type": "code",
    "id": "EW0KZ6x9EBtf"
   },
   "outputs": [],
   "source": [
    "from tensorflow.keras.preprocessing.image import img_to_array,load_img\n",
    "import glob\n",
    "\n",
    "# 데이터 전체에 대해 centering 진행함.\n",
    "\n",
    "def read_cal_image(img_path): \n",
    "    x = img_to_array(load_img(img_path)) # x는 채널별 평균값\n",
    "    y = x.shape[0] * x.shape[1]# y는 데이터별 픽셀 수 (비중)\n",
    "\n",
    "    x = 1/255. * x # scaling하고, centering값을 뽑아냄.\n",
    "    x = np.mean(x, axis=(0,1))\n",
    "    \n",
    "    return np.hstack([x,y])\n",
    "\n",
    "def calculate_centered_mean(dataset_path,x_train=x_train):\n",
    "    num = len(x_train)\n",
    "    space = np.empty((num,4))\n",
    "    i=0\n",
    "\n",
    "    for p in glob.glob(os.path.join(dataset_path,'*/*.*')) :\n",
    "        space[i] = read_cal_image(p)\n",
    "        i += 1\n",
    "\n",
    "    ratio = space[:,3] / np.sum(space[:,3])\n",
    "\n",
    "    return np.average(space[:,0:3],axis=0,weights=ratio)\n",
    "\n",
    "\n",
    "# 아래의 함수를 돌려서 나온 결과값을 중심화 값으로 설정.\n",
    "\n",
    "# train_mean = calculate_centered_mean(os.path.join(dir,'data/train')).reshape((1,1,3))"
   ]
  },
  {
   "cell_type": "code",
   "execution_count": null,
   "metadata": {
    "colab": {},
    "colab_type": "code",
    "id": "kmZpClskmcx9"
   },
   "outputs": [],
   "source": [
    "datagen_tr = ImageDataGenerator(\n",
    "    rescale=1/255.,\n",
    "    horizontal_flip=True,\n",
    "    featurewise_center=True,\n",
    "    featurewise_std_normalization=False,\n",
    "    rotation_range=10,\n",
    "    width_shift_range=0.1,\n",
    "    height_shift_range=0.1,\n",
    "    zoom_range=[0.9,1.0],\n",
    "    fill_mode = 'nearest')\n",
    "datagen_val = ImageDataGenerator(rescale=1/255.,featurewise_center=True)\n",
    "datagen_tes = ImageDataGenerator(rescale=1/255.,featurewise_center=True)\n",
    "\n",
    "# 원래는 이 자리에 fit 매서드를 써야하지만, 그냥 내가 중심화함수를 만들고 적용함. \n",
    "\n",
    "# 중심화 설정\n",
    "datagen_tr.mean = np.array(tr_center, dtype=np.float32).reshape((1,1,3)) # RGB\n",
    "datagen_val.mean = np.array(tr_center, dtype=np.float32).reshape((1,1,3)) # RGB\n",
    "datagen_tes.mean = np.array(tr_center, dtype=np.float32).reshape((1,1,3)) # RGB"
   ]
  },
  {
   "cell_type": "code",
   "execution_count": null,
   "metadata": {
    "colab": {
     "base_uri": "https://localhost:8080/",
     "height": 70
    },
    "colab_type": "code",
    "executionInfo": {
     "elapsed": 127531,
     "status": "ok",
     "timestamp": 1599313733927,
     "user": {
      "displayName": "이동규",
      "photoUrl": "",
      "userId": "04369103463727261091"
     },
     "user_tz": -540
    },
    "id": "Qa4ZLUlPmcyB",
    "outputId": "ddbc8be2-d1e3-4234-a72c-97321d3145bf"
   },
   "outputs": [
    {
     "name": "stdout",
     "output_type": "stream",
     "text": [
      "Found 24509 images belonging to 257 classes.\n",
      "Found 2980 images belonging to 257 classes.\n",
      "Found 3118 images belonging to 257 classes.\n"
     ]
    }
   ],
   "source": [
    "train_batches = datagen_tr.flow_from_directory(directory=os.path.join(dir,'data/train'),target_size=(super_size,super_size),batch_size=batch_sizes,class_mode='categorical') # fer : 28698 / mit : 12466 / caltech : 24509 / cifar : 39941\n",
    "train_generator= crop_generator(train_batches, size)\n",
    "valid_generator = datagen_val.flow_from_directory(directory=os.path.join(dir,'data/valid'),target_size=(size,size),batch_size=batch_sizes,class_mode='categorical') # fer : 3589 / mit : 1564 / caltech : 2980 / cifar : 10059\n",
    "test_generator = datagen_tes.flow_from_directory(directory=os.path.join(dir,'data/test'),target_size=(size,size),batch_size=batch_sizes,class_mode='categorical') # fer : 3588 / mit : 1590 / caltech : 3118 / cifar : 10000"
   ]
  },
  {
   "cell_type": "markdown",
   "metadata": {
    "colab_type": "text",
    "id": "afa9Vvwdw1te"
   },
   "source": [
    "## 2. Support Functions\n",
    "---"
   ]
  },
  {
   "cell_type": "code",
   "execution_count": null,
   "metadata": {
    "colab": {},
    "colab_type": "code",
    "id": "XA3sqFv_ZyBS"
   },
   "outputs": [],
   "source": [
    "# def lr_schedule(epoch):\n",
    "#     init_lr = 1e-4\n",
    "#     k = 0.04\n",
    "#     lr = init_lr * np.exp(-k*epoch)\n",
    "#     print('Learning rate: ', lr)\n",
    "#     return lr\n",
    "\n",
    "def lr_schedule(epoch):\n",
    "    lr = 1e-4\n",
    "    if epoch < 60:\n",
    "        lr = lr\n",
    "    else :\n",
    "        lr = lr * 0.1\n",
    "    print('Learning rate: ', lr)\n",
    "    return lr"
   ]
  },
  {
   "cell_type": "markdown",
   "metadata": {
    "colab_type": "text",
    "id": "JSUHr8z5jmzt"
   },
   "source": [
    "## 3. Almost Original VGG11\n",
    "---"
   ]
  },
  {
   "cell_type": "markdown",
   "metadata": {
    "colab_type": "text",
    "id": "FV9vwU0lZeB7"
   },
   "source": [
    "### 1) Almost Original VGG11"
   ]
  },
  {
   "cell_type": "code",
   "execution_count": null,
   "metadata": {
    "colab": {},
    "colab_type": "code",
    "id": "DyM9S1oDOWau"
   },
   "outputs": [],
   "source": [
    "# VGG11를 최대한 논문에 가깝게 맞춰 모형작성.\n",
    "\n",
    "def VGG11(input_shape=(224, 224, 3), classes=1000, weight_decay=weight_decay, include_top=True, pooling='max', weights=None, name='VGG11'):\n",
    "\n",
    "    img_input = Input(shape=input_shape)\n",
    "\n",
    "    # Block 1\n",
    "    x = Conv2D(64, (3, 3), activation='relu', padding='same', name='block1_conv1', kernel_initializer='he_uniform', kernel_regularizer=l2(weight_decay))(img_input)\n",
    "    x = MaxPooling2D((2, 2), strides=(2, 2), name='block1_pool')(x)\n",
    "\n",
    "    # Block 2\n",
    "    x = Conv2D(128, (3, 3), activation='relu', padding='same', name='block2_conv1', kernel_initializer='he_uniform', kernel_regularizer=l2(weight_decay))(x)\n",
    "    x = MaxPooling2D((2, 2), strides=(2, 2), name='block2_pool')(x)\n",
    "\n",
    "    # Block 3\n",
    "    x = Conv2D(256, (3, 3), activation='relu', padding='same', name='block3_conv1', kernel_initializer='he_uniform', kernel_regularizer=l2(weight_decay))(x)\n",
    "    x = Conv2D(256, (3, 3), activation='relu', padding='same', name='block3_conv2', kernel_initializer='he_uniform', kernel_regularizer=l2(weight_decay))(x)\n",
    "    x = MaxPooling2D((2, 2), strides=(2, 2), name='block3_pool')(x)\n",
    "\n",
    "    # Block 4\n",
    "    x = Conv2D(512, (3, 3), activation='relu', padding='same', name='block4_conv1', kernel_initializer='he_uniform', kernel_regularizer=l2(weight_decay))(x)\n",
    "    x = Conv2D(512, (3, 3), activation='relu', padding='same', name='block4_conv2', kernel_initializer='he_uniform', kernel_regularizer=l2(weight_decay))(x)\n",
    "    x = MaxPooling2D((2, 2), strides=(2, 2), name='block4_pool')(x)\n",
    "\n",
    "    # Block 5\n",
    "    x = Conv2D(512, (3, 3), activation='relu', padding='same', name='block5_conv1', kernel_initializer='he_uniform', kernel_regularizer=l2(weight_decay))(x)\n",
    "    x = Conv2D(512, (3, 3), activation='relu', padding='same', name='block5_conv2', kernel_initializer='he_uniform', kernel_regularizer=l2(weight_decay))(x)\n",
    "    x = MaxPooling2D((2, 2), strides=(2, 2), name='block5_pool')(x)\n",
    "\n",
    "    if include_top:\n",
    "        # Classification block\n",
    "        x = Flatten(name='flatten')(x)\n",
    "        x = Dense(4096, activation='relu', name='fc1', kernel_initializer='he_uniform', kernel_regularizer=l2(weight_decay))(x)\n",
    "        x = Dense(4096, activation='relu', name='fc2', kernel_initializer='he_uniform', kernel_regularizer=l2(weight_decay))(x)\n",
    "        output = Dense(classes, activation='softmax', name='predictions')(x)\n",
    "    else:\n",
    "        if pooling == 'avg':\n",
    "            output = GlobalAveragePooling2D()(x)\n",
    "        elif pooling == 'max':\n",
    "            output = GlobalMaxPooling2D()(x)\n",
    "\n",
    "    # Create model.\n",
    "    model = Model(img_input, output, name=name)\n",
    "\n",
    "    # Load weights.\n",
    "    if weights == 'imagenet': # 내 모형에서는 쓸모없다. 다만, 나중의 혹시모를 참고를 위해 코드는 남겨놓는다.\n",
    "        if include_top:\n",
    "            weights_path = get_file('vgg19_weights_tf_dim_ordering_tf_kernels.h5',\n",
    "                                    WEIGHTS_PATH, cache_subdir='models', file_hash='cbe5617147190e668d6c5d5026f83318')\n",
    "        else:\n",
    "            weights_path = get_file('vgg19_weights_tf_dim_ordering_tf_kernels_notop.h5',\n",
    "                                    WEIGHTS_PATH_NO_TOP, cache_subdir='models',\n",
    "                                    file_hash='253f8cb515780f3b799900260a226db6')\n",
    "\n",
    "        model.load_weights(weights_path)  # 경로에 있는 초기치 weights가져오기\n",
    "\n",
    "    elif weights is not None:\n",
    "        model.load_weights(weights)\n",
    "\n",
    "    return model"
   ]
  },
  {
   "cell_type": "code",
   "execution_count": null,
   "metadata": {
    "colab": {},
    "colab_type": "code",
    "id": "H_7iZF0MOWax"
   },
   "outputs": [],
   "source": [
    "model = VGG11(input_shape=input_sizes, classes=classes, name='VGG11')"
   ]
  },
  {
   "cell_type": "code",
   "execution_count": null,
   "metadata": {
    "colab": {
     "base_uri": "https://localhost:8080/",
     "height": 787
    },
    "colab_type": "code",
    "executionInfo": {
     "elapsed": 127486,
     "status": "ok",
     "timestamp": 1599313733932,
     "user": {
      "displayName": "이동규",
      "photoUrl": "",
      "userId": "04369103463727261091"
     },
     "user_tz": -540
    },
    "id": "9D3vFC25OWa0",
    "outputId": "a725ec63-b9b9-4406-f497-870801a106b8",
    "scrolled": true
   },
   "outputs": [
    {
     "name": "stdout",
     "output_type": "stream",
     "text": [
      "Model: \"VGG11\"\n",
      "_________________________________________________________________\n",
      "Layer (type)                 Output Shape              Param #   \n",
      "=================================================================\n",
      "input_1 (InputLayer)         [(None, 224, 224, 3)]     0         \n",
      "_________________________________________________________________\n",
      "block1_conv1 (Conv2D)        (None, 224, 224, 64)      1792      \n",
      "_________________________________________________________________\n",
      "block1_pool (MaxPooling2D)   (None, 112, 112, 64)      0         \n",
      "_________________________________________________________________\n",
      "block2_conv1 (Conv2D)        (None, 112, 112, 128)     73856     \n",
      "_________________________________________________________________\n",
      "block2_pool (MaxPooling2D)   (None, 56, 56, 128)       0         \n",
      "_________________________________________________________________\n",
      "block3_conv1 (Conv2D)        (None, 56, 56, 256)       295168    \n",
      "_________________________________________________________________\n",
      "block3_conv2 (Conv2D)        (None, 56, 56, 256)       590080    \n",
      "_________________________________________________________________\n",
      "block3_pool (MaxPooling2D)   (None, 28, 28, 256)       0         \n",
      "_________________________________________________________________\n",
      "block4_conv1 (Conv2D)        (None, 28, 28, 512)       1180160   \n",
      "_________________________________________________________________\n",
      "block4_conv2 (Conv2D)        (None, 28, 28, 512)       2359808   \n",
      "_________________________________________________________________\n",
      "block4_pool (MaxPooling2D)   (None, 14, 14, 512)       0         \n",
      "_________________________________________________________________\n",
      "block5_conv1 (Conv2D)        (None, 14, 14, 512)       2359808   \n",
      "_________________________________________________________________\n",
      "block5_conv2 (Conv2D)        (None, 14, 14, 512)       2359808   \n",
      "_________________________________________________________________\n",
      "block5_pool (MaxPooling2D)   (None, 7, 7, 512)         0         \n",
      "_________________________________________________________________\n",
      "flatten (Flatten)            (None, 25088)             0         \n",
      "_________________________________________________________________\n",
      "fc1 (Dense)                  (None, 4096)              102764544 \n",
      "_________________________________________________________________\n",
      "fc2 (Dense)                  (None, 4096)              16781312  \n",
      "_________________________________________________________________\n",
      "predictions (Dense)          (None, 257)               1052929   \n",
      "=================================================================\n",
      "Total params: 129,819,265\n",
      "Trainable params: 129,819,265\n",
      "Non-trainable params: 0\n",
      "_________________________________________________________________\n"
     ]
    }
   ],
   "source": [
    "model.summary()"
   ]
  },
  {
   "cell_type": "code",
   "execution_count": null,
   "metadata": {
    "colab": {},
    "colab_type": "code",
    "id": "CyR476z3BVP0"
   },
   "outputs": [],
   "source": [
    "# 폴더 생성\n",
    "\n",
    "os.makedirs(os.path.join(dir,'model_output',number,model.name), exist_ok=True)\n",
    "os.makedirs(os.path.join(dir,'train_valid_output',number), exist_ok=True)"
   ]
  },
  {
   "cell_type": "code",
   "execution_count": null,
   "metadata": {
    "colab": {},
    "colab_type": "code",
    "id": "zYXM4zkMyBmv"
   },
   "outputs": [],
   "source": [
    "# 참고 : https://github.com/OverLordGoldDragon/keras-adamw\n",
    "\n",
    "import sys\n",
    "sys.path.append('/content/drive/My Drive/Colab Notebooks/Paper')\n",
    "import utils\n",
    "import optimizers_v2\n",
    "from utils import get_weight_decays, fill_dict_in_order\n",
    "from utils import reset_seeds, K_eval\n",
    "from optimizers_v2 import AdamW, NadamW, SGDW"
   ]
  },
  {
   "cell_type": "code",
   "execution_count": null,
   "metadata": {
    "colab": {
     "base_uri": "https://localhost:8080/",
     "height": 35
    },
    "colab_type": "code",
    "executionInfo": {
     "elapsed": 129312,
     "status": "ok",
     "timestamp": 1599313735856,
     "user": {
      "displayName": "이동규",
      "photoUrl": "",
      "userId": "04369103463727261091"
     },
     "user_tz": -540
    },
    "id": "PQyKMrbwOWa3",
    "outputId": "037767be-59c1-4ce1-fc0f-b9f5a2aec843"
   },
   "outputs": [
    {
     "name": "stdout",
     "output_type": "stream",
     "text": [
      "Using cosine annealing learning rates\n"
     ]
    }
   ],
   "source": [
    "optimizer = AdamW(model=model, use_cosine_annealing=True, total_iterations = len(x_train) // batch_sizes , eta_min = 1e-2)\n",
    "#optimizer = Adam()\n",
    "filepath =  os.path.join(dir,'model_output',number,model.name,'{epoch:03d}.h5')\n",
    "\n",
    "callbacks_list = [ModelCheckpoint(filepath, monitor='val_loss', verbose=1, save_weights_only=False, save_best_only=True, mode='min'),\n",
    "                  ModelCheckpoint(filepath, monitor='val_accuracy', verbose=1, save_weights_only=False, save_best_only=True, mode='max')\n",
    "                  #ReduceLROnPlateau(monitor='val_loss',patience=3,factor=0.1,min_lr=1e-5),\n",
    "                  LearningRateScheduler(lr_schedule,verbose=1)\n",
    "                  ]\n",
    "                  \n",
    "model.compile(optimizer, loss = 'categorical_crossentropy', metrics=['accuracy',macro_f1score,weighted_f1score])"
   ]
  },
  {
   "cell_type": "code",
   "execution_count": null,
   "metadata": {
    "colab": {
     "base_uri": "https://localhost:8080/",
     "height": 1000
    },
    "colab_type": "code",
    "executionInfo": {
     "elapsed": 40803930,
     "status": "ok",
     "timestamp": 1599354410571,
     "user": {
      "displayName": "이동규",
      "photoUrl": "",
      "userId": "04369103463727261091"
     },
     "user_tz": -540
    },
    "id": "qmJHDPnDOWa5",
    "outputId": "3663f1d1-3c65-4ef2-f5bd-a3985be09c2e"
   },
   "outputs": [
    {
     "name": "stdout",
     "output_type": "stream",
     "text": [
      "Epoch 1/60\n",
      "0.0(L1), 7.235745870133896e-06(L2) weight decay set for block1_conv1/kernel:0\n",
      "0.0(L1), 7.235745870133896e-06(L2) weight decay set for block2_conv1/kernel:0\n",
      "0.0(L1), 7.235745870133896e-06(L2) weight decay set for block3_conv1/kernel:0\n",
      "0.0(L1), 7.235745870133896e-06(L2) weight decay set for block3_conv2/kernel:0\n",
      "0.0(L1), 7.235745870133896e-06(L2) weight decay set for block4_conv1/kernel:0\n",
      "0.0(L1), 7.235745870133896e-06(L2) weight decay set for block4_conv2/kernel:0\n",
      "0.0(L1), 7.235745870133896e-06(L2) weight decay set for block5_conv1/kernel:0\n",
      "0.0(L1), 7.235745870133896e-06(L2) weight decay set for block5_conv2/kernel:0\n",
      "0.0(L1), 7.235745870133896e-06(L2) weight decay set for fc1/kernel:0\n",
      "0.0(L1), 7.235745870133896e-06(L2) weight decay set for fc2/kernel:0\n",
      "191/191 [==============================] - ETA: 0s - loss: 7.1579 - accuracy: 0.0279 - macro_f1score: 1.2347e-06 - weighted_f1score: 3.8583e-08  \n",
      "Epoch 00001: val_loss improved from inf to 5.40624, saving model to /content/drive/My Drive/Colab Notebooks/Paper/CALTECH/No_GAN/model_output/1/VGG11/001.h5\n",
      "\n",
      "Epoch 00001: val_accuracy improved from -inf to 0.03940, saving model to /content/drive/My Drive/Colab Notebooks/Paper/CALTECH/No_GAN/model_output/1/VGG11/001.h5\n",
      "191/191 [==============================] - 13717s 72s/step - loss: 7.1579 - accuracy: 0.0279 - macro_f1score: 1.2347e-06 - weighted_f1score: 3.8583e-08 - val_loss: 5.4062 - val_accuracy: 0.0394 - val_macro_f1score: 0.0000e+00 - val_weighted_f1score: 0.0000e+00\n",
      "Epoch 2/60\n",
      "191/191 [==============================] - ETA: 0s - loss: 5.4030 - accuracy: 0.0342 - macro_f1score: 5.8206e-06 - weighted_f1score: 1.8189e-07\n",
      "Epoch 00002: val_loss improved from 5.40624 to 5.28758, saving model to /content/drive/My Drive/Colab Notebooks/Paper/CALTECH/No_GAN/model_output/1/VGG11/002.h5\n",
      "\n",
      "Epoch 00002: val_accuracy improved from 0.03940 to 0.04620, saving model to /content/drive/My Drive/Colab Notebooks/Paper/CALTECH/No_GAN/model_output/1/VGG11/002.h5\n",
      "191/191 [==============================] - 424s 2s/step - loss: 5.4030 - accuracy: 0.0342 - macro_f1score: 5.8206e-06 - weighted_f1score: 1.8189e-07 - val_loss: 5.2876 - val_accuracy: 0.0462 - val_macro_f1score: 0.0000e+00 - val_weighted_f1score: 0.0000e+00\n",
      "Epoch 3/60\n",
      "191/191 [==============================] - ETA: 0s - loss: 5.3600 - accuracy: 0.0361 - macro_f1score: 1.1591e-05 - weighted_f1score: 2.8480e-07\n",
      "Epoch 00003: val_loss improved from 5.28758 to 5.21126, saving model to /content/drive/My Drive/Colab Notebooks/Paper/CALTECH/No_GAN/model_output/1/VGG11/003.h5\n",
      "\n",
      "Epoch 00003: val_accuracy did not improve from 0.04620\n",
      "191/191 [==============================] - 410s 2s/step - loss: 5.3600 - accuracy: 0.0361 - macro_f1score: 1.1591e-05 - weighted_f1score: 2.8480e-07 - val_loss: 5.2113 - val_accuracy: 0.0414 - val_macro_f1score: 0.0012 - val_weighted_f1score: 3.3218e-05\n",
      "Epoch 4/60\n",
      "191/191 [==============================] - ETA: 0s - loss: 5.0579 - accuracy: 0.0751 - macro_f1score: 0.0034 - weighted_f1score: 8.6130e-05\n",
      "Epoch 00004: val_loss improved from 5.21126 to 4.85606, saving model to /content/drive/My Drive/Colab Notebooks/Paper/CALTECH/No_GAN/model_output/1/VGG11/004.h5\n",
      "\n",
      "Epoch 00004: val_accuracy improved from 0.04620 to 0.08254, saving model to /content/drive/My Drive/Colab Notebooks/Paper/CALTECH/No_GAN/model_output/1/VGG11/004.h5\n",
      "191/191 [==============================] - 426s 2s/step - loss: 5.0579 - accuracy: 0.0751 - macro_f1score: 0.0034 - weighted_f1score: 8.6130e-05 - val_loss: 4.8561 - val_accuracy: 0.0825 - val_macro_f1score: 0.0069 - val_weighted_f1score: 1.6870e-04\n",
      "Epoch 5/60\n",
      "191/191 [==============================] - ETA: 0s - loss: 4.8548 - accuracy: 0.0934 - macro_f1score: 0.0058 - weighted_f1score: 1.4079e-04\n",
      "Epoch 00005: val_loss improved from 4.85606 to 4.69912, saving model to /content/drive/My Drive/Colab Notebooks/Paper/CALTECH/No_GAN/model_output/1/VGG11/005.h5\n",
      "\n",
      "Epoch 00005: val_accuracy improved from 0.08254 to 0.10564, saving model to /content/drive/My Drive/Colab Notebooks/Paper/CALTECH/No_GAN/model_output/1/VGG11/005.h5\n",
      "191/191 [==============================] - 429s 2s/step - loss: 4.8548 - accuracy: 0.0934 - macro_f1score: 0.0058 - weighted_f1score: 1.4079e-04 - val_loss: 4.6991 - val_accuracy: 0.1056 - val_macro_f1score: 0.0076 - val_weighted_f1score: 1.8192e-04\n",
      "Epoch 6/60\n",
      "191/191 [==============================] - ETA: 0s - loss: 4.6253 - accuracy: 0.1141 - macro_f1score: 0.0077 - weighted_f1score: 1.7817e-04\n",
      "Epoch 00006: val_loss improved from 4.69912 to 4.46132, saving model to /content/drive/My Drive/Colab Notebooks/Paper/CALTECH/No_GAN/model_output/1/VGG11/006.h5\n",
      "\n",
      "Epoch 00006: val_accuracy improved from 0.10564 to 0.13485, saving model to /content/drive/My Drive/Colab Notebooks/Paper/CALTECH/No_GAN/model_output/1/VGG11/006.h5\n",
      "191/191 [==============================] - 442s 2s/step - loss: 4.6253 - accuracy: 0.1141 - macro_f1score: 0.0077 - weighted_f1score: 1.7817e-04 - val_loss: 4.4613 - val_accuracy: 0.1349 - val_macro_f1score: 0.0096 - val_weighted_f1score: 2.0864e-04\n",
      "Epoch 7/60\n",
      "191/191 [==============================] - ETA: 0s - loss: 4.3796 - accuracy: 0.1406 - macro_f1score: 0.0103 - weighted_f1score: 2.2203e-04\n",
      "Epoch 00007: val_loss improved from 4.46132 to 4.23993, saving model to /content/drive/My Drive/Colab Notebooks/Paper/CALTECH/No_GAN/model_output/1/VGG11/007.h5\n",
      "\n",
      "Epoch 00007: val_accuracy improved from 0.13485 to 0.16848, saving model to /content/drive/My Drive/Colab Notebooks/Paper/CALTECH/No_GAN/model_output/1/VGG11/007.h5\n",
      "191/191 [==============================] - 448s 2s/step - loss: 4.3796 - accuracy: 0.1406 - macro_f1score: 0.0103 - weighted_f1score: 2.2203e-04 - val_loss: 4.2399 - val_accuracy: 0.1685 - val_macro_f1score: 0.0137 - val_weighted_f1score: 2.6444e-04\n",
      "Epoch 8/60\n",
      "191/191 [==============================] - ETA: 0s - loss: 4.1519 - accuracy: 0.1687 - macro_f1score: 0.0138 - weighted_f1score: 2.6620e-04\n",
      "Epoch 00008: val_loss improved from 4.23993 to 4.01781, saving model to /content/drive/My Drive/Colab Notebooks/Paper/CALTECH/No_GAN/model_output/1/VGG11/008.h5\n",
      "\n",
      "Epoch 00008: val_accuracy improved from 0.16848 to 0.20482, saving model to /content/drive/My Drive/Colab Notebooks/Paper/CALTECH/No_GAN/model_output/1/VGG11/008.h5\n",
      "191/191 [==============================] - 450s 2s/step - loss: 4.1519 - accuracy: 0.1687 - macro_f1score: 0.0138 - weighted_f1score: 2.6620e-04 - val_loss: 4.0178 - val_accuracy: 0.2048 - val_macro_f1score: 0.0189 - val_weighted_f1score: 3.3525e-04\n",
      "Epoch 9/60\n",
      "191/191 [==============================] - ETA: 0s - loss: 3.9153 - accuracy: 0.1982 - macro_f1score: 0.0193 - weighted_f1score: 3.3643e-04\n",
      "Epoch 00009: val_loss improved from 4.01781 to 3.83451, saving model to /content/drive/My Drive/Colab Notebooks/Paper/CALTECH/No_GAN/model_output/1/VGG11/009.h5\n",
      "\n",
      "Epoch 00009: val_accuracy improved from 0.20482 to 0.22928, saving model to /content/drive/My Drive/Colab Notebooks/Paper/CALTECH/No_GAN/model_output/1/VGG11/009.h5\n",
      "191/191 [==============================] - 446s 2s/step - loss: 3.9153 - accuracy: 0.1982 - macro_f1score: 0.0193 - weighted_f1score: 3.3643e-04 - val_loss: 3.8345 - val_accuracy: 0.2293 - val_macro_f1score: 0.0265 - val_weighted_f1score: 4.2588e-04\n",
      "Epoch 10/60\n",
      "191/191 [==============================] - ETA: 0s - loss: 3.7051 - accuracy: 0.2241 - macro_f1score: 0.0249 - weighted_f1score: 4.0274e-04\n",
      "Epoch 00010: val_loss improved from 3.83451 to 3.68360, saving model to /content/drive/My Drive/Colab Notebooks/Paper/CALTECH/No_GAN/model_output/1/VGG11/010.h5\n",
      "\n",
      "Epoch 00010: val_accuracy improved from 0.22928 to 0.24932, saving model to /content/drive/My Drive/Colab Notebooks/Paper/CALTECH/No_GAN/model_output/1/VGG11/010.h5\n",
      "191/191 [==============================] - 458s 2s/step - loss: 3.7051 - accuracy: 0.2241 - macro_f1score: 0.0249 - weighted_f1score: 4.0274e-04 - val_loss: 3.6836 - val_accuracy: 0.2493 - val_macro_f1score: 0.0328 - val_weighted_f1score: 4.6969e-04\n",
      "Epoch 11/60\n",
      "191/191 [==============================] - ETA: 0s - loss: 3.4856 - accuracy: 0.2593 - macro_f1score: 0.0334 - weighted_f1score: 5.0203e-04\n",
      "Epoch 00011: val_loss improved from 3.68360 to 3.56174, saving model to /content/drive/My Drive/Colab Notebooks/Paper/CALTECH/No_GAN/model_output/1/VGG11/011.h5\n",
      "\n",
      "Epoch 00011: val_accuracy improved from 0.24932 to 0.27751, saving model to /content/drive/My Drive/Colab Notebooks/Paper/CALTECH/No_GAN/model_output/1/VGG11/011.h5\n",
      "191/191 [==============================] - 447s 2s/step - loss: 3.4856 - accuracy: 0.2593 - macro_f1score: 0.0334 - weighted_f1score: 5.0203e-04 - val_loss: 3.5617 - val_accuracy: 0.2775 - val_macro_f1score: 0.0411 - val_weighted_f1score: 5.8756e-04\n",
      "Epoch 12/60\n",
      "191/191 [==============================] - ETA: 0s - loss: 3.3153 - accuracy: 0.2866 - macro_f1score: 0.0396 - weighted_f1score: 5.5917e-04\n",
      "Epoch 00012: val_loss improved from 3.56174 to 3.43931, saving model to /content/drive/My Drive/Colab Notebooks/Paper/CALTECH/No_GAN/model_output/1/VGG11/012.h5\n",
      "\n",
      "Epoch 00012: val_accuracy improved from 0.27751 to 0.29450, saving model to /content/drive/My Drive/Colab Notebooks/Paper/CALTECH/No_GAN/model_output/1/VGG11/012.h5\n",
      "191/191 [==============================] - 452s 2s/step - loss: 3.3153 - accuracy: 0.2866 - macro_f1score: 0.0396 - weighted_f1score: 5.5917e-04 - val_loss: 3.4393 - val_accuracy: 0.2945 - val_macro_f1score: 0.0501 - val_weighted_f1score: 6.7056e-04\n",
      "Epoch 13/60\n",
      "191/191 [==============================] - ETA: 0s - loss: 3.1441 - accuracy: 0.3104 - macro_f1score: 0.0471 - weighted_f1score: 6.4894e-04\n",
      "Epoch 00013: val_loss improved from 3.43931 to 3.35555, saving model to /content/drive/My Drive/Colab Notebooks/Paper/CALTECH/No_GAN/model_output/1/VGG11/013.h5\n",
      "\n",
      "Epoch 00013: val_accuracy improved from 0.29450 to 0.31012, saving model to /content/drive/My Drive/Colab Notebooks/Paper/CALTECH/No_GAN/model_output/1/VGG11/013.h5\n",
      "191/191 [==============================] - 458s 2s/step - loss: 3.1441 - accuracy: 0.3104 - macro_f1score: 0.0471 - weighted_f1score: 6.4894e-04 - val_loss: 3.3555 - val_accuracy: 0.3101 - val_macro_f1score: 0.0532 - val_weighted_f1score: 7.2135e-04\n",
      "Epoch 14/60\n",
      "191/191 [==============================] - ETA: 0s - loss: 2.9684 - accuracy: 0.3376 - macro_f1score: 0.0567 - weighted_f1score: 7.4152e-04\n",
      "Epoch 00014: val_loss improved from 3.35555 to 3.32001, saving model to /content/drive/My Drive/Colab Notebooks/Paper/CALTECH/No_GAN/model_output/1/VGG11/014.h5\n",
      "\n",
      "Epoch 00014: val_accuracy did not improve from 0.31012\n",
      "191/191 [==============================] - 451s 2s/step - loss: 2.9684 - accuracy: 0.3376 - macro_f1score: 0.0567 - weighted_f1score: 7.4152e-04 - val_loss: 3.3200 - val_accuracy: 0.3101 - val_macro_f1score: 0.0622 - val_weighted_f1score: 7.9780e-04\n",
      "Epoch 15/60\n",
      "191/191 [==============================] - ETA: 0s - loss: 2.8231 - accuracy: 0.3604 - macro_f1score: 0.0649 - weighted_f1score: 8.3465e-04\n",
      "Epoch 00015: val_loss improved from 3.32001 to 3.28741, saving model to /content/drive/My Drive/Colab Notebooks/Paper/CALTECH/No_GAN/model_output/1/VGG11/015.h5\n",
      "\n",
      "Epoch 00015: val_accuracy improved from 0.31012 to 0.32405, saving model to /content/drive/My Drive/Colab Notebooks/Paper/CALTECH/No_GAN/model_output/1/VGG11/015.h5\n",
      "191/191 [==============================] - 483s 3s/step - loss: 2.8231 - accuracy: 0.3604 - macro_f1score: 0.0649 - weighted_f1score: 8.3465e-04 - val_loss: 3.2874 - val_accuracy: 0.3240 - val_macro_f1score: 0.0697 - val_weighted_f1score: 8.7970e-04\n",
      "Epoch 16/60\n",
      "191/191 [==============================] - ETA: 0s - loss: 2.6745 - accuracy: 0.3856 - macro_f1score: 0.0744 - weighted_f1score: 9.3715e-04\n",
      "Epoch 00016: val_loss improved from 3.28741 to 3.23227, saving model to /content/drive/My Drive/Colab Notebooks/Paper/CALTECH/No_GAN/model_output/1/VGG11/016.h5\n",
      "\n",
      "Epoch 00016: val_accuracy improved from 0.32405 to 0.34001, saving model to /content/drive/My Drive/Colab Notebooks/Paper/CALTECH/No_GAN/model_output/1/VGG11/016.h5\n",
      "191/191 [==============================] - 480s 3s/step - loss: 2.6745 - accuracy: 0.3856 - macro_f1score: 0.0744 - weighted_f1score: 9.3715e-04 - val_loss: 3.2323 - val_accuracy: 0.3400 - val_macro_f1score: 0.0773 - val_weighted_f1score: 9.2512e-04\n",
      "Epoch 17/60\n",
      "191/191 [==============================] - ETA: 0s - loss: 2.5239 - accuracy: 0.4122 - macro_f1score: 0.0843 - weighted_f1score: 0.0010\n",
      "Epoch 00017: val_loss did not improve from 3.23227\n",
      "\n",
      "Epoch 00017: val_accuracy improved from 0.34001 to 0.35156, saving model to /content/drive/My Drive/Colab Notebooks/Paper/CALTECH/No_GAN/model_output/1/VGG11/017.h5\n",
      "191/191 [==============================] - 462s 2s/step - loss: 2.5239 - accuracy: 0.4122 - macro_f1score: 0.0843 - weighted_f1score: 0.0010 - val_loss: 3.2525 - val_accuracy: 0.3516 - val_macro_f1score: 0.0781 - val_weighted_f1score: 9.8018e-04\n",
      "Epoch 18/60\n",
      "191/191 [==============================] - ETA: 0s - loss: 2.3882 - accuracy: 0.4350 - macro_f1score: 0.0920 - weighted_f1score: 0.0011\n",
      "Epoch 00018: val_loss did not improve from 3.23227\n",
      "\n",
      "Epoch 00018: val_accuracy did not improve from 0.35156\n",
      "191/191 [==============================] - 465s 2s/step - loss: 2.3882 - accuracy: 0.4350 - macro_f1score: 0.0920 - weighted_f1score: 0.0011 - val_loss: 3.2680 - val_accuracy: 0.3478 - val_macro_f1score: 0.0853 - val_weighted_f1score: 0.0010\n",
      "Epoch 19/60\n",
      "191/191 [==============================] - ETA: 0s - loss: 2.2629 - accuracy: 0.4556 - macro_f1score: 0.1027 - weighted_f1score: 0.0012\n",
      "Epoch 00019: val_loss did not improve from 3.23227\n",
      "\n",
      "Epoch 00019: val_accuracy did not improve from 0.35156\n",
      "191/191 [==============================] - 472s 2s/step - loss: 2.2629 - accuracy: 0.4556 - macro_f1score: 0.1027 - weighted_f1score: 0.0012 - val_loss: 3.2975 - val_accuracy: 0.3505 - val_macro_f1score: 0.0894 - val_weighted_f1score: 0.0011\n",
      "Epoch 20/60\n",
      "191/191 [==============================] - ETA: 0s - loss: 2.1209 - accuracy: 0.4825 - macro_f1score: 0.1153 - weighted_f1score: 0.0014\n",
      "Epoch 00020: val_loss did not improve from 3.23227\n",
      "\n",
      "Epoch 00020: val_accuracy improved from 0.35156 to 0.35836, saving model to /content/drive/My Drive/Colab Notebooks/Paper/CALTECH/No_GAN/model_output/1/VGG11/020.h5\n",
      "191/191 [==============================] - 486s 3s/step - loss: 2.1209 - accuracy: 0.4825 - macro_f1score: 0.1153 - weighted_f1score: 0.0014 - val_loss: 3.3317 - val_accuracy: 0.3584 - val_macro_f1score: 0.0933 - val_weighted_f1score: 0.0011\n",
      "Epoch 21/60\n",
      "191/191 [==============================] - ETA: 0s - loss: 2.0095 - accuracy: 0.5074 - macro_f1score: 0.1243 - weighted_f1score: 0.0015\n",
      "Epoch 00021: val_loss did not improve from 3.23227\n",
      "\n",
      "Epoch 00021: val_accuracy improved from 0.35836 to 0.36990, saving model to /content/drive/My Drive/Colab Notebooks/Paper/CALTECH/No_GAN/model_output/1/VGG11/021.h5\n",
      "191/191 [==============================] - 477s 2s/step - loss: 2.0095 - accuracy: 0.5074 - macro_f1score: 0.1243 - weighted_f1score: 0.0015 - val_loss: 3.3453 - val_accuracy: 0.3699 - val_macro_f1score: 0.0994 - val_weighted_f1score: 0.0012\n",
      "Epoch 22/60\n",
      "191/191 [==============================] - ETA: 0s - loss: 1.8774 - accuracy: 0.5314 - macro_f1score: 0.1360 - weighted_f1score: 0.0016\n",
      "Epoch 00022: val_loss did not improve from 3.23227\n",
      "\n",
      "Epoch 00022: val_accuracy did not improve from 0.36990\n",
      "191/191 [==============================] - 463s 2s/step - loss: 1.8774 - accuracy: 0.5314 - macro_f1score: 0.1360 - weighted_f1score: 0.0016 - val_loss: 3.4221 - val_accuracy: 0.3662 - val_macro_f1score: 0.0978 - val_weighted_f1score: 0.0012\n",
      "Epoch 23/60\n",
      "191/191 [==============================] - ETA: 0s - loss: 1.7632 - accuracy: 0.5560 - macro_f1score: 0.1470 - weighted_f1score: 0.0017\n",
      "Epoch 00023: val_loss did not improve from 3.23227\n",
      "\n",
      "Epoch 00023: val_accuracy did not improve from 0.36990\n",
      "191/191 [==============================] - 459s 2s/step - loss: 1.7632 - accuracy: 0.5560 - macro_f1score: 0.1470 - weighted_f1score: 0.0017 - val_loss: 3.5210 - val_accuracy: 0.3628 - val_macro_f1score: 0.1035 - val_weighted_f1score: 0.0012\n",
      "Epoch 24/60\n",
      "191/191 [==============================] - ETA: 0s - loss: 1.6547 - accuracy: 0.5779 - macro_f1score: 0.1592 - weighted_f1score: 0.0018\n",
      "Epoch 00024: val_loss did not improve from 3.23227\n",
      "\n",
      "Epoch 00024: val_accuracy did not improve from 0.36990\n",
      "191/191 [==============================] - 458s 2s/step - loss: 1.6547 - accuracy: 0.5779 - macro_f1score: 0.1592 - weighted_f1score: 0.0018 - val_loss: 3.5511 - val_accuracy: 0.3675 - val_macro_f1score: 0.1037 - val_weighted_f1score: 0.0013\n",
      "Epoch 25/60\n",
      "191/191 [==============================] - ETA: 0s - loss: 1.5678 - accuracy: 0.5964 - macro_f1score: 0.1671 - weighted_f1score: 0.0019\n",
      "Epoch 00025: val_loss did not improve from 3.23227\n",
      "\n",
      "Epoch 00025: val_accuracy did not improve from 0.36990\n",
      "191/191 [==============================] - 461s 2s/step - loss: 1.5678 - accuracy: 0.5964 - macro_f1score: 0.1671 - weighted_f1score: 0.0019 - val_loss: 3.6662 - val_accuracy: 0.3604 - val_macro_f1score: 0.1020 - val_weighted_f1score: 0.0012\n",
      "Epoch 26/60\n",
      "191/191 [==============================] - ETA: 0s - loss: 1.4473 - accuracy: 0.6238 - macro_f1score: 0.1803 - weighted_f1score: 0.0020\n",
      "Epoch 00026: val_loss did not improve from 3.23227\n",
      "\n",
      "Epoch 00026: val_accuracy did not improve from 0.36990\n",
      "191/191 [==============================] - 462s 2s/step - loss: 1.4473 - accuracy: 0.6238 - macro_f1score: 0.1803 - weighted_f1score: 0.0020 - val_loss: 3.7518 - val_accuracy: 0.3648 - val_macro_f1score: 0.1047 - val_weighted_f1score: 0.0013\n",
      "Epoch 27/60\n",
      "191/191 [==============================] - ETA: 0s - loss: 1.3604 - accuracy: 0.6427 - macro_f1score: 0.1892 - weighted_f1score: 0.0021\n",
      "Epoch 00027: val_loss did not improve from 3.23227\n",
      "\n",
      "Epoch 00027: val_accuracy improved from 0.36990 to 0.37194, saving model to /content/drive/My Drive/Colab Notebooks/Paper/CALTECH/No_GAN/model_output/1/VGG11/027.h5\n",
      "191/191 [==============================] - 461s 2s/step - loss: 1.3604 - accuracy: 0.6427 - macro_f1score: 0.1892 - weighted_f1score: 0.0021 - val_loss: 3.8118 - val_accuracy: 0.3719 - val_macro_f1score: 0.1083 - val_weighted_f1score: 0.0013\n",
      "Epoch 28/60\n",
      "191/191 [==============================] - ETA: 0s - loss: 1.2716 - accuracy: 0.6646 - macro_f1score: 0.1986 - weighted_f1score: 0.0022\n",
      "Epoch 00028: val_loss did not improve from 3.23227\n",
      "\n",
      "Epoch 00028: val_accuracy did not improve from 0.37194\n",
      "191/191 [==============================] - 464s 2s/step - loss: 1.2716 - accuracy: 0.6646 - macro_f1score: 0.1986 - weighted_f1score: 0.0022 - val_loss: 3.8576 - val_accuracy: 0.3682 - val_macro_f1score: 0.1108 - val_weighted_f1score: 0.0013\n",
      "Epoch 29/60\n",
      "191/191 [==============================] - ETA: 0s - loss: 1.1990 - accuracy: 0.6821 - macro_f1score: 0.2096 - weighted_f1score: 0.0023\n",
      "Epoch 00029: val_loss did not improve from 3.23227\n",
      "\n",
      "Epoch 00029: val_accuracy did not improve from 0.37194\n",
      "191/191 [==============================] - 459s 2s/step - loss: 1.1990 - accuracy: 0.6821 - macro_f1score: 0.2096 - weighted_f1score: 0.0023 - val_loss: 4.0515 - val_accuracy: 0.3706 - val_macro_f1score: 0.1090 - val_weighted_f1score: 0.0013\n",
      "Epoch 30/60\n",
      "191/191 [==============================] - ETA: 0s - loss: 1.1073 - accuracy: 0.6997 - macro_f1score: 0.2168 - weighted_f1score: 0.0024\n",
      "Epoch 00030: val_loss did not improve from 3.23227\n",
      "\n",
      "Epoch 00030: val_accuracy did not improve from 0.37194\n",
      "191/191 [==============================] - 460s 2s/step - loss: 1.1073 - accuracy: 0.6997 - macro_f1score: 0.2168 - weighted_f1score: 0.0024 - val_loss: 4.1248 - val_accuracy: 0.3648 - val_macro_f1score: 0.1108 - val_weighted_f1score: 0.0013\n",
      "Epoch 31/60\n",
      "191/191 [==============================] - ETA: 0s - loss: 1.0472 - accuracy: 0.7162 - macro_f1score: 0.2273 - weighted_f1score: 0.0025\n",
      "Epoch 00031: val_loss did not improve from 3.23227\n",
      "\n",
      "Epoch 00031: val_accuracy did not improve from 0.37194\n",
      "191/191 [==============================] - 460s 2s/step - loss: 1.0472 - accuracy: 0.7162 - macro_f1score: 0.2273 - weighted_f1score: 0.0025 - val_loss: 4.2260 - val_accuracy: 0.3597 - val_macro_f1score: 0.1083 - val_weighted_f1score: 0.0013\n",
      "Epoch 32/60\n",
      "191/191 [==============================] - ETA: 0s - loss: 0.9920 - accuracy: 0.7323 - macro_f1score: 0.2336 - weighted_f1score: 0.0026\n",
      "Epoch 00032: val_loss did not improve from 3.23227\n",
      "\n",
      "Epoch 00032: val_accuracy did not improve from 0.37194\n",
      "191/191 [==============================] - 463s 2s/step - loss: 0.9920 - accuracy: 0.7323 - macro_f1score: 0.2336 - weighted_f1score: 0.0026 - val_loss: 4.2756 - val_accuracy: 0.3679 - val_macro_f1score: 0.1117 - val_weighted_f1score: 0.0013\n",
      "Epoch 33/60\n",
      "191/191 [==============================] - ETA: 0s - loss: 0.9403 - accuracy: 0.7443 - macro_f1score: 0.2401 - weighted_f1score: 0.0026\n",
      "Epoch 00033: val_loss did not improve from 3.23227\n",
      "\n",
      "Epoch 00033: val_accuracy did not improve from 0.37194\n",
      "191/191 [==============================] - 465s 2s/step - loss: 0.9403 - accuracy: 0.7443 - macro_f1score: 0.2401 - weighted_f1score: 0.0026 - val_loss: 4.3115 - val_accuracy: 0.3645 - val_macro_f1score: 0.1072 - val_weighted_f1score: 0.0013\n",
      "Epoch 34/60\n",
      "191/191 [==============================] - ETA: 0s - loss: 0.8762 - accuracy: 0.7605 - macro_f1score: 0.2510 - weighted_f1score: 0.0027\n",
      "Epoch 00034: val_loss did not improve from 3.23227\n",
      "\n",
      "Epoch 00034: val_accuracy improved from 0.37194 to 0.37738, saving model to /content/drive/My Drive/Colab Notebooks/Paper/CALTECH/No_GAN/model_output/1/VGG11/034.h5\n",
      "191/191 [==============================] - 473s 2s/step - loss: 0.8762 - accuracy: 0.7605 - macro_f1score: 0.2510 - weighted_f1score: 0.0027 - val_loss: 4.3546 - val_accuracy: 0.3774 - val_macro_f1score: 0.1144 - val_weighted_f1score: 0.0014\n",
      "Epoch 35/60\n",
      "191/191 [==============================] - ETA: 0s - loss: 0.8367 - accuracy: 0.7674 - macro_f1score: 0.2526 - weighted_f1score: 0.0028\n",
      "Epoch 00035: val_loss did not improve from 3.23227\n",
      "\n",
      "Epoch 00035: val_accuracy did not improve from 0.37738\n",
      "191/191 [==============================] - 468s 2s/step - loss: 0.8367 - accuracy: 0.7674 - macro_f1score: 0.2526 - weighted_f1score: 0.0028 - val_loss: 4.4307 - val_accuracy: 0.3665 - val_macro_f1score: 0.1150 - val_weighted_f1score: 0.0014\n",
      "Epoch 36/60\n",
      "191/191 [==============================] - ETA: 0s - loss: 0.7828 - accuracy: 0.7840 - macro_f1score: 0.2624 - weighted_f1score: 0.0028\n",
      "Epoch 00036: val_loss did not improve from 3.23227\n",
      "\n",
      "Epoch 00036: val_accuracy did not improve from 0.37738\n",
      "191/191 [==============================] - 465s 2s/step - loss: 0.7828 - accuracy: 0.7840 - macro_f1score: 0.2624 - weighted_f1score: 0.0028 - val_loss: 4.4654 - val_accuracy: 0.3696 - val_macro_f1score: 0.1106 - val_weighted_f1score: 0.0013\n",
      "Epoch 37/60\n",
      "191/191 [==============================] - ETA: 0s - loss: 0.7462 - accuracy: 0.7953 - macro_f1score: 0.2680 - weighted_f1score: 0.0029\n",
      "Epoch 00037: val_loss did not improve from 3.23227\n",
      "\n",
      "Epoch 00037: val_accuracy did not improve from 0.37738\n",
      "191/191 [==============================] - 466s 2s/step - loss: 0.7462 - accuracy: 0.7953 - macro_f1score: 0.2680 - weighted_f1score: 0.0029 - val_loss: 4.5035 - val_accuracy: 0.3764 - val_macro_f1score: 0.1160 - val_weighted_f1score: 0.0013\n",
      "Epoch 38/60\n",
      "191/191 [==============================] - ETA: 0s - loss: 0.6987 - accuracy: 0.8054 - macro_f1score: 0.2744 - weighted_f1score: 0.0030\n",
      "Epoch 00038: val_loss did not improve from 3.23227\n",
      "\n",
      "Epoch 00038: val_accuracy did not improve from 0.37738\n",
      "191/191 [==============================] - 459s 2s/step - loss: 0.6987 - accuracy: 0.8054 - macro_f1score: 0.2744 - weighted_f1score: 0.0030 - val_loss: 4.6705 - val_accuracy: 0.3730 - val_macro_f1score: 0.1146 - val_weighted_f1score: 0.0014\n",
      "Epoch 39/60\n",
      "191/191 [==============================] - ETA: 0s - loss: 0.6864 - accuracy: 0.8078 - macro_f1score: 0.2744 - weighted_f1score: 0.0030\n",
      "Epoch 00039: val_loss did not improve from 3.23227\n",
      "\n",
      "Epoch 00039: val_accuracy did not improve from 0.37738\n",
      "191/191 [==============================] - 462s 2s/step - loss: 0.6864 - accuracy: 0.8078 - macro_f1score: 0.2744 - weighted_f1score: 0.0030 - val_loss: 4.8264 - val_accuracy: 0.3624 - val_macro_f1score: 0.1146 - val_weighted_f1score: 0.0014\n",
      "Epoch 40/60\n",
      "191/191 [==============================] - ETA: 0s - loss: 0.6339 - accuracy: 0.8222 - macro_f1score: 0.2817 - weighted_f1score: 0.0030\n",
      "Epoch 00040: val_loss did not improve from 3.23227\n",
      "\n",
      "Epoch 00040: val_accuracy did not improve from 0.37738\n",
      "191/191 [==============================] - 461s 2s/step - loss: 0.6339 - accuracy: 0.8222 - macro_f1score: 0.2817 - weighted_f1score: 0.0030 - val_loss: 4.7117 - val_accuracy: 0.3730 - val_macro_f1score: 0.1148 - val_weighted_f1score: 0.0014\n",
      "Epoch 41/60\n",
      "191/191 [==============================] - ETA: 0s - loss: 0.6112 - accuracy: 0.8273 - macro_f1score: 0.2850 - weighted_f1score: 0.0031\n",
      "Epoch 00041: val_loss did not improve from 3.23227\n",
      "\n",
      "Epoch 00041: val_accuracy did not improve from 0.37738\n",
      "191/191 [==============================] - 462s 2s/step - loss: 0.6112 - accuracy: 0.8273 - macro_f1score: 0.2850 - weighted_f1score: 0.0031 - val_loss: 4.8016 - val_accuracy: 0.3736 - val_macro_f1score: 0.1199 - val_weighted_f1score: 0.0014\n",
      "Epoch 42/60\n",
      "191/191 [==============================] - ETA: 0s - loss: 0.6129 - accuracy: 0.8310 - macro_f1score: 0.2874 - weighted_f1score: 0.0031\n",
      "Epoch 00042: val_loss did not improve from 3.23227\n",
      "\n",
      "Epoch 00042: val_accuracy did not improve from 0.37738\n",
      "191/191 [==============================] - 460s 2s/step - loss: 0.6129 - accuracy: 0.8310 - macro_f1score: 0.2874 - weighted_f1score: 0.0031 - val_loss: 4.6834 - val_accuracy: 0.3750 - val_macro_f1score: 0.1139 - val_weighted_f1score: 0.0014\n",
      "Epoch 43/60\n",
      "191/191 [==============================] - ETA: 0s - loss: 0.5595 - accuracy: 0.8424 - macro_f1score: 0.2937 - weighted_f1score: 0.0031\n",
      "Epoch 00043: val_loss did not improve from 3.23227\n",
      "\n",
      "Epoch 00043: val_accuracy improved from 0.37738 to 0.38247, saving model to /content/drive/My Drive/Colab Notebooks/Paper/CALTECH/No_GAN/model_output/1/VGG11/043.h5\n",
      "191/191 [==============================] - 470s 2s/step - loss: 0.5595 - accuracy: 0.8424 - macro_f1score: 0.2937 - weighted_f1score: 0.0031 - val_loss: 4.8435 - val_accuracy: 0.3825 - val_macro_f1score: 0.1159 - val_weighted_f1score: 0.0014\n",
      "Epoch 44/60\n",
      "191/191 [==============================] - ETA: 0s - loss: 0.5497 - accuracy: 0.8466 - macro_f1score: 0.2947 - weighted_f1score: 0.0032\n",
      "Epoch 00044: val_loss did not improve from 3.23227\n",
      "\n",
      "Epoch 00044: val_accuracy did not improve from 0.38247\n",
      "191/191 [==============================] - 458s 2s/step - loss: 0.5497 - accuracy: 0.8466 - macro_f1score: 0.2947 - weighted_f1score: 0.0032 - val_loss: 4.8569 - val_accuracy: 0.3699 - val_macro_f1score: 0.1121 - val_weighted_f1score: 0.0014\n",
      "Epoch 45/60\n",
      "191/191 [==============================] - ETA: 0s - loss: 0.5529 - accuracy: 0.8448 - macro_f1score: 0.2935 - weighted_f1score: 0.0032\n",
      "Epoch 00045: val_loss did not improve from 3.23227\n",
      "\n",
      "Epoch 00045: val_accuracy did not improve from 0.38247\n",
      "191/191 [==============================] - 450s 2s/step - loss: 0.5529 - accuracy: 0.8448 - macro_f1score: 0.2935 - weighted_f1score: 0.0032 - val_loss: 4.8477 - val_accuracy: 0.3757 - val_macro_f1score: 0.1161 - val_weighted_f1score: 0.0014\n",
      "Epoch 46/60\n",
      "191/191 [==============================] - ETA: 0s - loss: 0.5196 - accuracy: 0.8551 - macro_f1score: 0.3000 - weighted_f1score: 0.0032\n",
      "Epoch 00046: val_loss did not improve from 3.23227\n",
      "\n",
      "Epoch 00046: val_accuracy did not improve from 0.38247\n",
      "191/191 [==============================] - 451s 2s/step - loss: 0.5196 - accuracy: 0.8551 - macro_f1score: 0.3000 - weighted_f1score: 0.0032 - val_loss: 4.8842 - val_accuracy: 0.3709 - val_macro_f1score: 0.1150 - val_weighted_f1score: 0.0014\n",
      "Epoch 47/60\n",
      "191/191 [==============================] - ETA: 0s - loss: 0.4970 - accuracy: 0.8594 - macro_f1score: 0.3016 - weighted_f1score: 0.0032\n",
      "Epoch 00047: val_loss did not improve from 3.23227\n",
      "\n",
      "Epoch 00047: val_accuracy did not improve from 0.38247\n",
      "191/191 [==============================] - 447s 2s/step - loss: 0.4970 - accuracy: 0.8594 - macro_f1score: 0.3016 - weighted_f1score: 0.0032 - val_loss: 5.0002 - val_accuracy: 0.3594 - val_macro_f1score: 0.1148 - val_weighted_f1score: 0.0014\n",
      "Epoch 48/60\n",
      "191/191 [==============================] - ETA: 0s - loss: 0.4807 - accuracy: 0.8633 - macro_f1score: 0.3042 - weighted_f1score: 0.0032\n",
      "Epoch 00048: val_loss did not improve from 3.23227\n",
      "\n",
      "Epoch 00048: val_accuracy did not improve from 0.38247\n",
      "191/191 [==============================] - 453s 2s/step - loss: 0.4807 - accuracy: 0.8633 - macro_f1score: 0.3042 - weighted_f1score: 0.0032 - val_loss: 4.9816 - val_accuracy: 0.3747 - val_macro_f1score: 0.1152 - val_weighted_f1score: 0.0014\n",
      "Epoch 49/60\n",
      "191/191 [==============================] - ETA: 0s - loss: 0.4770 - accuracy: 0.8643 - macro_f1score: 0.3061 - weighted_f1score: 0.0032\n",
      "Epoch 00049: val_loss did not improve from 3.23227\n",
      "\n",
      "Epoch 00049: val_accuracy did not improve from 0.38247\n",
      "191/191 [==============================] - 455s 2s/step - loss: 0.4770 - accuracy: 0.8643 - macro_f1score: 0.3061 - weighted_f1score: 0.0032 - val_loss: 4.9303 - val_accuracy: 0.3699 - val_macro_f1score: 0.1168 - val_weighted_f1score: 0.0014\n",
      "Epoch 50/60\n",
      "191/191 [==============================] - ETA: 0s - loss: 0.4775 - accuracy: 0.8658 - macro_f1score: 0.3057 - weighted_f1score: 0.0033\n",
      "Epoch 00050: val_loss did not improve from 3.23227\n",
      "\n",
      "Epoch 00050: val_accuracy did not improve from 0.38247\n",
      "191/191 [==============================] - 454s 2s/step - loss: 0.4775 - accuracy: 0.8658 - macro_f1score: 0.3057 - weighted_f1score: 0.0033 - val_loss: 5.0962 - val_accuracy: 0.3665 - val_macro_f1score: 0.1112 - val_weighted_f1score: 0.0013\n",
      "Epoch 51/60\n",
      "191/191 [==============================] - ETA: 0s - loss: 0.4532 - accuracy: 0.8727 - macro_f1score: 0.3093 - weighted_f1score: 0.0033\n",
      "Epoch 00051: val_loss did not improve from 3.23227\n",
      "\n",
      "Epoch 00051: val_accuracy did not improve from 0.38247\n",
      "191/191 [==============================] - 451s 2s/step - loss: 0.4532 - accuracy: 0.8727 - macro_f1score: 0.3093 - weighted_f1score: 0.0033 - val_loss: 5.0040 - val_accuracy: 0.3679 - val_macro_f1score: 0.1138 - val_weighted_f1score: 0.0014\n",
      "Epoch 52/60\n",
      "191/191 [==============================] - ETA: 0s - loss: 0.4189 - accuracy: 0.8808 - macro_f1score: 0.3113 - weighted_f1score: 0.0033\n",
      "Epoch 00052: val_loss did not improve from 3.23227\n",
      "\n",
      "Epoch 00052: val_accuracy did not improve from 0.38247\n",
      "191/191 [==============================] - 453s 2s/step - loss: 0.4189 - accuracy: 0.8808 - macro_f1score: 0.3113 - weighted_f1score: 0.0033 - val_loss: 5.2504 - val_accuracy: 0.3733 - val_macro_f1score: 0.1154 - val_weighted_f1score: 0.0014\n",
      "Epoch 53/60\n",
      "191/191 [==============================] - ETA: 0s - loss: 0.4245 - accuracy: 0.8796 - macro_f1score: 0.3145 - weighted_f1score: 0.0033\n",
      "Epoch 00053: val_loss did not improve from 3.23227\n",
      "\n",
      "Epoch 00053: val_accuracy did not improve from 0.38247\n",
      "191/191 [==============================] - 445s 2s/step - loss: 0.4245 - accuracy: 0.8796 - macro_f1score: 0.3145 - weighted_f1score: 0.0033 - val_loss: 4.9995 - val_accuracy: 0.3658 - val_macro_f1score: 0.1108 - val_weighted_f1score: 0.0013\n",
      "Epoch 54/60\n",
      "191/191 [==============================] - ETA: 0s - loss: 0.4120 - accuracy: 0.8825 - macro_f1score: 0.3158 - weighted_f1score: 0.0033\n",
      "Epoch 00054: val_loss did not improve from 3.23227\n",
      "\n",
      "Epoch 00054: val_accuracy did not improve from 0.38247\n",
      "191/191 [==============================] - 440s 2s/step - loss: 0.4120 - accuracy: 0.8825 - macro_f1score: 0.3158 - weighted_f1score: 0.0033 - val_loss: 5.0871 - val_accuracy: 0.3730 - val_macro_f1score: 0.1161 - val_weighted_f1score: 0.0014\n",
      "Epoch 55/60\n",
      "191/191 [==============================] - ETA: 0s - loss: 0.4001 - accuracy: 0.8867 - macro_f1score: 0.3166 - weighted_f1score: 0.0034\n",
      "Epoch 00055: val_loss did not improve from 3.23227\n",
      "\n",
      "Epoch 00055: val_accuracy did not improve from 0.38247\n",
      "191/191 [==============================] - 441s 2s/step - loss: 0.4001 - accuracy: 0.8867 - macro_f1score: 0.3166 - weighted_f1score: 0.0034 - val_loss: 5.0753 - val_accuracy: 0.3821 - val_macro_f1score: 0.1185 - val_weighted_f1score: 0.0014\n",
      "Epoch 56/60\n",
      "191/191 [==============================] - ETA: 0s - loss: 0.3875 - accuracy: 0.8881 - macro_f1score: 0.3188 - weighted_f1score: 0.0034\n",
      "Epoch 00056: val_loss did not improve from 3.23227\n",
      "\n",
      "Epoch 00056: val_accuracy did not improve from 0.38247\n",
      "191/191 [==============================] - 445s 2s/step - loss: 0.3875 - accuracy: 0.8881 - macro_f1score: 0.3188 - weighted_f1score: 0.0034 - val_loss: 5.1406 - val_accuracy: 0.3740 - val_macro_f1score: 0.1177 - val_weighted_f1score: 0.0014\n",
      "Epoch 57/60\n",
      "191/191 [==============================] - ETA: 0s - loss: 0.3878 - accuracy: 0.8900 - macro_f1score: 0.3180 - weighted_f1score: 0.0034\n",
      "Epoch 00057: val_loss did not improve from 3.23227\n",
      "\n",
      "Epoch 00057: val_accuracy did not improve from 0.38247\n",
      "191/191 [==============================] - 448s 2s/step - loss: 0.3878 - accuracy: 0.8900 - macro_f1score: 0.3180 - weighted_f1score: 0.0034 - val_loss: 5.2340 - val_accuracy: 0.3736 - val_macro_f1score: 0.1174 - val_weighted_f1score: 0.0014\n",
      "Epoch 58/60\n",
      "191/191 [==============================] - ETA: 0s - loss: 0.3869 - accuracy: 0.8912 - macro_f1score: 0.3181 - weighted_f1score: 0.0034\n",
      "Epoch 00058: val_loss did not improve from 3.23227\n",
      "\n",
      "Epoch 00058: val_accuracy did not improve from 0.38247\n",
      "191/191 [==============================] - 451s 2s/step - loss: 0.3869 - accuracy: 0.8912 - macro_f1score: 0.3181 - weighted_f1score: 0.0034 - val_loss: 5.1751 - val_accuracy: 0.3760 - val_macro_f1score: 0.1207 - val_weighted_f1score: 0.0014\n",
      "Epoch 59/60\n",
      "191/191 [==============================] - ETA: 0s - loss: 0.3817 - accuracy: 0.8892 - macro_f1score: 0.3179 - weighted_f1score: 0.0034\n",
      "Epoch 00059: val_loss did not improve from 3.23227\n",
      "\n",
      "Epoch 00059: val_accuracy did not improve from 0.38247\n",
      "191/191 [==============================] - 442s 2s/step - loss: 0.3817 - accuracy: 0.8892 - macro_f1score: 0.3179 - weighted_f1score: 0.0034 - val_loss: 5.2494 - val_accuracy: 0.3770 - val_macro_f1score: 0.1168 - val_weighted_f1score: 0.0014\n",
      "Epoch 60/60\n",
      "191/191 [==============================] - ETA: 0s - loss: 0.3589 - accuracy: 0.8944 - macro_f1score: 0.3198 - weighted_f1score: 0.0034\n",
      "Epoch 00060: val_loss did not improve from 3.23227\n",
      "\n",
      "Epoch 00060: val_accuracy did not improve from 0.38247\n",
      "191/191 [==============================] - 437s 2s/step - loss: 0.3589 - accuracy: 0.8944 - macro_f1score: 0.3198 - weighted_f1score: 0.0034 - val_loss: 5.2558 - val_accuracy: 0.3689 - val_macro_f1score: 0.1144 - val_weighted_f1score: 0.0014\n"
     ]
    }
   ],
   "source": [
    "######## flow_from_directory\n",
    "history = model.fit(train_generator, steps_per_epoch=int(len(x_train)/batch_sizes),  validation_data = valid_generator, epochs=epochs , verbose=1 , callbacks = callbacks_list , validation_steps=int(len(x_valid)/batch_sizes))"
   ]
  },
  {
   "cell_type": "markdown",
   "metadata": {
    "colab_type": "text",
    "id": "l_eZZtnNOWa8"
   },
   "source": [
    "### 2) VGG11 Evaluate\n"
   ]
  },
  {
   "cell_type": "code",
   "execution_count": null,
   "metadata": {
    "colab": {
     "base_uri": "https://localhost:8080/",
     "height": 70
    },
    "colab_type": "code",
    "executionInfo": {
     "elapsed": 42376198,
     "status": "ok",
     "timestamp": 1599355982867,
     "user": {
      "displayName": "이동규",
      "photoUrl": "",
      "userId": "04369103463727261091"
     },
     "user_tz": -540
    },
    "id": "86uJN-GTOWa9",
    "outputId": "17a6aabe-0b44-440c-e490-8476fef30f45"
   },
   "outputs": [
    {
     "name": "stdout",
     "output_type": "stream",
     "text": [
      "24/24 [==============================] - 1481s 62s/step - loss: 5.3793 - accuracy: 0.3564 - macro_f1score: 0.1112 - weighted_f1score: 0.0013\n",
      "[Test Loss: 5.3793 /  Test Accuracy: 0.3564 / Test Macro f1: 0.1112 / Test Weighted f1: 0.0013]\n",
      "\n"
     ]
    }
   ],
   "source": [
    "# 1. epoch=maximum\n",
    "loss , acc, mf1, wf1 = model.evaluate(test_generator,steps=int(len(x_test)/batch_sizes))\n",
    "print('[Test Loss: %.4f /  Test Accuracy: %.4f / Test Macro f1: %.4f / Test Weighted f1: %.4f]\\n' % (loss,acc,mf1,wf1))"
   ]
  },
  {
   "cell_type": "code",
   "execution_count": null,
   "metadata": {
    "colab": {},
    "colab_type": "code",
    "id": "EYKuDuXsOWa_"
   },
   "outputs": [],
   "source": [
    "loss=history.history['loss']\n",
    "val_loss=history.history['val_loss']\n",
    "acc=history.history['accuracy']\n",
    "val_acc=history.history['val_accuracy']\n",
    "f1=history.history['macro_f1score']\n",
    "val_f1=history.history['val_macro_f1score']\n",
    "epochs=range(1,len(acc)+1)\n",
    "\n",
    "data = np.array([epochs,loss,val_loss,acc,val_acc,f1,val_f1]).T"
   ]
  },
  {
   "cell_type": "code",
   "execution_count": null,
   "metadata": {
    "colab": {},
    "colab_type": "code",
    "id": "crl5dTT6OWbD"
   },
   "outputs": [],
   "source": [
    "# data save\n",
    "# epochs, loss, val_loss, acc, val_acc, f1, val_f1\n",
    "\n",
    "np.savetxt(os.path.join(dir,'train_valid_output',number,model.name+'.txt'),data)"
   ]
  },
  {
   "cell_type": "code",
   "execution_count": null,
   "metadata": {
    "colab": {},
    "colab_type": "code",
    "id": "YVzDyUzKOWbF"
   },
   "outputs": [],
   "source": [
    "# data import\n",
    "data = np.loadtxt(os.path.join(dir,'train_valid_output',number,'VGG11.txt'))"
   ]
  },
  {
   "cell_type": "code",
   "execution_count": null,
   "metadata": {
    "colab": {},
    "colab_type": "code",
    "id": "cBFtsleeOWbI"
   },
   "outputs": [],
   "source": [
    "epochs=data[:,0]\n",
    "loss=data[:,1]\n",
    "val_loss=data[:,2]\n",
    "acc=data[:,3]\n",
    "val_acc=data[:,4]"
   ]
  },
  {
   "cell_type": "code",
   "execution_count": null,
   "metadata": {
    "colab": {
     "base_uri": "https://localhost:8080/",
     "height": 545
    },
    "colab_type": "code",
    "executionInfo": {
     "elapsed": 42376956,
     "status": "ok",
     "timestamp": 1599355983700,
     "user": {
      "displayName": "이동규",
      "photoUrl": "",
      "userId": "04369103463727261091"
     },
     "user_tz": -540
    },
    "id": "ugsOfMprOWbL",
    "outputId": "a5b5f451-72c4-4ce4-c20a-b2e8a85cf970"
   },
   "outputs": [
    {
     "data": {
      "image/png": "[encoded data removed]",
      "text/plain": [
       "<Figure size 432x288 with 1 Axes>"
      ]
     },
     "metadata": {
      "needs_background": "light",
      "tags": []
     },
     "output_type": "display_data"
    },
    {
     "data": {
      "image/png": "[encoded data removed]",
      "text/plain": [
       "<Figure size 432x288 with 1 Axes>"
      ]
     },
     "metadata": {
      "needs_background": "light",
      "tags": []
     },
     "output_type": "display_data"
    }
   ],
   "source": [
    "plt.plot(epochs[1:],acc[1:],'b',label='Training Acc')\n",
    "plt.plot(epochs[1:],val_acc[1:],'r',label='Validation Acc')\n",
    "plt.title('Training and Validation Accuracy')\n",
    "plt.legend()\n",
    "plt.figure()\n",
    "plt.plot(epochs[1:],loss[1:],'b',label='Training Loss')\n",
    "plt.plot(epochs[1:],val_loss[1:],'r',label='Validation Loss')\n",
    "plt.title('Training and Validation Loss')\n",
    "plt.legend()\n",
    "plt.show()"
   ]
  },
  {
   "cell_type": "code",
   "execution_count": null,
   "metadata": {
    "colab": {},
    "colab_type": "code",
    "id": "ZcfDfrtpCFuB"
   },
   "outputs": [],
   "source": []
  },
  {
   "cell_type": "code",
   "execution_count": null,
   "metadata": {
    "colab": {},
    "colab_type": "code",
    "id": "a0z6BwcAulnw"
   },
   "outputs": [],
   "source": [
    "# 이 아래는 내가 인위적으로 살펴보고 싶은 epoch에 대해서 결과값 출력 / VGG11"
   ]
  },
  {
   "cell_type": "code",
   "execution_count": null,
   "metadata": {},
   "outputs": [],
   "source": [
    "model=load_model(os.path.join(dir,'model_output',number,'VGG11','007.h5'),custom_objects={\"macro_f1score\": macro_f1score,\"weighted_f1score\":weighted_f1score})"
   ]
  },
  {
   "cell_type": "code",
   "execution_count": null,
   "metadata": {
    "colab": {},
    "colab_type": "code",
    "id": "VWlrnY9EuDG-"
   },
   "outputs": [],
   "source": [
    "# 2. epoch=?\n",
    "loss , acc, mf1, wf1 = model.evaluate(test_generator,steps=int(len(x_test)/batch_sizes))\n",
    "print('[Test Loss: %.4f /  Test Accuracy: %.4f / Test Macro f1: %.4f / Test Weighted f1: %.4f]\\n' % (loss,acc,mf1,wf1))"
   ]
  }
 ],
 "metadata": {
  "accelerator": "GPU",
  "colab": {
   "collapsed_sections": [],
   "machine_shape": "hm",
   "name": "2.VGG11.ipynb",
   "provenance": []
  },
  "kernelspec": {
   "display_name": "Python 3",
   "language": "python",
   "name": "python3"
  },
  "language_info": {
   "codemirror_mode": {
    "name": "ipython",
    "version": 3
   },
   "file_extension": ".py",
   "mimetype": "text/x-python",
   "name": "python",
   "nbconvert_exporter": "python",
   "pygments_lexer": "ipython3",
   "version": "3.7.3"
  }
 },
 "nbformat": 4,
 "nbformat_minor": 1
}
